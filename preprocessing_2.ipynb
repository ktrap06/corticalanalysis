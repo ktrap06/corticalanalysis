{
 "cells": [
  {
   "cell_type": "code",
   "execution_count": null,
   "id": "890cbc3f-b778-4350-9e54-8d54c7317ad2",
   "metadata": {},
   "outputs": [],
   "source": [
    "\"\"\"install the packages to run this code\"\"\"\n",
    "#%pip install matplotlib tifffile scipy tqdm pybaselines"
   ]
  },
  {
   "cell_type": "code",
   "execution_count": 1,
   "id": "85c69df9-e7e7-426f-99e8-77954cb5a751",
   "metadata": {},
   "outputs": [],
   "source": [
    "import numpy as np\n",
    "import matplotlib.pyplot as plt\n",
    "import tifffile\n",
    "#import cv2\n",
    "#from PIL import Image\n",
    "#from pybaselines.whittaker import asls\n",
    "from scipy import interpolate\n",
    "from scipy.ndimage import gaussian_filter\n",
    "from scipy.signal import cheby1, filtfilt, find_peaks, peak_widths\n",
    "from tqdm import tqdm"
   ]
  },
  {
   "cell_type": "code",
   "execution_count": 11,
   "id": "ab604b92-7854-44c0-90be-c4b0f8122c29",
   "metadata": {},
   "outputs": [],
   "source": [
    "video_path = \"//files.ubc.ca/team/BNRC/NINC/Raymond Lab/Kaiiiii/cortical data/Pilot/2023_11_01/405700_f3_stage2_pilot_day3_violet.tif\""
   ]
  },
  {
   "cell_type": "code",
   "execution_count": 27,
   "id": "62cc9f86-5430-4173-a401-febf13719ec2",
   "metadata": {},
   "outputs": [],
   "source": [
    "def load_frames(video_path):\n",
    "    \"\"\"\n",
    "    Loads in tif stacks as a 3d array. Make sure the dtype is 12.\n",
    "    :param video_path: path to the file, including file name.tif\n",
    "\n",
    "    :return: 3d array of 128x128 x timeseries\n",
    "    \"\"\"\n",
    "\n",
    "    print(\"video loading please wait...\")\n",
    "    frames = tifffile.imread(video_path)\n",
    "    print(\"dimensions are\", frames.shape, \"as a\", frames.dtype)\n",
    "    return frames"
   ]
  },
  {
   "cell_type": "code",
   "execution_count": 28,
   "id": "60ea14f3-11c9-459a-bc49-77593e523a0b",
   "metadata": {},
   "outputs": [
    {
     "name": "stdout",
     "output_type": "stream",
     "text": [
      "video loading please wait...\n",
      "dimensions are (18133, 128, 128) as a uint16\n"
     ]
    }
   ],
   "source": [
    "load_frames(video_path);"
   ]
  },
  {
   "cell_type": "code",
   "execution_count": null,
   "id": "b3f1592c-b30e-4330-9a34-61ef2b21f2b3",
   "metadata": {},
   "outputs": [],
   "source": []
  },
  {
   "cell_type": "code",
   "execution_count": null,
   "id": "a0ac4800-168b-4be8-878e-80c51557770c",
   "metadata": {},
   "outputs": [],
   "source": []
  },
  {
   "cell_type": "code",
   "execution_count": null,
   "id": "97959e8e-9426-44ba-b0e7-b28e6734d4f1",
   "metadata": {},
   "outputs": [],
   "source": []
  },
  {
   "cell_type": "code",
   "execution_count": null,
   "id": "1f599093-ac93-4496-81e3-58b6cf75572e",
   "metadata": {},
   "outputs": [],
   "source": []
  },
  {
   "cell_type": "code",
   "execution_count": null,
   "id": "1af74d4d-b92d-438f-98ae-317fcbbb5d89",
   "metadata": {},
   "outputs": [],
   "source": []
  },
  {
   "cell_type": "code",
   "execution_count": null,
   "id": "465ca53f-6e3e-4ccf-a951-40de477a793f",
   "metadata": {},
   "outputs": [],
   "source": []
  },
  {
   "cell_type": "code",
   "execution_count": null,
   "id": "a4873f0b-d36a-40a9-85c7-6ee063262917",
   "metadata": {},
   "outputs": [],
   "source": []
  },
  {
   "cell_type": "code",
   "execution_count": null,
   "id": "3385a636-c674-402e-a2e2-def934e71ffa",
   "metadata": {},
   "outputs": [],
   "source": []
  }
 ],
 "metadata": {
  "kernelspec": {
   "display_name": "Python 3 (ipykernel)",
   "language": "python",
   "name": "python3"
  },
  "language_info": {
   "codemirror_mode": {
    "name": "ipython",
    "version": 3
   },
   "file_extension": ".py",
   "mimetype": "text/x-python",
   "name": "python",
   "nbconvert_exporter": "python",
   "pygments_lexer": "ipython3",
   "version": "3.12.0"
  }
 },
 "nbformat": 4,
 "nbformat_minor": 5
}
