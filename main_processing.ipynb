{
 "cells": [
  {
   "cell_type": "code",
   "execution_count": 16,
   "id": "308456e6-8fd9-4937-94fb-5a77ffe98a6f",
   "metadata": {},
   "outputs": [
    {
     "name": "stdout",
     "output_type": "stream",
     "text": [
      "video loading please wait...\n",
      "dimensions are (18133, 128, 128) as a uint16\n"
     ]
    }
   ],
   "source": [
    "import numpy as np\n",
    "import matplotlib.pyplot as plt\n",
    "import tifffile\n",
    "#import cv2\n",
    "#from PIL import Image\n",
    "#from pybaselines.whittaker import asls\n",
    "from scipy import interpolate\n",
    "from scipy.ndimage import gaussian_filter\n",
    "from scipy.signal import cheby1, filtfilt, find_peaks, peak_widths\n",
    "from tqdm import tqdm\n",
    "\n",
    "from preprocessing_functions import (load_frames)"
   ]
  },
  {
   "cell_type": "code",
   "execution_count": 17,
   "id": "99a560e4-3d6c-416e-b01f-4d2e48ac5a4d",
   "metadata": {},
   "outputs": [],
   "source": [
    "video_11_01 = \"//files.ubc.ca/team/BNRC/NINC/Raymond Lab/Kaiiiii/cortical data/Pilot/2023_11_01/405700_f3_stage2_pilot_day3_violet.tif\""
   ]
  },
  {
   "cell_type": "code",
   "execution_count": 18,
   "id": "911e1f98-6344-4685-96e9-16f3eb014378",
   "metadata": {},
   "outputs": [
    {
     "name": "stdout",
     "output_type": "stream",
     "text": [
      "video loading please wait...\n",
      "dimensions are (18133, 128, 128) as a uint16\n"
     ]
    }
   ],
   "source": [
    "load_frames(video_11_01);"
   ]
  },
  {
   "cell_type": "code",
   "execution_count": null,
   "id": "20cd0cd8-e7e3-49bf-8c07-05c4bc528b6d",
   "metadata": {},
   "outputs": [],
   "source": []
  },
  {
   "cell_type": "code",
   "execution_count": null,
   "id": "34bff4c7-d419-4857-b58f-c9e6e4bd79b5",
   "metadata": {},
   "outputs": [],
   "source": []
  },
  {
   "cell_type": "code",
   "execution_count": null,
   "id": "32ebd2bf-69ab-4c2c-9794-6d0ac9b2885e",
   "metadata": {},
   "outputs": [],
   "source": []
  },
  {
   "cell_type": "code",
   "execution_count": null,
   "id": "2b073ce1-c07e-4cc9-95b2-bb2251cd7109",
   "metadata": {},
   "outputs": [],
   "source": []
  },
  {
   "cell_type": "code",
   "execution_count": null,
   "id": "29e2d749-f55c-455f-8301-0f89e1ba02d0",
   "metadata": {},
   "outputs": [],
   "source": []
  },
  {
   "cell_type": "code",
   "execution_count": null,
   "id": "9cfdb9c5-db7c-4365-8d09-254f73e51ef7",
   "metadata": {},
   "outputs": [],
   "source": []
  }
 ],
 "metadata": {
  "kernelspec": {
   "display_name": "Python 3 (ipykernel)",
   "language": "python",
   "name": "python3"
  },
  "language_info": {
   "codemirror_mode": {
    "name": "ipython",
    "version": 3
   },
   "file_extension": ".py",
   "mimetype": "text/x-python",
   "name": "python",
   "nbconvert_exporter": "python",
   "pygments_lexer": "ipython3",
   "version": "3.12.0"
  }
 },
 "nbformat": 4,
 "nbformat_minor": 5
}
