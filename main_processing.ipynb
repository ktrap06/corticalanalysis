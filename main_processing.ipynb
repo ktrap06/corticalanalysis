{
 "cells": [
  {
   "cell_type": "code",
   "execution_count": 1,
   "id": "308456e6-8fd9-4937-94fb-5a77ffe98a6f",
   "metadata": {},
   "outputs": [
    {
     "ename": "SyntaxError",
     "evalue": "invalid syntax (3367498642.py, line 12)",
     "output_type": "error",
     "traceback": [
      "\u001b[1;36m  Cell \u001b[1;32mIn[1], line 12\u001b[1;36m\u001b[0m\n\u001b[1;33m    from Cortical-processing.preprocessing import (load_video)\u001b[0m\n\u001b[1;37m                 ^\u001b[0m\n\u001b[1;31mSyntaxError\u001b[0m\u001b[1;31m:\u001b[0m invalid syntax\n"
     ]
    }
   ],
   "source": [
    "import numpy as np\n",
    "import matplotlib.pyplot as plt\n",
    "import tifffile\n",
    "#import cv2\n",
    "#from PIL import Image\n",
    "#from pybaselines.whittaker import asls\n",
    "from scipy import interpolate\n",
    "from scipy.ndimage import gaussian_filter\n",
    "from scipy.signal import cheby1, filtfilt, find_peaks, peak_widths\n",
    "from tqdm import tqdm\n",
    "\n",
    "from dataanalysis.preprocessing_2 import (load_video)"
   ]
  },
  {
   "cell_type": "code",
   "execution_count": null,
   "id": "911e1f98-6344-4685-96e9-16f3eb014378",
   "metadata": {},
   "outputs": [],
   "source": [
    "load_frames(video_path);"
   ]
  },
  {
   "cell_type": "code",
   "execution_count": null,
   "id": "20cd0cd8-e7e3-49bf-8c07-05c4bc528b6d",
   "metadata": {},
   "outputs": [],
   "source": []
  }
 ],
 "metadata": {
  "kernelspec": {
   "display_name": "Python 3 (ipykernel)",
   "language": "python",
   "name": "python3"
  },
  "language_info": {
   "codemirror_mode": {
    "name": "ipython",
    "version": 3
   },
   "file_extension": ".py",
   "mimetype": "text/x-python",
   "name": "python",
   "nbconvert_exporter": "python",
   "pygments_lexer": "ipython3",
   "version": "3.12.0"
  }
 },
 "nbformat": 4,
 "nbformat_minor": 5
}
