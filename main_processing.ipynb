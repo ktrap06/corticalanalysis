{
 "cells": [
  {
   "cell_type": "markdown",
   "id": "715778be-7436-423a-a305-4a10cdaf53ac",
   "metadata": {},
   "source": [
    "# Processing of Raw Calcium Cortical Data into dFF tiff Stacks"
   ]
  },
  {
   "cell_type": "markdown",
   "id": "48bb9404-6059-4157-975f-e63ba5bdb77d",
   "metadata": {},
   "source": [
    "An explanation of each of the functions is in the preprocessing script"
   ]
  },
  {
   "cell_type": "code",
   "execution_count": null,
   "id": "2c9313f8-9624-494d-be0d-a7b9768e4a6e",
   "metadata": {},
   "outputs": [],
   "source": [
    "\"\"\"install the packages to run this code\"\"\"\n",
    "#%pip install matplotlib tifffile scipy tqdm pybaselines opencv-python #plotly #need to do this through conda install"
   ]
  },
  {
   "cell_type": "markdown",
   "id": "e874dec0-d5be-4dd0-9d0c-077f8f27fca0",
   "metadata": {},
   "source": [
    "## Step 1: importing the proper libraries"
   ]
  },
  {
   "cell_type": "markdown",
   "id": "d7441818-240a-441c-b538-e607c9109d13",
   "metadata": {},
   "source": [
    "please note these are all compatible with Python 3.12 as of 2023, Dec, 07"
   ]
  },
  {
   "cell_type": "code",
   "execution_count": 9,
   "id": "81d8ae1e-95ea-4593-88dc-f032bfc9641c",
   "metadata": {},
   "outputs": [],
   "source": [
    "import numpy as np\n",
    "import matplotlib.pyplot as plt\n",
    "import tifffile\n",
    "import cv2\n",
    "from scipy import interpolate\n",
    "from scipy.interpolate import interp1d\n",
    "from scipy.ndimage import gaussian_filter\n",
    "from scipy.signal import cheby1, filtfilt, find_peaks, peak_widths\n",
    "from tqdm import tqdm\n",
    "%matplotlib inline\n",
    "import plotly.express as px\n",
    "\n",
    "from preprocessing_functions import (load_frames, \n",
    "                                        interactive_plot, \n",
    "                                        plot_frame, \n",
    "                                        temporal_mean, \n",
    "                                        remove_dark_frames, \n",
    "                                        extract_artifacts, \n",
    "                                        interpolate, \n",
    "                                        dff, \n",
    "                                        smoothing, \n",
    "                                        save_tiff)"
   ]
  },
  {
   "cell_type": "markdown",
   "id": "b4dc1606-7364-4f53-91cb-50a4d73b2ee2",
   "metadata": {},
   "source": [
    "## Step 2: manual input to the script"
   ]
  },
  {
   "cell_type": "markdown",
   "id": "11b2bd00-58b1-42f5-888a-c63f274d6731",
   "metadata": {},
   "source": [
    "Please insert the file path for the tif stack as a 3d array, as well as the frame you would like to look at as an example frame"
   ]
  },
  {
   "cell_type": "code",
   "execution_count": null,
   "id": "6e5ea2c3-4d8a-49ae-91a0-dad0034de45d",
   "metadata": {},
   "outputs": [],
   "source": [
    "video =\"file_path\"\n",
    "frame_number = #please insert frame number to view"
   ]
  },
  {
   "cell_type": "code",
   "execution_count": null,
   "id": "a4e0977b-0334-4790-ac65-aafdfe909c4c",
   "metadata": {},
   "outputs": [],
   "source": [
    "frames = load_frames(video); #loading in tif stack, this will take a little while"
   ]
  },
  {
   "cell_type": "markdown",
   "id": "c4fad258-7be8-4219-83f6-f0cd28507f99",
   "metadata": {},
   "source": [
    "## Step 3: Plot of Raw Frames and Timecourse"
   ]
  },
  {
   "cell_type": "markdown",
   "id": "c1a88059-ae87-40fb-897f-9d413c6fcabc",
   "metadata": {},
   "source": [
    "### 3A: Plotting raw frame example, to make sure the tif stack loaded in properly.\n"
   ]
  },
  {
   "cell_type": "markdown",
   "id": "a35c30f1-4001-456c-b305-9b139efc8f48",
   "metadata": {},
   "source": [
    "Make sure the frames are a 3d array, two figures will be generated, a greyscaled and colormapped. They are technically identical"
   ]
  },
  {
   "cell_type": "code",
   "execution_count": null,
   "id": "cbc04aa9-f49b-4cea-97ea-1111e8e57ec6",
   "metadata": {},
   "outputs": [],
   "source": [
    "plot_frame(frames, frame_number, cmap = 'grey', color_label = \"Intensity A.U\")\n",
    "plot_frame(frames, frame_number, cmap = 'jet', color_label = \"Intensity A.U\")"
   ]
  },
  {
   "cell_type": "markdown",
   "id": "f12f33f8-cc08-4ad7-b4b7-de312dcb6699",
   "metadata": {},
   "source": [
    "### 3B: Plot of the raw signal mean for each frame over the length of the experiment"
   ]
  },
  {
   "cell_type": "markdown",
   "id": "6253db4d-fe6a-45ff-a906-f17cdc378afc",
   "metadata": {},
   "source": [
    "Mean time course of the raw signal"
   ]
  },
  {
   "cell_type": "code",
   "execution_count": null,
   "id": "8baa6df9-7136-4732-abb1-66ead69283ab",
   "metadata": {},
   "outputs": [],
   "source": [
    "mean_timecourse = temporal_mean(frames);"
   ]
  },
  {
   "cell_type": "markdown",
   "id": "47d17d79-b1fe-4afe-bfa0-d79076f1fd2e",
   "metadata": {},
   "source": [
    "## Step 4: Mean Timecourse without Darkframes at Start and End"
   ]
  },
  {
   "cell_type": "markdown",
   "id": "2150794d-fc62-4bed-ae6e-076e89b546c4",
   "metadata": {},
   "source": [
    "#### 4A: plot of timecourse"
   ]
  },
  {
   "cell_type": "code",
   "execution_count": null,
   "id": "90368cd6-0c3b-42a5-858b-d1955c729d0c",
   "metadata": {},
   "outputs": [],
   "source": [
    "darkf_removed = remove_dark_frames(frames, mean_timecourse, 0.1)\n",
    "darkf_removed_timecourse, darkf_removed_frames = darkf_removed[0], darkf_removed[1] #first one is the timecourse with no 3d, second is the 3d array"
   ]
  },
  {
   "cell_type": "markdown",
   "id": "ea5fb22c-e3ad-48b4-9e9b-2b72f143a61f",
   "metadata": {},
   "source": [
    "#### 4B: number of single and double flashes as well as total number."
   ]
  },
  {
   "cell_type": "markdown",
   "id": "c714a017-69a1-4338-adae-15dc4fd61cd5",
   "metadata": {},
   "source": [
    "!! If the total does not match the single and double combined, check dataset!!"
   ]
  },
  {
   "cell_type": "code",
   "execution_count": null,
   "id": "d51ef8b0-ae66-4610-9825-8f0ec337b175",
   "metadata": {},
   "outputs": [],
   "source": [
    "artifact_indices = extract_artifacts(darkf_removed_timecourse)"
   ]
  },
  {
   "cell_type": "markdown",
   "id": "9ddba270-5991-4857-8411-9c6e2ff27dc3",
   "metadata": {},
   "source": [
    "## Step 5: Artifact Removal and DFF"
   ]
  },
  {
   "cell_type": "markdown",
   "id": "b373a0f4-5e80-40d1-a866-a76c68fed809",
   "metadata": {},
   "source": [
    "### 5A: Plot of mean timecourse with artifacts removed\n"
   ]
  },
  {
   "cell_type": "markdown",
   "id": "5c1b612a-5890-4b23-862d-955ddeeea93e",
   "metadata": {},
   "source": [
    "plot is generated with interpolated frames where the artifacts were, approximately 5 frames"
   ]
  },
  {
   "cell_type": "code",
   "execution_count": null,
   "id": "6f9ee6a1-54c9-4ee1-b352-81a6682add15",
   "metadata": {},
   "outputs": [],
   "source": [
    "no_artifact_timecourse = interpolate(darkf_removed_frames, artifact_indices)"
   ]
  },
  {
   "cell_type": "markdown",
   "id": "30cc48f0-36ee-4be9-9986-81c9e2880a4c",
   "metadata": {},
   "source": [
    "### 5B: Calculating dff\n"
   ]
  },
  {
   "cell_type": "markdown",
   "id": "9bfc2707-0a7c-44b4-a05a-55807fcd8700",
   "metadata": {},
   "source": [
    "Dff calculated from the 3d array without artifacts, darkframes removed, and interpolated the space where the artifacts were. Then plotting of the signal with the 10s moving mean before dff is applied. dff is applied using this moving mean onto the signal"
   ]
  },
  {
   "cell_type": "code",
   "execution_count": null,
   "id": "80367a94-4989-4017-b1be-07b17c258e19",
   "metadata": {},
   "outputs": [],
   "source": [
    "dff_array = dff(no_artifact_timecourse, 10, 30);\n",
    "dff_signal, moving_average = dff_array[0], dff_array[1]"
   ]
  },
  {
   "cell_type": "code",
   "execution_count": null,
   "id": "dcc1b1ee-2c26-4861-98e5-3bf396e50a34",
   "metadata": {},
   "outputs": [],
   "source": [
    "#plotting moving mean and signal\n",
    "fig = px.line(y = [no_artifact_timecourse.mean(axis=(1,2)), moving_average.mean(axis=(1,2))])\n",
    "fig.update_layout(\n",
    "title= \"mean timecourse with moving average overlay\",\n",
    "xaxis=dict(title=\"frame number (30 fps)\"),\n",
    "yaxis=dict(title=\"intensity value (A.U)\"),\n",
    "xaxis_rangeslider_visible=True,\n",
    "showlegend=True)\n",
    "\n",
    "fig.for_each_trace(lambda t: t.update(name=\"Signal\") if \"0\" in t.name else t.update(name=\"10s Moving Average\"))\n",
    "\n",
    "fig.show()"
   ]
  },
  {
   "cell_type": "markdown",
   "id": "3d326b78-0418-4ec7-8f5f-a9268625ca73",
   "metadata": {},
   "source": [
    "#### 5B.1: dff timecourse plot"
   ]
  },
  {
   "cell_type": "code",
   "execution_count": null,
   "id": "a52496cb-b177-482c-a200-d608f38b86bf",
   "metadata": {},
   "outputs": [],
   "source": [
    "interactive_plot(dff_signal.mean(axis=(1,2)), title_label = \"normalized signal\", xaxis_label = \"frame number (30 fps)\", yaxis_label = \"dff\")"
   ]
  },
  {
   "cell_type": "markdown",
   "id": "8e1f296f-4a7f-4ceb-8272-af5dcedd0b86",
   "metadata": {},
   "source": [
    "## Step 6: Smoothing (spatial and temporal)"
   ]
  },
  {
   "cell_type": "markdown",
   "id": "846bdcee-af8a-41b6-a479-4909aa327a96",
   "metadata": {},
   "source": [
    "### 6A: Spatial smoothing"
   ]
  },
  {
   "cell_type": "markdown",
   "id": "12a41258-2f51-49b4-bb0d-4b0e5a5afdfb",
   "metadata": {},
   "source": [
    "#### 6A. 1: plot without spatial smoothing showing the requirement for spatial smoothing"
   ]
  },
  {
   "cell_type": "code",
   "execution_count": null,
   "id": "16ea022a-2707-428c-9fb2-2ea1b692ffdc",
   "metadata": {},
   "outputs": [],
   "source": [
    "#plot of spatial signal without spatial smoothing\n",
    "non_smoothed = plot_frame(dff_signal, frame_number, cmap = \"jet\", color_label = \"dff\")"
   ]
  },
  {
   "cell_type": "markdown",
   "id": "9c4e5f5a-aee4-4509-b335-e122518b4014",
   "metadata": {},
   "source": [
    "#### 6A.2: spatial smoothing applied (gaussian, 3 pixels)"
   ]
  },
  {
   "cell_type": "code",
   "execution_count": null,
   "id": "cd54cb62-0d5f-4073-8952-91d784a00667",
   "metadata": {},
   "outputs": [],
   "source": [
    "#plot of spatial resolution including spatial smoothing\n",
    "smoothed_signal = smoothing(dff_signal)\n",
    "plot_frame(smoothed_signal, 200, cmap = \"jet\", color_label = \"dff\")\n",
    "plt.imshow(smoothed_signal[201])"
   ]
  },
  {
   "cell_type": "markdown",
   "id": "dfbbbabd-83e5-4594-9837-4cb1d49e1774",
   "metadata": {},
   "source": [
    "### 6B: Temporal filtering"
   ]
  },
  {
   "cell_type": "markdown",
   "id": "843a2824-a2be-4a48-aaf0-f8da3f8ba9f2",
   "metadata": {},
   "source": [
    "dff plot with chebyshev type 1 temporal filtering (high and low bandpass filter)"
   ]
  },
  {
   "cell_type": "code",
   "execution_count": null,
   "id": "e9506d90-9f73-41cd-b5e1-f64307476df8",
   "metadata": {},
   "outputs": [],
   "source": [
    "\n",
    "interactive_plot(smoothed_signal.mean(axis=(1,2)), title_label = \"temporally smoothed signal\", xaxis_label = \"frame number (30 fps)\", yaxis_label = \"dff\")"
   ]
  },
  {
   "cell_type": "markdown",
   "id": "2c9bfa44-5e61-4e2a-bf4c-290a11f3ae2c",
   "metadata": {},
   "source": [
    "## Step 7: Final step - save the 3D array as a TIFF stack"
   ]
  },
  {
   "cell_type": "markdown",
   "id": "9951a5e7-577e-4af4-82bf-98d147d2fb69",
   "metadata": {},
   "source": [
    "!!! Be sure to write in the file path to where you would like the processed tiff stack stored !!!"
   ]
  },
  {
   "cell_type": "code",
   "execution_count": null,
   "id": "aca4af9c-5b4e-40a3-be65-4aab7b4fdf63",
   "metadata": {},
   "outputs": [],
   "source": [
    "file_path = \"please insert file path\" \n",
    "save_tiff(smoothed_signal, file_path)\n",
    "\n",
    "print(f\"TIFF stack saved at: {file_path}\")"
   ]
  }
 ],
 "metadata": {
  "kernelspec": {
   "display_name": "Python 3 (ipykernel)",
   "language": "python",
   "name": "python3"
  },
  "language_info": {
   "codemirror_mode": {
    "name": "ipython",
    "version": 3
   },
   "file_extension": ".py",
   "mimetype": "text/x-python",
   "name": "python",
   "nbconvert_exporter": "python",
   "pygments_lexer": "ipython3",
   "version": "3.12.0"
  }
 },
 "nbformat": 4,
 "nbformat_minor": 5
}
