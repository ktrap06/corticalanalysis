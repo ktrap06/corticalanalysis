{
 "cells": [
  {
   "cell_type": "code",
   "execution_count": 1,
   "id": "751828bd-343f-489a-828a-023b736cd5f6",
   "metadata": {},
   "outputs": [],
   "source": [
    "import numpy as np\n",
    "import matplotlib.pyplot as plt\n",
    "import tifffile\n",
    "import cv2\n",
    "from PIL import Image\n",
    "#from pybaselines.whittaker import asls\n",
    "import scipy \n",
    "from scipy import interpolate\n",
    "from scipy.interpolate import interp1d\n",
    "from scipy.ndimage import gaussian_filter\n",
    "from scipy.signal import cheby1, filtfilt, find_peaks, peak_widths\n",
    "from tqdm import tqdm\n",
    "get_ipython().run_line_magic('matplotlib', 'inline')\n",
    "import plotly.express as px\n",
    "import imagecodecs\n",
    "from matplotlib.animation import FuncAnimation"
   ]
  },
  {
   "cell_type": "code",
   "execution_count": 2,
   "id": "6a596fd1-b998-4cf6-8b38-906de5928217",
   "metadata": {},
   "outputs": [],
   "source": [
    "import tkinter as tk\n",
    "from tkinter import filedialog\n",
    "\n",
    "def select_file():\n",
    "    file_path = filedialog.askopenfilename()\n",
    "    if file_path:\n",
    "        print(\"Selected file:\", file_path)\n",
    "        licked_data, full_data, flash_type = licked_txt(file_path)\n",
    "        # Now you have access to 'licked_data', 'full_data', and 'flash_type'\n",
    "        # You can do further processing here or return them if needed"
   ]
  },
  {
   "cell_type": "code",
   "execution_count": 3,
   "id": "b22e4869-3bb1-481b-9581-aaa8ee5d0b31",
   "metadata": {},
   "outputs": [],
   "source": [
    "def licked_txt(file_path, footer = 4):\n",
    "    total_lines = sum(1 for line in open(file_path)) # Determine the total number of lines in the file\n",
    "\n",
    "    data_txt = np.genfromtxt(file_path, delimiter='\\t', skip_footer=footer)  # Read the text file into a NumPy array, excluding the last 3 rows\n",
    "\n",
    "    licked = data_txt[:, 4]\n",
    "    flash_type = data_txt[:, 2]\n",
    "\n",
    "    return licked, data_txt, flash_type"
   ]
  },
  {
   "cell_type": "code",
   "execution_count": null,
   "id": "be99567a-7c5a-44cf-aabc-ab7e7c19404b",
   "metadata": {},
   "outputs": [],
   "source": [
    "file_path = \"C:/Users/trapped/Downloads/443076_m1_stage1_day1_2024-02-13_15-01-31_data.txt\""
   ]
  },
  {
   "cell_type": "code",
   "execution_count": null,
   "id": "49fe9cdf-2121-4b3e-8b9a-1a06b748a1a3",
   "metadata": {},
   "outputs": [],
   "source": [
    "licked_443076_m1_stage1_day1 = licked_txt(file_path, footer = 3)[0]"
   ]
  },
  {
   "cell_type": "code",
   "execution_count": null,
   "id": "4e6b8c4b-69a7-4baa-b6d1-20645fc400ca",
   "metadata": {},
   "outputs": [],
   "source": [
    "success_443076_m1_stage1_day1 = sum(licked_443076_m1_stage1_day1)\n",
    "licked_443076_m1_stage1_day1 = sum(licked)\n",
    "licked_443076_m1_stage1_day3 = sum(licked)\n",
    "licked_443076_m1_stage1_day4 = sum(licked)\n",
    "licked_443076_m1_stage1_day5 = sum(licked)"
   ]
  },
  {
   "cell_type": "code",
   "execution_count": null,
   "id": "077e5833-abd0-4e6b-96b9-167fd46a865f",
   "metadata": {},
   "outputs": [
    {
     "name": "stdout",
     "output_type": "stream",
     "text": [
      "Selected file: X:/Raymond Lab/Kaiiiii/2_Pi_data/1_first_cohort/443996/stage1_443996_m3/443996_m3_stage1_day1_2024-02-13_16-31-17_data.txt\n"
     ]
    }
   ],
   "source": [
    "# Create the main window\n",
    "root = tk.Tk()\n",
    "root.title(\"File Selection\")\n",
    "\n",
    "# Create a button to trigger file selection\n",
    "select_button = tk.Button(root, text=\"Select File\", command=select_file)\n",
    "select_button.pack()\n",
    "\n",
    "# Run the Tkinter event loop\n",
    "root.mainloop()"
   ]
  },
  {
   "cell_type": "code",
   "execution_count": null,
   "id": "b64a4021-f1cb-4bcf-b25b-f189724e5d6b",
   "metadata": {},
   "outputs": [],
   "source": [
    "import tkinter as tk\n",
    "from tkinter import filedialog\n",
    "import numpy as np\n",
    "\n",
    "def select_file():\n",
    "    file_path = filedialog.askopenfilename()\n",
    "    if file_path:\n",
    "        print(\"Selected file:\", file_path)\n",
    "        licked_data, full_data, flash_type = licked_txt(file_path)\n",
    "        # Now you have access to 'licked_data', 'full_data', and 'flash_type'\n",
    "        # You can do further processing here or return them if needed\n",
    "        print(\"Processing complete.\")\n",
    "\n",
    "def licked_txt(file_path, footer=4):\n",
    "    total_lines = sum(1 for line in open(file_path))  # Determine the total number of lines in the file\n",
    "\n",
    "    data_txt = np.genfromtxt(file_path, delimiter='\\t', skip_footer=footer)  # Read the text file into a NumPy array, excluding the last 'footer' rows\n",
    "\n",
    "    licked = data_txt[:, 4]\n",
    "    flash_type = data_txt[:, 2]\n",
    "\n",
    "    return licked, data_txt, flash_type\n",
    "\n",
    "# Create the main window\n",
    "root = tk.Tk()\n",
    "root.title(\"File Selection\")\n",
    "\n",
    "# Create a button to trigger file selection\n",
    "select_button = tk.Button(root, text=\"Select File\", command=select_file)\n",
    "select_button.pack()\n",
    "\n",
    "# Run the Tkinter event loop\n",
    "root.mainloop()\n"
   ]
  }
 ],
 "metadata": {
  "kernelspec": {
   "display_name": "Python 3 (ipykernel)",
   "language": "python",
   "name": "python3"
  },
  "language_info": {
   "codemirror_mode": {
    "name": "ipython",
    "version": 3
   },
   "file_extension": ".py",
   "mimetype": "text/x-python",
   "name": "python",
   "nbconvert_exporter": "python",
   "pygments_lexer": "ipython3",
   "version": "3.12.1"
  }
 },
 "nbformat": 4,
 "nbformat_minor": 5
}
