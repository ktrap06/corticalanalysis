{
 "cells": [
  {
   "cell_type": "code",
   "execution_count": 1,
   "id": "751828bd-343f-489a-828a-023b736cd5f6",
   "metadata": {},
   "outputs": [],
   "source": [
    "import numpy as np\n",
    "import matplotlib.pyplot as plt\n",
    "import tifffile\n",
    "import cv2\n",
    "from PIL import Image\n",
    "import plotly.express as px\n",
    "import imagecodecs\n",
    "from matplotlib.animation import FuncAnimation\n",
    "import tkinter as tk\n",
    "from tkinter import filedialog\n",
    "import os"
   ]
  },
  {
   "cell_type": "code",
   "execution_count": 2,
   "id": "b22e4869-3bb1-481b-9581-aaa8ee5d0b31",
   "metadata": {},
   "outputs": [],
   "source": [
    "def licked_txt(file_path, footer = 4):\n",
    "    total_lines = sum(1 for line in open(file_path)) # Determine the total number of lines in the file\n",
    "\n",
    "    data_txt = np.genfromtxt(file_path, delimiter='\\t', skip_footer=footer)  # Read the text file into a NumPy array, excluding the last 3 rows\n",
    "\n",
    "    licked = data_txt[:, 4]\n",
    "    flash_type = data_txt[:, 2]\n",
    "\n",
    "    return licked, data_txt, flash_type"
   ]
  },
  {
   "cell_type": "code",
   "execution_count": 3,
   "id": "66860b11-9835-4183-b383-ffd9e9d461f5",
   "metadata": {},
   "outputs": [],
   "source": [
    "def select_folder():\n",
    "    folder_path = filedialog.askdirectory()\n",
    "    if folder_path:\n",
    "        print(\"Selected folder:\", folder_path)\n",
    "        file_data = load_files_from_folder(folder_path)\n",
    "        print(\"Processing complete.\")\n",
    "        # Example: Access data for day 1: file_data['day1']\n",
    "        # Example: Access data for day 2: file_data['day2']\n",
    "    return file_data"
   ]
  },
  {
   "cell_type": "code",
   "execution_count": 4,
   "id": "db604a6b-3d3f-43bc-a133-daa0162ff1c7",
   "metadata": {},
   "outputs": [],
   "source": [
    "def load_files_from_folder(folder_path):\n",
    "    files = os.listdir(folder_path)\n",
    "    file_data = {}\n",
    "    for idx, file_name in enumerate(files, start=1):\n",
    "        file_path = os.path.join(folder_path, file_name)\n",
    "        if os.path.isfile(file_path):\n",
    "            print(\"Loading file:\", file_path)\n",
    "            # Read file data and store it in a dictionary with variable names\n",
    "            file_data[f'day{idx}'] = read_file_data(file_path)\n",
    "    return file_data"
   ]
  },
  {
   "cell_type": "code",
   "execution_count": 5,
   "id": "75ae483d-e759-4981-95cc-3b6fa981ce47",
   "metadata": {},
   "outputs": [],
   "source": [
    "def read_file_data(file_path):\n",
    "    # Read text file into an array\n",
    "    data = licked_txt(file_path)\n",
    "    return data"
   ]
  },
  {
   "cell_type": "code",
   "execution_count": 38,
   "id": "ef077eef-38bd-4d9e-88d8-bda2dff0841b",
   "metadata": {},
   "outputs": [],
   "source": [
    "def licking(file_data):\n",
    "    for idx, data in file_data.items():\n",
    "        variable_name = f'lick_rate_{index}'\n",
    "        summed_value = sum(data[0])\n",
    "        globals()[variable_name] = summed_value\n",
    "        print(f\"Created variable {variable_name} with value {summed_value}\")\n",
    "    return "
   ]
  },
  {
   "cell_type": "code",
   "execution_count": 36,
   "id": "f3bb7509-041a-484a-9137-d01f8efb902f",
   "metadata": {},
   "outputs": [
    {
     "name": "stdout",
     "output_type": "stream",
     "text": [
      "Selected folder: X:/Raymond Lab/Kaiiiii/2_Pi_data/1_first_cohort/443076/stage1_443076_m1/data_files\n",
      "Loading file: X:/Raymond Lab/Kaiiiii/2_Pi_data/1_first_cohort/443076/stage1_443076_m1/data_files\\443076_m1_stage1_day1_2024-02-13_15-01-31_data.txt\n",
      "Loading file: X:/Raymond Lab/Kaiiiii/2_Pi_data/1_first_cohort/443076/stage1_443076_m1/data_files\\443076_m1_stage1_day2_2024-02-14_16-27-01_data.txt\n",
      "Loading file: X:/Raymond Lab/Kaiiiii/2_Pi_data/1_first_cohort/443076/stage1_443076_m1/data_files\\443076_m1_stage1_day3_2024-02-15_14-07-43_data.txt\n",
      "Loading file: X:/Raymond Lab/Kaiiiii/2_Pi_data/1_first_cohort/443076/stage1_443076_m1/data_files\\443076_m1_stage1_day4_2024-02-16_10-08-44_data.txt\n",
      "Loading file: X:/Raymond Lab/Kaiiiii/2_Pi_data/1_first_cohort/443076/stage1_443076_m1/data_files\\443076_m1_stage1_day5_2024-02-17_13-21-09_data.txt\n",
      "Processing complete.\n",
      "Created variable lick_rate_1 with value 60.0\n",
      "Created variable lick_rate_2 with value 99.0\n",
      "Created variable lick_rate_3 with value 99.0\n",
      "Created variable lick_rate_4 with value 99.0\n",
      "Created variable lick_rate_5 with value 99.0\n"
     ]
    }
   ],
   "source": [
    "file_data = select_folder()\n",
    "licking(file_data)"
   ]
  },
  {
   "cell_type": "code",
   "execution_count": 37,
   "id": "75708a91-6096-4be6-a25f-5b0b29bdb407",
   "metadata": {
    "scrolled": true
   },
   "outputs": [
    {
     "data": {
      "text/plain": [
       "99.0"
      ]
     },
     "execution_count": 37,
     "metadata": {},
     "output_type": "execute_result"
    }
   ],
   "source": [
    "lick_rate_day2"
   ]
  },
  {
   "cell_type": "code",
   "execution_count": 43,
   "id": "b680253e-d6e3-42e0-a971-0fbf16c0b819",
   "metadata": {},
   "outputs": [
    {
     "ename": "TypeError",
     "evalue": "unhashable type: 'numpy.ndarray'",
     "output_type": "error",
     "traceback": [
      "\u001b[1;31m---------------------------------------------------------------------------\u001b[0m",
      "\u001b[1;31mTypeError\u001b[0m                                 Traceback (most recent call last)",
      "Cell \u001b[1;32mIn[43], line 1\u001b[0m\n\u001b[1;32m----> 1\u001b[0m \u001b[43mread_file_data\u001b[49m\u001b[43m(\u001b[49m\u001b[43mfile_data\u001b[49m\u001b[43m[\u001b[49m\u001b[38;5;124;43m'\u001b[39;49m\u001b[38;5;124;43mday1\u001b[39;49m\u001b[38;5;124;43m'\u001b[39;49m\u001b[43m]\u001b[49m\u001b[43m)\u001b[49m\n",
      "Cell \u001b[1;32mIn[5], line 3\u001b[0m, in \u001b[0;36mread_file_data\u001b[1;34m(file_path)\u001b[0m\n\u001b[0;32m      1\u001b[0m \u001b[38;5;28;01mdef\u001b[39;00m \u001b[38;5;21mread_file_data\u001b[39m(file_path):\n\u001b[0;32m      2\u001b[0m     \u001b[38;5;66;03m# Read text file into an array\u001b[39;00m\n\u001b[1;32m----> 3\u001b[0m     data \u001b[38;5;241m=\u001b[39m \u001b[43mlicked_txt\u001b[49m\u001b[43m(\u001b[49m\u001b[43mfile_path\u001b[49m\u001b[43m)\u001b[49m\n\u001b[0;32m      4\u001b[0m     \u001b[38;5;28;01mreturn\u001b[39;00m data\n",
      "Cell \u001b[1;32mIn[2], line 2\u001b[0m, in \u001b[0;36mlicked_txt\u001b[1;34m(file_path, footer)\u001b[0m\n\u001b[0;32m      1\u001b[0m \u001b[38;5;28;01mdef\u001b[39;00m \u001b[38;5;21mlicked_txt\u001b[39m(file_path, footer \u001b[38;5;241m=\u001b[39m \u001b[38;5;241m4\u001b[39m):\n\u001b[1;32m----> 2\u001b[0m     total_lines \u001b[38;5;241m=\u001b[39m \u001b[38;5;28msum\u001b[39m(\u001b[38;5;241m1\u001b[39m \u001b[38;5;28;01mfor\u001b[39;00m line \u001b[38;5;129;01min\u001b[39;00m \u001b[38;5;28;43mopen\u001b[39;49m\u001b[43m(\u001b[49m\u001b[43mfile_path\u001b[49m\u001b[43m)\u001b[49m) \u001b[38;5;66;03m# Determine the total number of lines in the file\u001b[39;00m\n\u001b[0;32m      4\u001b[0m     data_txt \u001b[38;5;241m=\u001b[39m np\u001b[38;5;241m.\u001b[39mgenfromtxt(file_path, delimiter\u001b[38;5;241m=\u001b[39m\u001b[38;5;124m'\u001b[39m\u001b[38;5;130;01m\\t\u001b[39;00m\u001b[38;5;124m'\u001b[39m, skip_footer\u001b[38;5;241m=\u001b[39mfooter)  \u001b[38;5;66;03m# Read the text file into a NumPy array, excluding the last 3 rows\u001b[39;00m\n\u001b[0;32m      6\u001b[0m     licked \u001b[38;5;241m=\u001b[39m data_txt[:, \u001b[38;5;241m4\u001b[39m]\n",
      "File \u001b[1;32m~\\.conda\\envs\\corticalanalysis\\Lib\\site-packages\\IPython\\core\\interactiveshell.py:303\u001b[0m, in \u001b[0;36m_modified_open\u001b[1;34m(file, *args, **kwargs)\u001b[0m\n\u001b[0;32m    301\u001b[0m \u001b[38;5;129m@functools\u001b[39m\u001b[38;5;241m.\u001b[39mwraps(io_open)\n\u001b[0;32m    302\u001b[0m \u001b[38;5;28;01mdef\u001b[39;00m \u001b[38;5;21m_modified_open\u001b[39m(file, \u001b[38;5;241m*\u001b[39margs, \u001b[38;5;241m*\u001b[39m\u001b[38;5;241m*\u001b[39mkwargs):\n\u001b[1;32m--> 303\u001b[0m     \u001b[38;5;28;01mif\u001b[39;00m \u001b[43mfile\u001b[49m\u001b[43m \u001b[49m\u001b[38;5;129;43;01min\u001b[39;49;00m\u001b[43m \u001b[49m\u001b[43m{\u001b[49m\u001b[38;5;241;43m0\u001b[39;49m\u001b[43m,\u001b[49m\u001b[43m \u001b[49m\u001b[38;5;241;43m1\u001b[39;49m\u001b[43m,\u001b[49m\u001b[43m \u001b[49m\u001b[38;5;241;43m2\u001b[39;49m\u001b[43m}\u001b[49m:\n\u001b[0;32m    304\u001b[0m         \u001b[38;5;28;01mraise\u001b[39;00m \u001b[38;5;167;01mValueError\u001b[39;00m(\n\u001b[0;32m    305\u001b[0m             \u001b[38;5;124mf\u001b[39m\u001b[38;5;124m\"\u001b[39m\u001b[38;5;124mIPython won\u001b[39m\u001b[38;5;124m'\u001b[39m\u001b[38;5;124mt let you open fd=\u001b[39m\u001b[38;5;132;01m{\u001b[39;00mfile\u001b[38;5;132;01m}\u001b[39;00m\u001b[38;5;124m by default \u001b[39m\u001b[38;5;124m\"\u001b[39m\n\u001b[0;32m    306\u001b[0m             \u001b[38;5;124m\"\u001b[39m\u001b[38;5;124mas it is likely to crash IPython. If you know what you are doing, \u001b[39m\u001b[38;5;124m\"\u001b[39m\n\u001b[0;32m    307\u001b[0m             \u001b[38;5;124m\"\u001b[39m\u001b[38;5;124myou can use builtins\u001b[39m\u001b[38;5;124m'\u001b[39m\u001b[38;5;124m open.\u001b[39m\u001b[38;5;124m\"\u001b[39m\n\u001b[0;32m    308\u001b[0m         )\n\u001b[0;32m    310\u001b[0m     \u001b[38;5;28;01mreturn\u001b[39;00m io_open(file, \u001b[38;5;241m*\u001b[39margs, \u001b[38;5;241m*\u001b[39m\u001b[38;5;241m*\u001b[39mkwargs)\n",
      "\u001b[1;31mTypeError\u001b[0m: unhashable type: 'numpy.ndarray'"
     ]
    }
   ],
   "source": [
    "read_file_data(file_data['day1'])"
   ]
  },
  {
   "cell_type": "code",
   "execution_count": 42,
   "id": "93875f34-4bbf-4a09-96c8-13a0e7703179",
   "metadata": {},
   "outputs": [
    {
     "data": {
      "text/plain": [
       "(99,)"
      ]
     },
     "execution_count": 42,
     "metadata": {},
     "output_type": "execute_result"
    }
   ],
   "source": [
    "file_data['day1'][0].shape"
   ]
  },
  {
   "cell_type": "code",
   "execution_count": null,
   "id": "e53df1a6-4586-4c71-9e55-5dc709453fb6",
   "metadata": {},
   "outputs": [],
   "source": []
  }
 ],
 "metadata": {
  "kernelspec": {
   "display_name": "Python 3 (ipykernel)",
   "language": "python",
   "name": "python3"
  },
  "language_info": {
   "codemirror_mode": {
    "name": "ipython",
    "version": 3
   },
   "file_extension": ".py",
   "mimetype": "text/x-python",
   "name": "python",
   "nbconvert_exporter": "python",
   "pygments_lexer": "ipython3",
   "version": "3.12.1"
  }
 },
 "nbformat": 4,
 "nbformat_minor": 5
}
