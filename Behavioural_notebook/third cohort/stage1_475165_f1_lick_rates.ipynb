{
 "cells": [
  {
   "cell_type": "markdown",
   "id": "cc95f025-7a9d-46fa-aaa6-12f526781ed0",
   "metadata": {},
   "source": [
    "# stage1_475165_f1 lick rates"
   ]
  },
  {
   "cell_type": "code",
   "execution_count": 1,
   "id": "751828bd-343f-489a-828a-023b736cd5f6",
   "metadata": {},
   "outputs": [],
   "source": [
    "import numpy as np\n",
    "import matplotlib.pyplot as plt\n",
    "import tifffile\n",
    "import cv2\n",
    "from PIL import Image\n",
    "import plotly.express as px\n",
    "import imagecodecs\n",
    "from matplotlib.animation import FuncAnimation\n",
    "import tkinter as tk\n",
    "from tkinter import filedialog\n",
    "import os\n",
    "\n",
    "from functions_lick_rates import (licked_txt,\n",
    "                                    load_files_from_folder,\n",
    "                                    select_folder,\n",
    "                                    licking,\n",
    "                                    plot_array,\n",
    "                                    plot_fail,\n",
    "                                    plot_total)"
   ]
  },
  {
   "cell_type": "code",
   "execution_count": 2,
   "id": "f3bb7509-041a-484a-9137-d01f8efb902f",
   "metadata": {},
   "outputs": [
    {
     "name": "stdout",
     "output_type": "stream",
     "text": [
      "Selected folder: X:/Raymond Lab/1_Kai/2_Pi_data/3_third_cohort/475165/stage1_475165_f1/lick_rates\n",
      "Loading file: X:/Raymond Lab/1_Kai/2_Pi_data/3_third_cohort/475165/stage1_475165_f1/lick_rates\\475165_f1_stage1_day1_2024-07-23_11-19-22_data.txt\n",
      "Loading file: X:/Raymond Lab/1_Kai/2_Pi_data/3_third_cohort/475165/stage1_475165_f1/lick_rates\\475165_f1_stage1_day2_2024-07-24_12-55-59_data.txt\n",
      "Loading file: X:/Raymond Lab/1_Kai/2_Pi_data/3_third_cohort/475165/stage1_475165_f1/lick_rates\\475165_f1_stage1_day3_2024-07-25_11-41-19_data.txt\n",
      "Loading file: X:/Raymond Lab/1_Kai/2_Pi_data/3_third_cohort/475165/stage1_475165_f1/lick_rates\\475165_f1_stage1_day4_2024-07-26_14-11-10_data.txt\n",
      "Loading file: X:/Raymond Lab/1_Kai/2_Pi_data/3_third_cohort/475165/stage1_475165_f1/lick_rates\\475165_f1_stage1_day5_2024-07-30_11-03-55_data.txt\n",
      "Loading file: X:/Raymond Lab/1_Kai/2_Pi_data/3_third_cohort/475165/stage1_475165_f1/lick_rates\\475165_f1_stage1_day6_2024-07-31_14-27-25_data.txt\n",
      "Loading file: X:/Raymond Lab/1_Kai/2_Pi_data/3_third_cohort/475165/stage1_475165_f1/lick_rates\\475165_f1_stage1_day7_2024-08-01_13-11-57_data.txt\n",
      "Loading file: X:/Raymond Lab/1_Kai/2_Pi_data/3_third_cohort/475165/stage1_475165_f1/lick_rates\\475165_f1_stage1_day8_2024-08-02_13-24-19_data.txt\n",
      "Processing complete.\n",
      "Stage 1 day 1 reached a lick rate of 8.0%\n",
      "Stage 1 day 2 reached a lick rate of 67.0%\n",
      "Stage 1 day 3 reached a lick rate of 39.0%\n",
      "Stage 1 day 4 reached a lick rate of 48.0%\n",
      "Stage 1 day 5 reached a lick rate of 79.0%\n",
      "Stage 1 day 6 reached a lick rate of 37.0%\n",
      "Stage 1 day 7 reached a lick rate of 54.0%\n",
      "Stage 1 day 8 reached a lick rate of 54.0%\n"
     ]
    }
   ],
   "source": [
    "stage = \"stage1\"\n",
    "folder = select_folder(stage)\n",
    "file_data, directory = folder[0], folder[1]\n",
    "lick_rate = licking(file_data, stage)"
   ]
  },
  {
   "cell_type": "code",
   "execution_count": 3,
   "id": "7bf59d7d-dd01-4920-a3a7-b1bf10a9c130",
   "metadata": {},
   "outputs": [
    {
     "data": {
      "image/png": "[encoded data removed]",
      "text/plain": [
       "<Figure size 400x300 with 1 Axes>"
      ]
     },
     "metadata": {},
     "output_type": "display_data"
    }
   ],
   "source": [
    "mouseID = directory.split('/')[6]\n",
    "export_path = f\"X:/Raymond Lab/1_Kai/3_processed_data/3_lick_rates/{stage}/{mouseID}LR.png\"\n",
    "export_path_total = f\"X:/Raymond Lab/1_Kai/3_processed_data/3_lick_rates/{stage}/{mouseID}_total.png\"\n",
    "plot = plot_array(sorted(lick_rate),stage, export_path)"
   ]
  },
  {
   "cell_type": "code",
   "execution_count": 4,
   "id": "1f55511c-2fde-4fe0-b5f0-502180b8227b",
   "metadata": {},
   "outputs": [],
   "source": [
    "if stage == \"stage3\":\n",
    "    plot2 = plot_fail(sorted(lick_rate),stage)"
   ]
  },
  {
   "cell_type": "code",
   "execution_count": 5,
   "id": "2cf4973b-c0ec-40d9-aba8-fd29aa71029c",
   "metadata": {},
   "outputs": [
    {
     "ename": "UnboundLocalError",
     "evalue": "cannot access local variable 'y_values' where it is not associated with a value",
     "output_type": "error",
     "traceback": [
      "\u001b[1;31m---------------------------------------------------------------------------\u001b[0m",
      "\u001b[1;31mUnboundLocalError\u001b[0m                         Traceback (most recent call last)",
      "Cell \u001b[1;32mIn[5], line 2\u001b[0m\n\u001b[0;32m      1\u001b[0m \u001b[38;5;28;01mif\u001b[39;00m stage \u001b[38;5;241m==\u001b[39m \u001b[38;5;124m\"\u001b[39m\u001b[38;5;124mstage2\u001b[39m\u001b[38;5;124m\"\u001b[39m \u001b[38;5;129;01mor\u001b[39;00m \u001b[38;5;124m\"\u001b[39m\u001b[38;5;124mstage3\u001b[39m\u001b[38;5;124m\"\u001b[39m:\n\u001b[1;32m----> 2\u001b[0m     \u001b[43mplot_total\u001b[49m\u001b[43m(\u001b[49m\u001b[38;5;28;43msorted\u001b[39;49m\u001b[43m(\u001b[49m\u001b[43mlick_rate\u001b[49m\u001b[43m)\u001b[49m\u001b[43m,\u001b[49m\u001b[43mstage\u001b[49m\u001b[43m,\u001b[49m\u001b[43m \u001b[49m\u001b[43mexport_path_total\u001b[49m\u001b[43m)\u001b[49m\n",
      "File \u001b[1;32m~\\Documents\\GitHub\\corticalanalysis\\Behavioural_notebook\\third cohort\\functions_lick_rates.py:366\u001b[0m, in \u001b[0;36mplot_total\u001b[1;34m(array, stage, export_path_total)\u001b[0m\n\u001b[0;32m    363\u001b[0m     y_values \u001b[38;5;241m=\u001b[39m [row[\u001b[38;5;241m7\u001b[39m] \u001b[38;5;28;01mfor\u001b[39;00m row \u001b[38;5;129;01min\u001b[39;00m array]\n\u001b[0;32m    364\u001b[0m fig \u001b[38;5;241m=\u001b[39m plt\u001b[38;5;241m.\u001b[39mfigure(figsize\u001b[38;5;241m=\u001b[39m(\u001b[38;5;241m4\u001b[39m, \u001b[38;5;241m3\u001b[39m))\n\u001b[1;32m--> 366\u001b[0m fig,plt\u001b[38;5;241m.\u001b[39mplot(x_values, \u001b[43my_values\u001b[49m, marker\u001b[38;5;241m=\u001b[39m\u001b[38;5;124m'\u001b[39m\u001b[38;5;124mo\u001b[39m\u001b[38;5;124m'\u001b[39m, linestyle\u001b[38;5;241m=\u001b[39m\u001b[38;5;124m'\u001b[39m\u001b[38;5;124m-\u001b[39m\u001b[38;5;124m'\u001b[39m, color\u001b[38;5;241m=\u001b[39m\u001b[38;5;124m'\u001b[39m\u001b[38;5;124mg\u001b[39m\u001b[38;5;124m'\u001b[39m)\n\u001b[0;32m    367\u001b[0m fig,plt\u001b[38;5;241m.\u001b[39mlegend([\u001b[38;5;124m\"\u001b[39m\u001b[38;5;124mLick rate\u001b[39m\u001b[38;5;124m\"\u001b[39m])\n\u001b[0;32m    369\u001b[0m threshold \u001b[38;5;241m=\u001b[39m (np\u001b[38;5;241m.\u001b[39mzeros(\u001b[38;5;28mlen\u001b[39m(array)))\u001b[38;5;241m+\u001b[39m\u001b[38;5;241m75\u001b[39m\n",
      "\u001b[1;31mUnboundLocalError\u001b[0m: cannot access local variable 'y_values' where it is not associated with a value"
     ]
    },
    {
     "data": {
      "text/plain": [
       "<Figure size 400x300 with 0 Axes>"
      ]
     },
     "metadata": {},
     "output_type": "display_data"
    }
   ],
   "source": [
    "if stage == \"stage2\" or \"stage3\":\n",
    "    plot_total(sorted(lick_rate),stage, export_path_total)"
   ]
  },
  {
   "cell_type": "code",
   "execution_count": null,
   "id": "1fc321f9-ec0c-4f90-a09c-ed242b9256c3",
   "metadata": {},
   "outputs": [],
   "source": [
    "def plot_total(array, stage, export_path_total=None):\n",
    "    # Extract x and y values from the array\n",
    "    x_values = [row[0] for row in array]\n",
    "    if stage == \"stage2\":\n",
    "        y_values = [row[3] for row in array]\n",
    "    elif stage == \"stage3\":\n",
    "        y_values = [row[7] for row in array]\n",
    "    else:\n",
    "        raise ValueError(\"Invalid stage. Must be 'stage2' or 'stage3'.\")\n",
    "\n",
    "    # Create the figure and axes\n",
    "    fig, ax = plt.subplots(figsize=(4, 3))\n",
    "    \n",
    "    # Change the figure and axes background colors\n",
    "    fig.patch.set_facecolor('#F3F6F1')\n",
    "    ax.set_facecolor('#F3F6F1')\n",
    "\n",
    "    # Plot the data\n",
    "    ax.plot(x_values, y_values, marker='o', linestyle='-', color='#589370', label='Lick rate', linewidth=2.5)\n",
    "    # Add the threshold line\n",
    "    #threshold = np.zeros(len(array)) + 75\n",
    "    #ax.plot(x_values, threshold, linestyle='dotted', color='y', label='Threshold')\n",
    "\n",
    "    # Add labels and title\n",
    "    ax.set_xlabel('Day Number')\n",
    "    ax.set_ylabel('Percent Licked (%)')\n",
    "    ax.set_title('HD Stage 3', fontsize=18)\n",
    "    \n",
    "    # Set y-axis limit and ticks\n",
    "    y_max = 110\n",
    "    y_ticks = np.linspace(0, 100, num=6)\n",
    "    ax.set_ylim(0, y_max)\n",
    "    ax.set_yticks(y_ticks)\n",
    "    ax.spines['top'].set_visible(False) #hides the top spine.\n",
    "    ax.spines['right'].set_visible(False) #hides the right spine.\n",
    "    \n",
    "    # Set x-axis ticks\n",
    "    x_ticks = np.linspace(1, len(x_values), num=9, dtype=int)  # Set ticks based on the number of data points\n",
    "    ax.set_xticks(x_ticks)\n",
    "    ax.set_xlabel('Day Number', fontsize=16)\n",
    "    ax.set_ylabel('Percent Success (%)', fontsize=16)\n",
    "\n",
    "    plt.xticks(fontsize=14)\n",
    "    plt.yticks(fontsize=14)\n",
    "\n",
    "\n",
    "    # Add legend and grid\n",
    "    #ax.legend()\n",
    "    #ax.grid(False, which='both', linestyle='--', linewidth=0.5)\n",
    "\n",
    "    plt.tight_layout()\n",
    "    \n",
    "    if export_path_total:\n",
    "        plt.savefig(export_path_total)  # Save the plot if a save path is provided\n",
    "    else:\n",
    "        plt.show()\n",
    "        \n",
    "    return fig\n"
   ]
  },
  {
   "cell_type": "code",
   "execution_count": null,
   "id": "9f5943ff-052c-47f3-8e81-0778fb7cc06a",
   "metadata": {},
   "outputs": [],
   "source": [
    "plot_total(sorted(lick_rate),stage, export_path_total)"
   ]
  },
  {
   "cell_type": "code",
   "execution_count": null,
   "id": "fdf1779e-31f1-41cd-abd6-363cf64d6d9a",
   "metadata": {},
   "outputs": [],
   "source": []
  }
 ],
 "metadata": {
  "kernelspec": {
   "display_name": "Python 3 (ipykernel)",
   "language": "python",
   "name": "python3"
  },
  "language_info": {
   "codemirror_mode": {
    "name": "ipython",
    "version": 3
   },
   "file_extension": ".py",
   "mimetype": "text/x-python",
   "name": "python",
   "nbconvert_exporter": "python",
   "pygments_lexer": "ipython3",
   "version": "3.12.0"
  }
 },
 "nbformat": 4,
 "nbformat_minor": 5
}
