{
 "cells": [
  {
   "cell_type": "markdown",
   "id": "cc95f025-7a9d-46fa-aaa6-12f526781ed0",
   "metadata": {},
   "source": [
    "# stage1_475165_f1 lick rates"
   ]
  },
  {
   "cell_type": "code",
   "execution_count": 1,
   "id": "751828bd-343f-489a-828a-023b736cd5f6",
   "metadata": {},
   "outputs": [],
   "source": [
    "import numpy as np\n",
    "import matplotlib.pyplot as plt\n",
    "import tifffile\n",
    "import cv2\n",
    "from PIL import Image\n",
    "import plotly.express as px\n",
    "import imagecodecs\n",
    "from matplotlib.animation import FuncAnimation\n",
    "import tkinter as tk\n",
    "from tkinter import filedialog\n",
    "import os\n",
    "\n",
    "from functions_lick_rates import (licked_txt,\n",
    "                                    load_files_from_folder,\n",
    "                                    select_folder,\n",
    "                                    licking,\n",
    "                                    plot_array,\n",
    "                                    plot_fail,\n",
    "                                    plot_total)"
   ]
  },
  {
   "cell_type": "code",
   "execution_count": 2,
   "id": "6c8efcaa-b797-4a73-a298-258a0e1acc85",
   "metadata": {},
   "outputs": [],
   "source": [
    "stage = \"stage1\"\n",
    "cage = \"4475165\"\n",
    "mouse = \"f1\""
   ]
  },
  {
   "cell_type": "code",
   "execution_count": 3,
   "id": "f3bb7509-041a-484a-9137-d01f8efb902f",
   "metadata": {},
   "outputs": [
    {
     "ename": "FileNotFoundError",
     "evalue": "[WinError 3] The system cannot find the path specified: 'X:/RaymondLab/1_Kai/2_Pi_data/3_third_cohort/4475165/stage1_4475165_f1/lick_rates/'",
     "output_type": "error",
     "traceback": [
      "\u001b[1;31m---------------------------------------------------------------------------\u001b[0m",
      "\u001b[1;31mFileNotFoundError\u001b[0m                         Traceback (most recent call last)",
      "Cell \u001b[1;32mIn[3], line 3\u001b[0m\n\u001b[0;32m      1\u001b[0m \u001b[38;5;66;03m#folder = select_folder(stage) #use this to use pop up to select folder\u001b[39;00m\n\u001b[0;32m      2\u001b[0m directory \u001b[38;5;241m=\u001b[39m \u001b[38;5;124mf\u001b[39m\u001b[38;5;124m\"\u001b[39m\u001b[38;5;124mX:/RaymondLab/1_Kai/2_Pi_data/3_third_cohort/\u001b[39m\u001b[38;5;132;01m{\u001b[39;00mcage\u001b[38;5;132;01m}\u001b[39;00m\u001b[38;5;124m/\u001b[39m\u001b[38;5;132;01m{\u001b[39;00mstage\u001b[38;5;132;01m}\u001b[39;00m\u001b[38;5;124m_\u001b[39m\u001b[38;5;132;01m{\u001b[39;00mcage\u001b[38;5;132;01m}\u001b[39;00m\u001b[38;5;124m_\u001b[39m\u001b[38;5;132;01m{\u001b[39;00mmouse\u001b[38;5;132;01m}\u001b[39;00m\u001b[38;5;124m/lick_rates/\u001b[39m\u001b[38;5;124m\"\u001b[39m\n\u001b[1;32m----> 3\u001b[0m file_data \u001b[38;5;241m=\u001b[39m \u001b[43mload_files_from_folder\u001b[49m\u001b[43m(\u001b[49m\u001b[43mdirectory\u001b[49m\u001b[43m,\u001b[49m\u001b[43m \u001b[49m\u001b[43mstage\u001b[49m\u001b[43m)\u001b[49m\n\u001b[0;32m      4\u001b[0m lick_rate \u001b[38;5;241m=\u001b[39m licking(file_data, stage)\n",
      "File \u001b[1;32m~\\Documents\\GitHub\\corticalanalysis\\Behavioural_notebook\\third cohort\\functions_lick_rates.py:46\u001b[0m, in \u001b[0;36mload_files_from_folder\u001b[1;34m(folder_path, stage)\u001b[0m\n\u001b[0;32m     45\u001b[0m \u001b[38;5;28;01mdef\u001b[39;00m \u001b[38;5;21mload_files_from_folder\u001b[39m(folder_path, stage):\n\u001b[1;32m---> 46\u001b[0m     files \u001b[38;5;241m=\u001b[39m \u001b[43mos\u001b[49m\u001b[38;5;241;43m.\u001b[39;49m\u001b[43mlistdir\u001b[49m\u001b[43m(\u001b[49m\u001b[43mfolder_path\u001b[49m\u001b[43m)\u001b[49m\n\u001b[0;32m     47\u001b[0m     file_data \u001b[38;5;241m=\u001b[39m {}\n\u001b[0;32m     48\u001b[0m     \u001b[38;5;28;01mfor\u001b[39;00m file_name \u001b[38;5;129;01min\u001b[39;00m files:\n\u001b[0;32m     49\u001b[0m         \u001b[38;5;66;03m# Extract day number from the file name using regular expressions\u001b[39;00m\n",
      "\u001b[1;31mFileNotFoundError\u001b[0m: [WinError 3] The system cannot find the path specified: 'X:/RaymondLab/1_Kai/2_Pi_data/3_third_cohort/4475165/stage1_4475165_f1/lick_rates/'"
     ]
    }
   ],
   "source": [
    "#folder = select_folder(stage) #use this to use pop up to select folder\n",
    "directory = f\"X:/RaymondLab/1_Kai/2_Pi_data/3_third_cohort/{cage}/{stage}_{cage}_{mouse}/lick_rates/\"\n",
    "file_data = load_files_from_folder(directory, stage)\n",
    "lick_rate = licking(file_data, stage)"
   ]
  },
  {
   "cell_type": "code",
   "execution_count": null,
   "id": "7bf59d7d-dd01-4920-a3a7-b1bf10a9c130",
   "metadata": {},
   "outputs": [],
   "source": [
    "mouseID = directory.split('/')[6]\n",
    "export_path = f\"X:/RaymondLab/1_Kai/3_processed_data/3_lick_rates/{stage}/{mouseID}LR.png\"\n",
    "export_path_total = f\"X:/RaymondLab/1_Kai/3_processed_data/3_lick_rates/{stage}/{mouseID}_total.png\"\n",
    "plot = plot_array(sorted(lick_rate),stage, export_path)"
   ]
  },
  {
   "cell_type": "code",
   "execution_count": null,
   "id": "1fc321f9-ec0c-4f90-a09c-ed242b9256c3",
   "metadata": {},
   "outputs": [],
   "source": [
    "def plot_total(array, stage, export_path_total=None):\n",
    "    # Extract x and y values from the array\n",
    "    x_values = [row[0] for row in array]\n",
    "    if stage == \"stage2\":\n",
    "        y_values = [row[3] for row in array]\n",
    "    elif stage == \"stage3\":\n",
    "        y_values = [row[7] for row in array]\n",
    "    else:\n",
    "        raise ValueError(\"Invalid stage. Must be 'stage2' or 'stage3'.\")\n",
    "\n",
    "    # Create the figure and axes\n",
    "    fig, ax = plt.subplots(figsize=(4, 3))\n",
    "    \n",
    "    # Change the figure and axes background colors\n",
    "    fig.patch.set_facecolor('#F3F6F1')\n",
    "    ax.set_facecolor('#F3F6F1')\n",
    "\n",
    "    # Plot the data\n",
    "    ax.plot(x_values, y_values, marker='o', linestyle='-', color='#589370', label='Lick rate', linewidth=2.5)\n",
    "    # Add the threshold line\n",
    "    #threshold = np.zeros(len(array)) + 75\n",
    "    #ax.plot(x_values, threshold, linestyle='dotted', color='y', label='Threshold')\n",
    "\n",
    "    # Add labels and title\n",
    "    ax.set_xlabel('Day Number')\n",
    "    ax.set_ylabel('Percent Licked (%)')\n",
    "    ax.set_title('HD Stage 3', fontsize=18)\n",
    "    \n",
    "    # Set y-axis limit and ticks\n",
    "    y_max = 110\n",
    "    y_ticks = np.linspace(0, 100, num=6)\n",
    "    ax.set_ylim(0, y_max)\n",
    "    ax.set_yticks(y_ticks)\n",
    "    ax.spines['top'].set_visible(False) #hides the top spine.\n",
    "    ax.spines['right'].set_visible(False) #hides the right spine.\n",
    "    \n",
    "    # Set x-axis ticks\n",
    "    x_ticks = np.linspace(1, len(x_values), num=9, dtype=int)  # Set ticks based on the number of data points\n",
    "    ax.set_xticks(x_ticks)\n",
    "    ax.set_xlabel('Day Number', fontsize=16)\n",
    "    ax.set_ylabel('Percent Success (%)', fontsize=16)\n",
    "\n",
    "    plt.xticks(fontsize=14)\n",
    "    plt.yticks(fontsize=14)\n",
    "\n",
    "\n",
    "    # Add legend and grid\n",
    "    #ax.legend()\n",
    "    #ax.grid(False, which='both', linestyle='--', linewidth=0.5)\n",
    "\n",
    "    plt.tight_layout()\n",
    "    \n",
    "    if export_path_total:\n",
    "        plt.savefig(export_path_total)  # Save the plot if a save path is provided\n",
    "    else:\n",
    "        plt.show()\n",
    "        \n",
    "    return fig\n"
   ]
  },
  {
   "cell_type": "code",
   "execution_count": null,
   "id": "fdf1779e-31f1-41cd-abd6-363cf64d6d9a",
   "metadata": {},
   "outputs": [],
   "source": [
    "np.save(f'X:/RaymondLab/1_Kai/3_processed_data/7_lick_rate_csv/lick_rate_{stage}_{cage}_{mouse}.npy', lick_rate)"
   ]
  }
 ],
 "metadata": {
  "kernelspec": {
   "display_name": "Python 3 (ipykernel)",
   "language": "python",
   "name": "python3"
  },
  "language_info": {
   "codemirror_mode": {
    "name": "ipython",
    "version": 3
   },
   "file_extension": ".py",
   "mimetype": "text/x-python",
   "name": "python",
   "nbconvert_exporter": "python",
   "pygments_lexer": "ipython3",
   "version": "3.12.0"
  }
 },
 "nbformat": 4,
 "nbformat_minor": 5
}
