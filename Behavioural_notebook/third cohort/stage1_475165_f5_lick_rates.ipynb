{
 "cells": [
  {
   "cell_type": "markdown",
   "id": "cc95f025-7a9d-46fa-aaa6-12f526781ed0",
   "metadata": {},
   "source": [
    "# stage1_475165_f5 lick rates"
   ]
  },
  {
   "cell_type": "code",
   "execution_count": 1,
   "id": "751828bd-343f-489a-828a-023b736cd5f6",
   "metadata": {},
   "outputs": [],
   "source": [
    "import numpy as np\n",
    "import matplotlib.pyplot as plt\n",
    "import tifffile\n",
    "import cv2\n",
    "from PIL import Image\n",
    "import plotly.express as px\n",
    "import imagecodecs\n",
    "from matplotlib.animation import FuncAnimation\n",
    "import tkinter as tk\n",
    "from tkinter import filedialog\n",
    "import os\n",
    "\n",
    "from functions_lick_rates import (licked_txt,\n",
    "                                    load_files_from_folder,\n",
    "                                    select_folder,\n",
    "                                    licking,\n",
    "                                    plot_array,\n",
    "                                    plot_fail,\n",
    "                                    plot_total)"
   ]
  },
  {
   "cell_type": "code",
   "execution_count": 2,
   "id": "65ebbb86-b1aa-4729-8862-b318ed4e46c3",
   "metadata": {},
   "outputs": [],
   "source": [
    "stage = \"stage1\"\n",
    "cage = \"475165\"\n",
    "mouse = \"f5\""
   ]
  },
  {
   "cell_type": "code",
   "execution_count": 3,
   "id": "f3bb7509-041a-484a-9137-d01f8efb902f",
   "metadata": {},
   "outputs": [
    {
     "name": "stdout",
     "output_type": "stream",
     "text": [
      "Loading file: X:/RaymondLab/1_Kai/2_Pi_data/3_third_cohort/475165/stage1_475165_f5/lick_rates/475165_f5_stage1_day1_2024-07-23_12-39-57_data.txt\n",
      "Loading file: X:/RaymondLab/1_Kai/2_Pi_data/3_third_cohort/475165/stage1_475165_f5/lick_rates/475165_f5_stage1_day2_2024-07-24_14-12-25_data.txt\n",
      "Loading file: X:/RaymondLab/1_Kai/2_Pi_data/3_third_cohort/475165/stage1_475165_f5/lick_rates/475165_f5_stage1_day3_2024-07-25_12-57-06_data.txt\n",
      "Loading file: X:/RaymondLab/1_Kai/2_Pi_data/3_third_cohort/475165/stage1_475165_f5/lick_rates/475165_f5_stage1_day4_2024-07-26_13-56-03_data.txt\n",
      "Loading file: X:/RaymondLab/1_Kai/2_Pi_data/3_third_cohort/475165/stage1_475165_f5/lick_rates/475165_f5_stage1_day5_2024-07-30_11-28-36_data.txt\n",
      "Loading file: X:/RaymondLab/1_Kai/2_Pi_data/3_third_cohort/475165/stage1_475165_f5/lick_rates/475165_f5_stage1_day6_2024-07-31_13-37-34_data.txt\n",
      "Loading file: X:/RaymondLab/1_Kai/2_Pi_data/3_third_cohort/475165/stage1_475165_f5/lick_rates/475165_f5_stage1_day7_2024-08-01_12-19-22_data.txt\n",
      "Loading file: X:/RaymondLab/1_Kai/2_Pi_data/3_third_cohort/475165/stage1_475165_f5/lick_rates/475165_f5_stage1_day8_2024-08-02_13-54-10_data.txt\n",
      "Loading file: X:/RaymondLab/1_Kai/2_Pi_data/3_third_cohort/475165/stage1_475165_f5/lick_rates/475165_f5_stage1_day9_2024-08-08_13-16-09_data.txt\n",
      "Stage 1 day 1 reached a lick rate of 38.0%\n",
      "Stage 1 day 2 reached a lick rate of 57.0%\n",
      "Stage 1 day 3 reached a lick rate of 39.0%\n",
      "Stage 1 day 4 reached a lick rate of 77.0%\n",
      "Stage 1 day 5 reached a lick rate of 39.0%\n",
      "Stage 1 day 6 reached a lick rate of 42.0%\n",
      "Stage 1 day 7 reached a lick rate of 40.0%\n",
      "Stage 1 day 8 reached a lick rate of 66.0%\n",
      "Stage 1 day 9 reached a lick rate of 90.0%\n"
     ]
    }
   ],
   "source": [
    "#folder = select_folder(stage) #use this to use pop up to select folder\n",
    "directory = f\"X:/RaymondLab/1_Kai/2_Pi_data/3_third_cohort/{cage}/{stage}_{cage}_{mouse}/lick_rates/\"\n",
    "file_data = load_files_from_folder(directory, stage)\n",
    "lick_rate = licking(file_data, stage)"
   ]
  },
  {
   "cell_type": "code",
   "execution_count": 4,
   "id": "7bf59d7d-dd01-4920-a3a7-b1bf10a9c130",
   "metadata": {},
   "outputs": [
    {
     "data": {
      "image/png": "[encoded data removed]",
      "text/plain": [
       "<Figure size 400x300 with 1 Axes>"
      ]
     },
     "metadata": {},
     "output_type": "display_data"
    }
   ],
   "source": [
    "mouseID = directory.split('/')[6]\n",
    "export_path = f\"X:/RaymondLab/1_Kai/3_processed_data/3_lick_rates/{stage}/{mouseID}LR.png\"\n",
    "export_path_total = f\"X:/RaymondLab/1_Kai/3_processed_data/3_lick_rates/{stage}/{mouseID}_total.png\"\n",
    "plot = plot_array(sorted(lick_rate),stage, export_path)"
   ]
  },
  {
   "cell_type": "code",
   "execution_count": 5,
   "id": "1fc321f9-ec0c-4f90-a09c-ed242b9256c3",
   "metadata": {},
   "outputs": [],
   "source": [
    "def plot_total(array, stage, export_path_total=None):\n",
    "    # Extract x and y values from the array\n",
    "    x_values = [row[0] for row in array]\n",
    "    if stage == \"stage2\":\n",
    "        y_values = [row[3] for row in array]\n",
    "    elif stage == \"stage3\":\n",
    "        y_values = [row[7] for row in array]\n",
    "    else:\n",
    "        raise ValueError(\"Invalid stage. Must be 'stage2' or 'stage3'.\")\n",
    "\n",
    "    # Create the figure and axes\n",
    "    fig, ax = plt.subplots(figsize=(4, 3))\n",
    "    \n",
    "    # Change the figure and axes background colors\n",
    "    fig.patch.set_facecolor('#F3F6F1')\n",
    "    ax.set_facecolor('#F3F6F1')\n",
    "\n",
    "    # Plot the data\n",
    "    ax.plot(x_values, y_values, marker='o', linestyle='-', color='#589370', label='Lick rate', linewidth=2.5)\n",
    "    # Add the threshold line\n",
    "    #threshold = np.zeros(len(array)) + 75\n",
    "    #ax.plot(x_values, threshold, linestyle='dotted', color='y', label='Threshold')\n",
    "\n",
    "    # Add labels and title\n",
    "    ax.set_xlabel('Day Number')\n",
    "    ax.set_ylabel('Percent Licked (%)')\n",
    "    ax.set_title('HD Stage 3', fontsize=18)\n",
    "    \n",
    "    # Set y-axis limit and ticks\n",
    "    y_max = 110\n",
    "    y_ticks = np.linspace(0, 100, num=6)\n",
    "    ax.set_ylim(0, y_max)\n",
    "    ax.set_yticks(y_ticks)\n",
    "    ax.spines['top'].set_visible(False) #hides the top spine.\n",
    "    ax.spines['right'].set_visible(False) #hides the right spine.\n",
    "    \n",
    "    # Set x-axis ticks\n",
    "    x_ticks = np.linspace(1, len(x_values), num=9, dtype=int)  # Set ticks based on the number of data points\n",
    "    ax.set_xticks(x_ticks)\n",
    "    ax.set_xlabel('Day Number', fontsize=16)\n",
    "    ax.set_ylabel('Percent Success (%)', fontsize=16)\n",
    "\n",
    "    plt.xticks(fontsize=14)\n",
    "    plt.yticks(fontsize=14)\n",
    "\n",
    "\n",
    "    # Add legend and grid\n",
    "    #ax.legend()\n",
    "    #ax.grid(False, which='both', linestyle='--', linewidth=0.5)\n",
    "\n",
    "    plt.tight_layout()\n",
    "    \n",
    "    if export_path_total:\n",
    "        plt.savefig(export_path_total)  # Save the plot if a save path is provided\n",
    "    else:\n",
    "        plt.show()\n",
    "        \n",
    "    return fig\n"
   ]
  },
  {
   "cell_type": "code",
   "execution_count": 6,
   "id": "fdf1779e-31f1-41cd-abd6-363cf64d6d9a",
   "metadata": {},
   "outputs": [],
   "source": [
    "np.save(f'X:/RaymondLab/1_Kai/3_processed_data/7_lick_rate_csv/lick_rate_{stage}_{cage}_{mouse}.npy', lick_rate)"
   ]
  }
 ],
 "metadata": {
  "kernelspec": {
   "display_name": "Python 3 (ipykernel)",
   "language": "python",
   "name": "python3"
  },
  "language_info": {
   "codemirror_mode": {
    "name": "ipython",
    "version": 3
   },
   "file_extension": ".py",
   "mimetype": "text/x-python",
   "name": "python",
   "nbconvert_exporter": "python",
   "pygments_lexer": "ipython3",
   "version": "3.12.0"
  }
 },
 "nbformat": 4,
 "nbformat_minor": 5
}
