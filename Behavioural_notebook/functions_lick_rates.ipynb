{
 "cells": [
  {
   "cell_type": "markdown",
   "id": "cc95f025-7a9d-46fa-aaa6-12f526781ed0",
   "metadata": {},
   "source": [
    "# functions_lick_rates "
   ]
  },
  {
   "cell_type": "code",
   "execution_count": 2,
   "id": "751828bd-343f-489a-828a-023b736cd5f6",
   "metadata": {},
   "outputs": [],
   "source": [
    "import numpy as np\n",
    "import matplotlib.pyplot as plt\n",
    "import tifffile\n",
    "import cv2\n",
    "from PIL import Image\n",
    "import plotly.express as px\n",
    "import imagecodecs\n",
    "from matplotlib.animation import FuncAnimation\n",
    "import tkinter as tk\n",
    "from tkinter import filedialog\n",
    "import os"
   ]
  },
  {
   "cell_type": "code",
   "execution_count": 3,
   "id": "882c70c2-c0be-4c33-b712-93822e452b51",
   "metadata": {},
   "outputs": [],
   "source": [
    "def licked_txt(file_path, stage):\n",
    "    if stage == \"stage1\":\n",
    "        footer = 3\n",
    "    elif stage == \"stage2\":\n",
    "        footer = 4\n",
    "        \n",
    "    total_lines = sum(1 for line in open(file_path)) # Determine the total number of lines in the file\n",
    "\n",
    "    data_txt = np.genfromtxt(file_path, delimiter='\\t', skip_footer=footer)  # Read the text file into a NumPy array, excluding the last 3 rows\n",
    "\n",
    "    licked = data_txt[:, 4]\n",
    "    flash_type = data_txt[:, 2]\n",
    "\n",
    "    return licked, data_txt, flash_type"
   ]
  },
  {
   "cell_type": "code",
   "execution_count": 4,
   "id": "d0ee82a2-f7b0-4784-b118-9a295692780e",
   "metadata": {},
   "outputs": [],
   "source": [
    "def load_files_from_folder(folder_path, stage):\n",
    "    files = os.listdir(folder_path)\n",
    "    file_data = {}\n",
    "    for idx, file_name in enumerate(files, start=1):\n",
    "        file_path = os.path.join(folder_path, file_name)\n",
    "        if os.path.isfile(file_path):\n",
    "            print(\"Loading file:\", file_path)\n",
    "            # Read file data and store it in a dictionary with variable names\n",
    "            file_data[f'day{idx}'] = licked_txt(file_path, stage)\n",
    "    return file_data"
   ]
  },
  {
   "cell_type": "code",
   "execution_count": 6,
   "id": "4352f6e5-1fab-4574-b537-e0bea041155f",
   "metadata": {},
   "outputs": [],
   "source": [
    "def select_folder(stage):\n",
    "    folder_path = filedialog.askdirectory()\n",
    "    if folder_path:\n",
    "        print(\"Selected folder:\", folder_path)\n",
    "        file_data = load_files_from_folder(folder_path, stage)\n",
    "        print(\"Processing complete.\")\n",
    "        # Example: Access data for day 1: file_data['day1']\n",
    "        # Example: Access data for day 2: file_data['day2']\n",
    "    return file_data"
   ]
  },
  {
   "cell_type": "code",
   "execution_count": 75,
   "id": "790fab94-00d3-4a0a-8144-a34ccca43e52",
   "metadata": {},
   "outputs": [],
   "source": [
    "def licking(file_data, stage):\n",
    "    variable_data = []\n",
    "    \n",
    "    for idx, data in file_data.items():\n",
    "        count_1 = 0\n",
    "        count_2 = 0\n",
    "        day_number = int(idx[3:])\n",
    "        licked_values = data[0]\n",
    "        flash_type_values = data[2]  \n",
    "        for value in flash_type_values:\n",
    "            if value == 1:\n",
    "                count_1 += 1\n",
    "            elif value == 2:\n",
    "                count_2 += 1\n",
    "    \n",
    "        if stage == \"stage2\":\n",
    "            left_lick = ((sum(licked_values[i] for i in range(len(licked_values)) if flash_type_values[i] == 1))/count_1)*100\n",
    "            right_lick = ((sum(licked_values[i] for i in range(len(licked_values)) if flash_type_values[i] == 2))/count_2)*100\n",
    "            variable_data.append([day_number, left_lick, right_lick])\n",
    "            print(f\"Stage 2 day {day_number} reached left lick rate of {left_lick}%, and right lick rate of {right_lick}%\")\n",
    "        elif stage == \"stage1\": \n",
    "            summed_value = sum(data[0])\n",
    "            variable_data.append([day_number, summed_value])\n",
    "            print(f\"Stage 1 day {day_number} reached a lick rate of {summed_value}%\")\n",
    "    return variable_data"
   ]
  },
  {
   "cell_type": "code",
   "execution_count": 76,
   "id": "39ad77b1-20bf-42cb-903a-b15ae34fc827",
   "metadata": {},
   "outputs": [],
   "source": [
    "def plot_array(array, stage):\n",
    "    # Extract x and y values from the array\n",
    "    x_values = [row[0] for row in array]\n",
    "    if stage == \"stage1\":\n",
    "        y_values = [row[1] for row in array]\n",
    "    elif stage == \"stage2\":\n",
    "        y_values_left = [row[1] for row in array]\n",
    "        y_values_right = [row[2] for row in array]\n",
    "\n",
    "    # Plot the data\n",
    "    plt.figure(figsize=(3, 3))\n",
    "    if stage == \"stage1\":\n",
    "        plt.plot(x_values, y_values, marker='o', linestyle='-', color='g')\n",
    "        plt.legend([\"Lick rate\"])\n",
    "    elif stage == \"stage2\":\n",
    "        plt.plot(x_values, y_values_left, marker='o', linestyle='-', color='c', label='Left')\n",
    "        plt.plot(x_values, y_values_right, marker='o', linestyle='-', color='y', label='Right')\n",
    "        plt.legend([\"Left\", \"Right\"])\n",
    "\n",
    "    plt.xlabel('Day Number')\n",
    "    plt.ylabel('Percent licked (%)')\n",
    "    plt.title('Lick rate per day')\n",
    "    \n",
    "    # Set y-axis limit and ticks\n",
    "    y_max = 110  # Set maximum value to 100 with extra space above\n",
    "    y_ticks = np.linspace(0, 100, num=11)  # Set ticks from 0 to 100 in intervals of 10\n",
    "    plt.ylim(0, y_max)  # Set y-axis limit\n",
    "    plt.yticks(y_ticks)\n",
    "    \n",
    "    # Set x-axis ticks\n",
    "    x_ticks = np.linspace(1, len(x_values), num=len(x_values), dtype=int)  # Set ticks based on the number of data points\n",
    "    plt.xticks(x_ticks)\n",
    "    \n",
    "    plt.tight_layout()\n",
    "    plt.show()\n"
   ]
  },
  {
   "cell_type": "code",
   "execution_count": 77,
   "id": "cbc77148-821e-46be-b529-d6f330c362c0",
   "metadata": {},
   "outputs": [
    {
     "name": "stdout",
     "output_type": "stream",
     "text": [
      "Selected folder: X:/Raymond Lab/1_Kai/2_Pi_data/1_first_cohort/443076/stage2_443076_m1/lick_rates\n",
      "Loading file: X:/Raymond Lab/1_Kai/2_Pi_data/1_first_cohort/443076/stage2_443076_m1/lick_rates\\443076_m1_stage2_day1_2024-02-18_13-59-32_data.txt\n",
      "Loading file: X:/Raymond Lab/1_Kai/2_Pi_data/1_first_cohort/443076/stage2_443076_m1/lick_rates\\443076_m1_stage2_day2_2024-02-19_12-59-01_data.txt\n",
      "Loading file: X:/Raymond Lab/1_Kai/2_Pi_data/1_first_cohort/443076/stage2_443076_m1/lick_rates\\443076_m1_stage2_day3_2024-02-20_13-41-56_data.txt\n",
      "Loading file: X:/Raymond Lab/1_Kai/2_Pi_data/1_first_cohort/443076/stage2_443076_m1/lick_rates\\443076_m1_stage2_day4_2024-02-21_11-40-35_data.txt\n",
      "Processing complete.\n",
      "Stage 2 day 1 reached left lick rate of 68.33333333333333%, and right lick rate of 97.5%\n",
      "Stage 2 day 2 reached left lick rate of 87.5%, and right lick rate of 72.72727272727273%\n",
      "Stage 2 day 3 reached left lick rate of 96.42857142857143%, and right lick rate of 100.0%\n",
      "Stage 2 day 4 reached left lick rate of 100.0%, and right lick rate of 75.80645161290323%\n"
     ]
    }
   ],
   "source": [
    "stage = \"stage2\"\n",
    "file_data = select_folder(stage)\n",
    "lick_rate = licking(file_data, stage)"
   ]
  },
  {
   "cell_type": "code",
   "execution_count": 78,
   "id": "89822fb2-9eee-4c32-a13b-69475209f35f",
   "metadata": {},
   "outputs": [
    {
     "data": {
      "image/png": "[encoded data removed]",
      "text/plain": [
       "<Figure size 300x300 with 1 Axes>"
      ]
     },
     "metadata": {},
     "output_type": "display_data"
    }
   ],
   "source": [
    "plot_array(lick_rate,stage)"
   ]
  },
  {
   "cell_type": "code",
   "execution_count": null,
   "id": "0360bd35-d9cb-4517-b58a-ff5c2a1a5446",
   "metadata": {},
   "outputs": [],
   "source": []
  }
 ],
 "metadata": {
  "kernelspec": {
   "display_name": "Python 3 (ipykernel)",
   "language": "python",
   "name": "python3"
  },
  "language_info": {
   "codemirror_mode": {
    "name": "ipython",
    "version": 3
   },
   "file_extension": ".py",
   "mimetype": "text/x-python",
   "name": "python",
   "nbconvert_exporter": "python",
   "pygments_lexer": "ipython3",
   "version": "3.12.1"
  }
 },
 "nbformat": 4,
 "nbformat_minor": 5
}
