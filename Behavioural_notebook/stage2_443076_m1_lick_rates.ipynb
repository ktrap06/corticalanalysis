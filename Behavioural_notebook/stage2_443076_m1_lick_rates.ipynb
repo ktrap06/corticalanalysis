{
 "cells": [
  {
   "cell_type": "code",
   "execution_count": 1,
   "id": "751828bd-343f-489a-828a-023b736cd5f6",
   "metadata": {},
   "outputs": [],
   "source": [
    "import numpy as np\n",
    "import matplotlib.pyplot as plt\n",
    "import tifffile\n",
    "import cv2\n",
    "from PIL import Image\n",
    "import plotly.express as px\n",
    "import imagecodecs\n",
    "from matplotlib.animation import FuncAnimation\n",
    "import tkinter as tk\n",
    "from tkinter import filedialog\n",
    "import os\n",
    "\n",
    "from functions_lick_rates import (licked_txt,\n",
    "                                    load_files_from_folder,\n",
    "                                    select_folder,\n",
    "                                    licking,\n",
    "                                    plot_array,\n",
    "                                    plot_fail,\n",
    "                                    plot_total)"
   ]
  },
  {
   "cell_type": "code",
   "execution_count": 2,
   "id": "f3bb7509-041a-484a-9137-d01f8efb902f",
   "metadata": {},
   "outputs": [
    {
     "name": "stdout",
     "output_type": "stream",
     "text": [
      "Selected folder: X:/Raymond Lab/1_Kai/2_Pi_data/1_first_cohort/443076/stage2_443076_m1/lick_rates\n",
      "Loading file: X:/Raymond Lab/1_Kai/2_Pi_data/1_first_cohort/443076/stage2_443076_m1/lick_rates\\443076_m1_stage2_day1_2024-02-18_13-59-32_data.txt\n",
      "Loading file: X:/Raymond Lab/1_Kai/2_Pi_data/1_first_cohort/443076/stage2_443076_m1/lick_rates\\443076_m1_stage2_day2_2024-02-19_12-59-01_data.txt\n",
      "Loading file: X:/Raymond Lab/1_Kai/2_Pi_data/1_first_cohort/443076/stage2_443076_m1/lick_rates\\443076_m1_stage2_day3_2024-02-20_13-41-56_data.txt\n",
      "Loading file: X:/Raymond Lab/1_Kai/2_Pi_data/1_first_cohort/443076/stage2_443076_m1/lick_rates\\443076_m1_stage2_day4_2024-02-21_11-40-35_data.txt\n",
      "Loading file: X:/Raymond Lab/1_Kai/2_Pi_data/1_first_cohort/443076/stage2_443076_m1/lick_rates\\443076_m1_stage2_day5_2024-02-22_10-18-12_data.txt\n",
      "Processing complete.\n",
      "Stage 2 day 1 reached left lick rate of 68.33333333333333%, and right lick rate of 97.5%\n",
      "Stage 2 day 2 reached left lick rate of 87.5%, and right lick rate of 72.72727272727273%\n",
      "Stage 2 day 3 reached left lick rate of 96.42857142857143%, and right lick rate of 100.0%\n",
      "Stage 2 day 4 reached left lick rate of 100.0%, and right lick rate of 75.80645161290323%\n",
      "Stage 2 day 5 reached left lick rate of 100.0%, and right lick rate of 100.0%\n"
     ]
    }
   ],
   "source": [
    "stage = \"stage2\"\n",
    "folder = select_folder(stage)\n",
    "file_data, directory = folder[0], folder[1]\n",
    "lick_rate = licking(file_data, stage)"
   ]
  },
  {
   "cell_type": "code",
   "execution_count": 1,
   "id": "7bf59d7d-dd01-4920-a3a7-b1bf10a9c130",
   "metadata": {},
   "outputs": [
    {
     "ename": "NameError",
     "evalue": "name 'directory' is not defined",
     "output_type": "error",
     "traceback": [
      "\u001b[1;31m---------------------------------------------------------------------------\u001b[0m",
      "\u001b[1;31mNameError\u001b[0m                                 Traceback (most recent call last)",
      "Cell \u001b[1;32mIn[1], line 1\u001b[0m\n\u001b[1;32m----> 1\u001b[0m mouseID \u001b[38;5;241m=\u001b[39m \u001b[43mdirectory\u001b[49m\u001b[38;5;241m.\u001b[39msplit(\u001b[38;5;124m'\u001b[39m\u001b[38;5;124m/\u001b[39m\u001b[38;5;124m'\u001b[39m)[\u001b[38;5;241m6\u001b[39m]\n\u001b[0;32m      2\u001b[0m export_path \u001b[38;5;241m=\u001b[39m \u001b[38;5;124mf\u001b[39m\u001b[38;5;124m\"\u001b[39m\u001b[38;5;124mX:/Raymond Lab/1_Kai/3_processed_data/3_lick_rates/\u001b[39m\u001b[38;5;132;01m{\u001b[39;00mstage\u001b[38;5;132;01m}\u001b[39;00m\u001b[38;5;124m/\u001b[39m\u001b[38;5;132;01m{\u001b[39;00mmouseID\u001b[38;5;132;01m}\u001b[39;00m\u001b[38;5;124mLR.png\u001b[39m\u001b[38;5;124m\"\u001b[39m\n\u001b[0;32m      3\u001b[0m export_path_total \u001b[38;5;241m=\u001b[39m \u001b[38;5;124mf\u001b[39m\u001b[38;5;124m\"\u001b[39m\u001b[38;5;124mX:/Raymond Lab/1_Kai/3_processed_data/3_lick_rates/\u001b[39m\u001b[38;5;132;01m{\u001b[39;00mstage\u001b[38;5;132;01m}\u001b[39;00m\u001b[38;5;124m/\u001b[39m\u001b[38;5;132;01m{\u001b[39;00mmouseID\u001b[38;5;132;01m}\u001b[39;00m\u001b[38;5;124m_total.png\u001b[39m\u001b[38;5;124m\"\u001b[39m\n",
      "\u001b[1;31mNameError\u001b[0m: name 'directory' is not defined"
     ]
    }
   ],
   "source": [
    "mouseID = directory.split('/')[6]\n",
    "export_path = f\"X:/Raymond Lab/1_Kai/3_processed_data/3_lick_rates/{stage}/{mouseID}LR.png\"\n",
    "export_path_total = f\"X:/Raymond Lab/1_Kai/3_processed_data/3_lick_rates/{stage}/{mouseID}_total.png\"\n",
    "plot = plot_array(sorted(lick_rate),stage, export_path)"
   ]
  },
  {
   "cell_type": "code",
   "execution_count": 2,
   "id": "1f55511c-2fde-4fe0-b5f0-502180b8227b",
   "metadata": {},
   "outputs": [
    {
     "ename": "NameError",
     "evalue": "name 'stage' is not defined",
     "output_type": "error",
     "traceback": [
      "\u001b[1;31m---------------------------------------------------------------------------\u001b[0m",
      "\u001b[1;31mNameError\u001b[0m                                 Traceback (most recent call last)",
      "Cell \u001b[1;32mIn[2], line 1\u001b[0m\n\u001b[1;32m----> 1\u001b[0m \u001b[38;5;28;01mif\u001b[39;00m \u001b[43mstage\u001b[49m \u001b[38;5;241m==\u001b[39m \u001b[38;5;124m\"\u001b[39m\u001b[38;5;124mstage2\u001b[39m\u001b[38;5;124m\"\u001b[39m \u001b[38;5;129;01mor\u001b[39;00m \u001b[38;5;124m\"\u001b[39m\u001b[38;5;124mstage3\u001b[39m\u001b[38;5;124m\"\u001b[39m:\n\u001b[0;32m      2\u001b[0m     plot_total(\u001b[38;5;28msorted\u001b[39m(lick_rate),stage, export_path_total)\n",
      "\u001b[1;31mNameError\u001b[0m: name 'stage' is not defined"
     ]
    }
   ],
   "source": [
    "if stage == \"stage2\" or \"stage3\":\n",
    "    plot_total(sorted(lick_rate),stage, export_path_total)"
   ]
  },
  {
   "cell_type": "code",
   "execution_count": null,
   "id": "fbfb46a8-a7e1-4370-929d-895f729204a2",
   "metadata": {},
   "outputs": [],
   "source": []
  }
 ],
 "metadata": {
  "kernelspec": {
   "display_name": "Python 3 (ipykernel)",
   "language": "python",
   "name": "python3"
  },
  "language_info": {
   "codemirror_mode": {
    "name": "ipython",
    "version": 3
   },
   "file_extension": ".py",
   "mimetype": "text/x-python",
   "name": "python",
   "nbconvert_exporter": "python",
   "pygments_lexer": "ipython3",
   "version": "3.12.0"
  }
 },
 "nbformat": 4,
 "nbformat_minor": 5
}
