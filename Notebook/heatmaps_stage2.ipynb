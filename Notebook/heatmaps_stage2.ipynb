{
 "cells": [
  {
   "cell_type": "markdown",
   "id": "56d5baa3-d7af-49a4-9424-6e4aecd314fe",
   "metadata": {},
   "source": [
    "# heatmaps"
   ]
  },
  {
   "cell_type": "code",
   "execution_count": 1,
   "id": "7701b154-e0c0-40b1-b2f3-9f283548f067",
   "metadata": {},
   "outputs": [],
   "source": [
    "import numpy as np\n",
    "import matplotlib.pyplot as plt\n",
    "import cv2\n",
    "%matplotlib inline\n",
    "import plotly.express as px\n",
    "import os\n",
    "import pickle\n",
    "import seaborn as sns"
   ]
  },
  {
   "cell_type": "code",
   "execution_count": 2,
   "id": "9ce0c7d9-321e-4f18-8f83-3002890758db",
   "metadata": {},
   "outputs": [],
   "source": [
    "number_of_days = 5 #change this values based on number of days"
   ]
  },
  {
   "cell_type": "markdown",
   "id": "187a5457-88c8-4666-ba2f-b664d5f48c96",
   "metadata": {},
   "source": [
    "## load files from folder"
   ]
  },
  {
   "cell_type": "code",
   "execution_count": 3,
   "id": "11035a8c-c89f-4ca0-9d57-67fd30c333d3",
   "metadata": {},
   "outputs": [],
   "source": [
    "def pickle_from_folder(folder_path):\n",
    "    # Initialize an empty list to store loaded data\n",
    "    loaded_data = []\n",
    "\n",
    "    # Iterate over files in the folder\n",
    "    for filename in os.listdir(folder_path):\n",
    "        # Check if the file is a pickle file\n",
    "        if filename.endswith('.pickle'):\n",
    "            file_path = os.path.join(folder_path, filename)\n",
    "            try:\n",
    "                # Open the pickle file in read-binary mode\n",
    "                with open(file_path, 'rb') as file:\n",
    "                    # Load the data from the pickle file\n",
    "                    data = pickle.load(file)\n",
    "                    loaded_data.append(data)\n",
    "            except Exception as e:\n",
    "                print(f\"Error loading {filename}: {e}\")\n",
    "    return loaded_data"
   ]
  },
  {
   "cell_type": "code",
   "execution_count": 4,
   "id": "1e9e3140-0252-4129-a6be-26845ec52ca5",
   "metadata": {},
   "outputs": [],
   "source": [
    "# Define the shared folder path\n",
    "shared_path = \"X:/Raymond Lab/1_Kai/3_processed_data/2_pickle/stage2\"\n",
    "days = [f\"day{i}\" for i in range(1, number_of_days + 1)]"
   ]
  },
  {
   "cell_type": "markdown",
   "id": "bc1123d2-63fd-4bf4-b9b0-0a4b72af1097",
   "metadata": {},
   "source": [
    "# single flash heatmaps"
   ]
  },
  {
   "cell_type": "code",
   "execution_count": 5,
   "id": "77bdb81b-776d-4e37-b320-505794df517b",
   "metadata": {},
   "outputs": [],
   "source": [
    "def load_day_s(folder_path, day_name):\n",
    "    # Load data for single and double trials\n",
    "    s_v1_path = os.path.join(folder_path, \"single\", \"v1\")\n",
    "    s_v1_data = pickle_from_folder(s_v1_path)\n",
    "\n",
    "    # Calculate mean for single trials\n",
    "    s_v1_means = [np.mean(data, axis=(1, 2)) for data in s_v1_data]\n",
    "    avg_s_v1 = np.mean(np.stack(s_v1_means), axis=0)\n",
    "\n",
    "    return avg_s_v1"
   ]
  },
  {
   "cell_type": "code",
   "execution_count": 6,
   "id": "7de93bfc-f8d6-4fa2-a8dc-f88fb268357f",
   "metadata": {},
   "outputs": [
    {
     "ename": "ValueError",
     "evalue": "all input arrays must have the same shape",
     "output_type": "error",
     "traceback": [
      "\u001b[1;31m---------------------------------------------------------------------------\u001b[0m",
      "\u001b[1;31mValueError\u001b[0m                                Traceback (most recent call last)",
      "Cell \u001b[1;32mIn[6], line 4\u001b[0m\n\u001b[0;32m      2\u001b[0m \u001b[38;5;28;01mfor\u001b[39;00m day \u001b[38;5;129;01min\u001b[39;00m days:\n\u001b[0;32m      3\u001b[0m     folder_path \u001b[38;5;241m=\u001b[39m os\u001b[38;5;241m.\u001b[39mpath\u001b[38;5;241m.\u001b[39mjoin(shared_path, day)\n\u001b[1;32m----> 4\u001b[0m     all_averages_s\u001b[38;5;241m.\u001b[39mappend(\u001b[43mload_day_s\u001b[49m\u001b[43m(\u001b[49m\u001b[43mfolder_path\u001b[49m\u001b[43m,\u001b[49m\u001b[43m \u001b[49m\u001b[43mday\u001b[49m\u001b[43m)\u001b[49m)\n",
      "Cell \u001b[1;32mIn[5], line 8\u001b[0m, in \u001b[0;36mload_day_s\u001b[1;34m(folder_path, day_name)\u001b[0m\n\u001b[0;32m      6\u001b[0m \u001b[38;5;66;03m# Calculate mean for single trials\u001b[39;00m\n\u001b[0;32m      7\u001b[0m s_v1_means \u001b[38;5;241m=\u001b[39m [np\u001b[38;5;241m.\u001b[39mmean(data, axis\u001b[38;5;241m=\u001b[39m(\u001b[38;5;241m1\u001b[39m, \u001b[38;5;241m2\u001b[39m)) \u001b[38;5;28;01mfor\u001b[39;00m data \u001b[38;5;129;01min\u001b[39;00m s_v1_data]\n\u001b[1;32m----> 8\u001b[0m avg_s_v1 \u001b[38;5;241m=\u001b[39m np\u001b[38;5;241m.\u001b[39mmean(\u001b[43mnp\u001b[49m\u001b[38;5;241;43m.\u001b[39;49m\u001b[43mstack\u001b[49m\u001b[43m(\u001b[49m\u001b[43ms_v1_means\u001b[49m\u001b[43m)\u001b[49m, axis\u001b[38;5;241m=\u001b[39m\u001b[38;5;241m0\u001b[39m)\n\u001b[0;32m     10\u001b[0m \u001b[38;5;28;01mreturn\u001b[39;00m avg_s_v1\n",
      "File \u001b[1;32m~\\.conda\\envs\\corticalanalysis\\Lib\\site-packages\\numpy\\core\\shape_base.py:449\u001b[0m, in \u001b[0;36mstack\u001b[1;34m(arrays, axis, out, dtype, casting)\u001b[0m\n\u001b[0;32m    447\u001b[0m shapes \u001b[38;5;241m=\u001b[39m {arr\u001b[38;5;241m.\u001b[39mshape \u001b[38;5;28;01mfor\u001b[39;00m arr \u001b[38;5;129;01min\u001b[39;00m arrays}\n\u001b[0;32m    448\u001b[0m \u001b[38;5;28;01mif\u001b[39;00m \u001b[38;5;28mlen\u001b[39m(shapes) \u001b[38;5;241m!=\u001b[39m \u001b[38;5;241m1\u001b[39m:\n\u001b[1;32m--> 449\u001b[0m     \u001b[38;5;28;01mraise\u001b[39;00m \u001b[38;5;167;01mValueError\u001b[39;00m(\u001b[38;5;124m'\u001b[39m\u001b[38;5;124mall input arrays must have the same shape\u001b[39m\u001b[38;5;124m'\u001b[39m)\n\u001b[0;32m    451\u001b[0m result_ndim \u001b[38;5;241m=\u001b[39m arrays[\u001b[38;5;241m0\u001b[39m]\u001b[38;5;241m.\u001b[39mndim \u001b[38;5;241m+\u001b[39m \u001b[38;5;241m1\u001b[39m\n\u001b[0;32m    452\u001b[0m axis \u001b[38;5;241m=\u001b[39m normalize_axis_index(axis, result_ndim)\n",
      "\u001b[1;31mValueError\u001b[0m: all input arrays must have the same shape"
     ]
    }
   ],
   "source": [
    "all_averages_s = []\n",
    "for day in days:\n",
    "    folder_path = os.path.join(shared_path, day)\n",
    "    all_averages_s.append(load_day_s(folder_path, day))\n"
   ]
  },
  {
   "cell_type": "code",
   "execution_count": null,
   "id": "2254fe66-f59c-4467-87c6-22f6e34a5c44",
   "metadata": {},
   "outputs": [],
   "source": [
    "sns.set_theme()\n",
    "\n",
    "f, ax = plt.subplots(figsize=(9, 6))\n",
    "sns.heatmap(all_averages_s, cmap = \"jet\")\n",
    "ax.set_yticklabels([str(i) for i in range(1, len(all_averages_s) + 1)])\n",
    "ax.set(xlabel=\"frames (30fps)\", ylabel=\"day\")"
   ]
  },
  {
   "cell_type": "markdown",
   "id": "e2f84a1d-4bc5-482f-9db6-b0dbf3443bf4",
   "metadata": {},
   "source": [
    "# double flash heatmaps"
   ]
  },
  {
   "cell_type": "code",
   "execution_count": null,
   "id": "86d1e6ac-428e-4e57-b3de-4799044e24f8",
   "metadata": {},
   "outputs": [],
   "source": [
    "def load_day_d(folder_path, day_name):\n",
    "    d_v1_path = os.path.join(folder_path, \"double\", \"v1\")\n",
    "    d_v1_data = pickle_from_folder(d_v1_path)\n",
    "\n",
    "    # Calculate mean for single trials\n",
    "    d_v1_means = [np.mean(data, axis=(1, 2)) for data in d_v1_data]\n",
    "    avg_d_v1 = np.mean(np.stack(d_v1_means), axis=0)\n",
    "    \n",
    "    return avg_d_v1"
   ]
  },
  {
   "cell_type": "code",
   "execution_count": null,
   "id": "ed6512f9-a04f-45bb-b45b-8880c8d87d8b",
   "metadata": {},
   "outputs": [],
   "source": [
    "all_averages_d = []\n",
    "for day in days:\n",
    "    folder_path = os.path.join(shared_path, day)\n",
    "    all_averages_d.append(load_day_d(folder_path, day))\n"
   ]
  },
  {
   "cell_type": "code",
   "execution_count": null,
   "id": "2cab4efd-70c5-4dc8-8224-83ae0ea336fe",
   "metadata": {},
   "outputs": [],
   "source": [
    "sns.set_theme()\n",
    "f, ax = plt.subplots(figsize=(9, 6))\n",
    "sns.heatmap(all_averages_d, cmap = \"jet\")\n",
    "ax.set_yticklabels([str(i) for i in range(1, len(all_averages_d) + 1)])\n",
    "ax.set(xlabel=\"frames (30fps)\", ylabel=\"day\")"
   ]
  },
  {
   "cell_type": "code",
   "execution_count": null,
   "id": "21aacd91-c1fb-4943-97c4-c55cc8485ad0",
   "metadata": {},
   "outputs": [],
   "source": []
  }
 ],
 "metadata": {
  "kernelspec": {
   "display_name": "Python 3 (ipykernel)",
   "language": "python",
   "name": "python3"
  },
  "language_info": {
   "codemirror_mode": {
    "name": "ipython",
    "version": 3
   },
   "file_extension": ".py",
   "mimetype": "text/x-python",
   "name": "python",
   "nbconvert_exporter": "python",
   "pygments_lexer": "ipython3",
   "version": "3.12.0"
  }
 },
 "nbformat": 4,
 "nbformat_minor": 5
}
