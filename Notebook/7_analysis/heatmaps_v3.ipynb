{
 "cells": [
  {
   "cell_type": "markdown",
   "id": "dde45df6-aa36-487d-b89b-a39003ba9a52",
   "metadata": {},
   "source": [
    "# Heatmaps Third Cohort V3"
   ]
  },
  {
   "cell_type": "markdown",
   "id": "0b61c284-66c5-4266-85fe-ea5c97b12143",
   "metadata": {},
   "source": [
    "## 1. import libraries and define mice conditions"
   ]
  },
  {
   "cell_type": "code",
   "execution_count": 1,
   "id": "c1912003-6632-4050-a571-819f3f38cd07",
   "metadata": {},
   "outputs": [],
   "source": [
    "import numpy as np\n",
    "import matplotlib.pyplot as plt\n",
    "import cv2\n",
    "%matplotlib inline\n",
    "import plotly.express as px\n",
    "import os\n",
    "import pickle\n",
    "import seaborn as sns\n",
    "from scipy.stats import zscore\n",
    "\n",
    "from heatmap_functions import (\n",
    "load_one_day\n",
    ")"
   ]
  },
  {
   "cell_type": "code",
   "execution_count": 2,
   "id": "6248c426-66ab-477c-a581-8518ae296add",
   "metadata": {},
   "outputs": [],
   "source": [
    "number_of_days = 15 #change this values based on number of days\n",
    "mice = [\"466029_f3\", \"475165_f1\", \"475165_f3\", \"475165_f5\", \"475165_f7\"]\n",
    "HD_mice = [\"466029_f3\", \"475165_f3\", \"475165_f7\"]\n",
    "WT_mice = [\"475165_f1\", \"475165_f5\"]"
   ]
  },
  {
   "cell_type": "code",
   "execution_count": 3,
   "id": "3b17d4c1-5a8a-49c2-a431-140b12856cf8",
   "metadata": {},
   "outputs": [],
   "source": [
    "# Define the shared folder path\n",
    "shared_path = \"X:/RaymondLab/1_Kai/3_processed_data/2_pickle/stage2\"\n",
    "days = [f\"day{i}\" for i in range(1, number_of_days + 1)]"
   ]
  },
  {
   "cell_type": "markdown",
   "id": "44b588af-f1ce-4a74-bba0-de9df9d6ecf2",
   "metadata": {},
   "source": [
    "## 2. averaged brain activity by condition"
   ]
  },
  {
   "cell_type": "markdown",
   "id": "6080a5dc-c218-40ac-bea1-b497bfb39738",
   "metadata": {},
   "source": [
    "(HD double flash, HD single flash, WT double flash, and WT single flash)"
   ]
  },
  {
   "cell_type": "code",
   "execution_count": 17,
   "id": "b01c2a3a-9d38-4462-b962-16de9cd0caca",
   "metadata": {},
   "outputs": [],
   "source": [
    "def load_per_condition(condition, flash, days, length):\n",
    "    one_mice = []\n",
    "    for mouse in condition:\n",
    "        one_mouse = []  # List to store data for this mouse\n",
    "        one_mice.append(one_mouse)  # Add this mouse's data list to the main list\n",
    "        for day in days:\n",
    "            folder_path = os.path.join(shared_path, day, flash, \"v1\")\n",
    "            file_path = f\"{folder_path}/{mouse}_stage2_{day}_{flash}_v1.pickle\"\n",
    "            try:\n",
    "                one_day = load_one_day(file_path)  # Load the data for the day\n",
    "                one_mouse.append(one_day)  # Append the day's data to the mouse list\n",
    "            except FileNotFoundError:\n",
    "                # If the file is not found, append NaN of a predefined length\n",
    "                default_length = length  # or another length depending on your dataset\n",
    "                one_mouse.append(np.full(default_length, np.nan))  # Append NaNs\n",
    "                print(f\"File not found for mouse {mouse} on day {day}\")\n",
    "    return one_mice"
   ]
  },
  {
   "cell_type": "code",
   "execution_count": 18,
   "id": "66570d24-dd7e-48a8-828c-6009252eb88b",
   "metadata": {},
   "outputs": [
    {
     "name": "stdout",
     "output_type": "stream",
     "text": [
      "File not found for mouse 466029_f3 on day day6\n",
      "File not found for mouse 466029_f3 on day day9\n",
      "File not found for mouse 466029_f3 on day day14\n",
      "File not found for mouse 466029_f3 on day day15\n",
      "File not found for mouse 475165_f3 on day day6\n",
      "File not found for mouse 475165_f3 on day day9\n",
      "File not found for mouse 475165_f3 on day day10\n",
      "File not found for mouse 475165_f3 on day day11\n",
      "File not found for mouse 475165_f3 on day day15\n",
      "File not found for mouse 475165_f7 on day day9\n",
      "File not found for mouse 475165_f7 on day day11\n",
      "File not found for mouse 475165_f7 on day day13\n",
      "File not found for mouse 475165_f7 on day day14\n",
      "File not found for mouse 475165_f7 on day day15\n"
     ]
    }
   ],
   "source": [
    "single_HD = load_per_condition(HD_mice, \"single\", days, length=200) #length is number of frames since the first flash"
   ]
  },
  {
   "cell_type": "code",
   "execution_count": 19,
   "id": "8e0884cb-3b56-4c7c-a362-418110a791a5",
   "metadata": {},
   "outputs": [
    {
     "name": "stdout",
     "output_type": "stream",
     "text": [
      "File not found for mouse 466029_f3 on day day6\n",
      "File not found for mouse 466029_f3 on day day9\n",
      "File not found for mouse 466029_f3 on day day14\n",
      "File not found for mouse 466029_f3 on day day15\n",
      "File not found for mouse 475165_f3 on day day6\n",
      "File not found for mouse 475165_f3 on day day9\n",
      "File not found for mouse 475165_f3 on day day10\n",
      "File not found for mouse 475165_f3 on day day11\n",
      "File not found for mouse 475165_f3 on day day15\n",
      "File not found for mouse 475165_f7 on day day9\n",
      "File not found for mouse 475165_f7 on day day11\n",
      "File not found for mouse 475165_f7 on day day13\n",
      "File not found for mouse 475165_f7 on day day14\n",
      "File not found for mouse 475165_f7 on day day15\n"
     ]
    }
   ],
   "source": [
    "double_HD = load_per_condition(HD_mice, \"double\", days, length=200) #length is number of frames since the first flash"
   ]
  },
  {
   "cell_type": "code",
   "execution_count": 20,
   "id": "f114fc36-a148-49a1-9638-52f24a681fcf",
   "metadata": {},
   "outputs": [
    {
     "name": "stdout",
     "output_type": "stream",
     "text": [
      "File not found for mouse 475165_f1 on day day6\n",
      "File not found for mouse 475165_f1 on day day15\n",
      "File not found for mouse 475165_f5 on day day4\n",
      "File not found for mouse 475165_f5 on day day9\n",
      "File not found for mouse 475165_f5 on day day10\n",
      "File not found for mouse 475165_f5 on day day11\n",
      "File not found for mouse 475165_f5 on day day12\n",
      "File not found for mouse 475165_f5 on day day15\n"
     ]
    }
   ],
   "source": [
    "single_WT = load_per_condition(WT_mice, \"single\", days, length=200) #length is number of frames since the first flash"
   ]
  },
  {
   "cell_type": "code",
   "execution_count": 21,
   "id": "d2c31156-b7d5-4a99-ad90-b2b6fc797210",
   "metadata": {},
   "outputs": [
    {
     "name": "stdout",
     "output_type": "stream",
     "text": [
      "File not found for mouse 475165_f1 on day day6\n",
      "File not found for mouse 475165_f1 on day day15\n",
      "File not found for mouse 475165_f5 on day day4\n",
      "File not found for mouse 475165_f5 on day day9\n",
      "File not found for mouse 475165_f5 on day day10\n",
      "File not found for mouse 475165_f5 on day day11\n",
      "File not found for mouse 475165_f5 on day day12\n",
      "File not found for mouse 475165_f5 on day day15\n"
     ]
    }
   ],
   "source": [
    "double_WT = load_per_condition(WT_mice, \"double\", days, length=200) #length is number of frames since the first flash"
   ]
  },
  {
   "cell_type": "code",
   "execution_count": 29,
   "id": "43fc1547-c215-4b0b-aa89-6cccec452189",
   "metadata": {},
   "outputs": [
    {
     "data": {
      "text/plain": [
       "-4.5530847e-05"
      ]
     },
     "execution_count": 29,
     "metadata": {},
     "output_type": "execute_result"
    }
   ],
   "source": [
    "double_WT[1][1][1]"
   ]
  },
  {
   "cell_type": "code",
   "execution_count": null,
   "id": "a68ba629-ac80-4fa6-b000-9ce7f4efb21c",
   "metadata": {},
   "outputs": [],
   "source": []
  },
  {
   "cell_type": "code",
   "execution_count": null,
   "id": "dabe6487-68ba-4e9a-a610-41bb0cc2b378",
   "metadata": {},
   "outputs": [],
   "source": []
  },
  {
   "cell_type": "code",
   "execution_count": null,
   "id": "db7ebf4b-b581-4c5f-9bc3-2da53112f464",
   "metadata": {},
   "outputs": [],
   "source": []
  },
  {
   "cell_type": "code",
   "execution_count": null,
   "id": "19bda12c-608f-4422-9dc9-92fb927e7cd5",
   "metadata": {},
   "outputs": [],
   "source": []
  }
 ],
 "metadata": {
  "kernelspec": {
   "display_name": "Python 3 (ipykernel)",
   "language": "python",
   "name": "python3"
  },
  "language_info": {
   "codemirror_mode": {
    "name": "ipython",
    "version": 3
   },
   "file_extension": ".py",
   "mimetype": "text/x-python",
   "name": "python",
   "nbconvert_exporter": "python",
   "pygments_lexer": "ipython3",
   "version": "3.12.0"
  }
 },
 "nbformat": 4,
 "nbformat_minor": 5
}
