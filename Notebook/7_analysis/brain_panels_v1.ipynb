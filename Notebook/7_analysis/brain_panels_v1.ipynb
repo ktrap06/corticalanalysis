{
 "cells": [
  {
   "cell_type": "markdown",
   "id": "dde45df6-aa36-487d-b89b-a39003ba9a52",
   "metadata": {},
   "source": [
    "# Heatmaps Third Cohort V3"
   ]
  },
  {
   "cell_type": "markdown",
   "id": "0b61c284-66c5-4266-85fe-ea5c97b12143",
   "metadata": {},
   "source": [
    "## 1. import libraries and define mice conditions"
   ]
  },
  {
   "cell_type": "code",
   "execution_count": 1,
   "id": "c1912003-6632-4050-a571-819f3f38cd07",
   "metadata": {},
   "outputs": [],
   "source": [
    "import numpy as np\n",
    "import matplotlib.pyplot as plt\n",
    "import cv2\n",
    "%matplotlib inline\n",
    "import plotly.express as px\n",
    "import os\n",
    "import pickle\n",
    "import seaborn as sns\n",
    "from scipy.stats import zscore\n",
    "\n",
    "from heatmap_functions import (\n",
    "load_pickle\n",
    ")"
   ]
  },
  {
   "cell_type": "code",
   "execution_count": 2,
   "id": "6248c426-66ab-477c-a581-8518ae296add",
   "metadata": {},
   "outputs": [],
   "source": [
    "number_of_days = 15 #change this values based on number of days\n",
    "mice = [\"466029_f3\", \"475165_f1\", \"475165_f3\", \"475165_f5\", \"475165_f7\"]\n",
    "HD_mice = [\"466029_f3\", \"475165_f3\", \"475165_f7\"]\n",
    "WT_mice = [\"475165_f1\", \"475165_f5\"]"
   ]
  },
  {
   "cell_type": "code",
   "execution_count": 3,
   "id": "3b17d4c1-5a8a-49c2-a431-140b12856cf8",
   "metadata": {},
   "outputs": [],
   "source": [
    "# Define the shared folder path\n",
    "shared_path = \"X:/RaymondLab/1_Kai/3_processed_data/2_pickle/stage2\"\n",
    "days = [f\"day{i}\" for i in range(1, number_of_days + 1)]"
   ]
  },
  {
   "cell_type": "markdown",
   "id": "44b588af-f1ce-4a74-bba0-de9df9d6ecf2",
   "metadata": {},
   "source": [
    "## 2. averaged brain activity by condition"
   ]
  },
  {
   "cell_type": "markdown",
   "id": "6080a5dc-c218-40ac-bea1-b497bfb39738",
   "metadata": {},
   "source": [
    "(HD double flash, HD single flash, WT double flash, and WT single flash)"
   ]
  },
  {
   "cell_type": "code",
   "execution_count": 4,
   "id": "dabe6487-68ba-4e9a-a610-41bb0cc2b378",
   "metadata": {},
   "outputs": [],
   "source": [
    "def load_pickle(condition, flash, success_rate, days, length = 200):\n",
    "\n",
    "    dataset = []\n",
    "    for mouse in condition:\n",
    "        one_mouse = []\n",
    "        dataset.append(one_mouse)\n",
    "        for day in days:\n",
    "            path = f\"{shared_path}/{flash}/{success_rate}/full_frame/{mouse}_stage2_{day}_{flash}_{success_rate}_ff.pickle\"\n",
    "            #print(path)\n",
    "            try:\n",
    "                with open(path, 'rb') as file:\n",
    "                    one_day = pickle.load(file)\n",
    "                one_mouse.append(one_day)\n",
    "            except FileNotFoundError:\n",
    "                # If the file is not found, append NaN of a predefined length\n",
    "                default_length = length  # or another length depending on your dataset\n",
    "                one_mouse.append(np.full(default_length, np.nan))  # Append NaNs\n",
    "                print(f\"File not found for mouse {mouse} on day {day}\")\n",
    "    return dataset"
   ]
  },
  {
   "cell_type": "code",
   "execution_count": 5,
   "id": "db7ebf4b-b581-4c5f-9bc3-2da53112f464",
   "metadata": {},
   "outputs": [],
   "source": [
    "#HD_single_success = load_pickle(HD_mice, \"single\", \"success\", days, length = 200)"
   ]
  },
  {
   "cell_type": "code",
   "execution_count": 6,
   "id": "19bda12c-608f-4422-9dc9-92fb927e7cd5",
   "metadata": {},
   "outputs": [
    {
     "name": "stdout",
     "output_type": "stream",
     "text": [
      "File not found for mouse 475165_f1 on day day4\n",
      "File not found for mouse 475165_f1 on day day8\n",
      "File not found for mouse 475165_f1 on day day10\n",
      "File not found for mouse 475165_f1 on day day15\n",
      "File not found for mouse 475165_f5 on day day4\n",
      "File not found for mouse 475165_f5 on day day9\n",
      "File not found for mouse 475165_f5 on day day11\n",
      "File not found for mouse 475165_f5 on day day15\n"
     ]
    }
   ],
   "source": [
    "WT_single_success = load_pickle(WT_mice, \"single\", \"success\", days, length = 200) #[mouse(2), day (15), trials(x), timescale (200), length, width]"
   ]
  },
  {
   "cell_type": "markdown",
   "id": "6acdd0ad-c592-4173-9d77-33848ecdc584",
   "metadata": {},
   "source": [
    "# 2. Brain panels"
   ]
  },
  {
   "cell_type": "code",
   "execution_count": 7,
   "id": "4cbab633-ea3a-4faa-9c69-9b27ad317683",
   "metadata": {},
   "outputs": [],
   "source": [
    "#WT_single_success_array = np.array(WT_single_success, dtype=object)"
   ]
  },
  {
   "cell_type": "code",
   "execution_count": 128,
   "id": "b0156214-d158-4119-95d5-71b7be6c5be3",
   "metadata": {},
   "outputs": [],
   "source": [
    "#convret the pickle file into array, done via padding the trials with nan values if there are less than the maximum amount of trials\n",
    "#anythign that is 200 trials mean the whole day is a scratch experiment\n",
    "max_length = []\n",
    "lengths = []\n",
    "for day in WT_single_success:\n",
    "    for trial in day:\n",
    "        lengths.append(len(trial))\n",
    "        if len(trial) != 200:\n",
    "            max_length.append(len(trial))\n",
    "max_trial_length = np.max(max_length)\n",
    "\n",
    "padded_dataset = []\n",
    "for day in WT_single_success:\n",
    "    padded_trial = []\n",
    "    padded_dataset.append(padded_trial)\n",
    "    for trial in day:\n",
    "        if len(trial) == 200: #deal with scratch experiment days (all values will be nan)\n",
    "            padded_trial.append(np.zeros((max_trial_length,200, 128, 128)) * np.nan)\n",
    "        else:\n",
    "            padded_trial.append(np.pad(trial, ((0, max_trial_length - len(trial)), (0, 0), (0, 0),(0,0)), constant_values=np.nan)) #pad the days which have less trials\n",
    "array = np.array(padded_dataset)"
   ]
  },
  {
   "cell_type": "code",
   "execution_count": 148,
   "id": "37039b34-f479-4420-96b2-f8123b64ef57",
   "metadata": {},
   "outputs": [
    {
     "data": {
      "text/plain": [
       "0.0012356889350829342"
      ]
     },
     "execution_count": 148,
     "metadata": {},
     "output_type": "execute_result"
    }
   ],
   "source": [
    "np.nanmean(array)"
   ]
  },
  {
   "cell_type": "code",
   "execution_count": 127,
   "id": "8a31f9c0-b0bc-4d3e-9c46-da873a52d7b6",
   "metadata": {},
   "outputs": [
    {
     "data": {
      "text/plain": [
       "(2, 15, 43, 200, 128, 128)"
      ]
     },
     "execution_count": 127,
     "metadata": {},
     "output_type": "execute_result"
    }
   ],
   "source": [
    "array.shape"
   ]
  },
  {
   "cell_type": "code",
   "execution_count": null,
   "id": "026516f1-eac6-48b9-9ca7-3bffcf88381b",
   "metadata": {},
   "outputs": [],
   "source": []
  }
 ],
 "metadata": {
  "kernelspec": {
   "display_name": "Python 3 (ipykernel)",
   "language": "python",
   "name": "python3"
  },
  "language_info": {
   "codemirror_mode": {
    "name": "ipython",
    "version": 3
   },
   "file_extension": ".py",
   "mimetype": "text/x-python",
   "name": "python",
   "nbconvert_exporter": "python",
   "pygments_lexer": "ipython3",
   "version": "3.12.0"
  }
 },
 "nbformat": 4,
 "nbformat_minor": 5
}
