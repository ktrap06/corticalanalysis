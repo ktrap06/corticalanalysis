{
 "cells": [
  {
   "cell_type": "markdown",
   "id": "551b5e72-c926-4cce-b2ef-3bbd9aee62f7",
   "metadata": {},
   "source": [
    "# heatmaps functions"
   ]
  },
  {
   "cell_type": "code",
   "execution_count": null,
   "id": "02be21cc-ab33-44a0-b007-deb377b40629",
   "metadata": {},
   "outputs": [],
   "source": [
    "def load_one_day(file_path):\n",
    "\n",
    "    with open(file_path, 'rb') as file:\n",
    "        # Load the data from the pickle file\n",
    "        data = pickle.load(file)\n",
    "        time_data = np.mean(data, axis=(1, 2))\n",
    "    \n",
    "    return time_data"
   ]
  }
 ],
 "metadata": {
  "kernelspec": {
   "display_name": "Python 3 (ipykernel)",
   "language": "python",
   "name": "python3"
  },
  "language_info": {
   "codemirror_mode": {
    "name": "ipython",
    "version": 3
   },
   "file_extension": ".py",
   "mimetype": "text/x-python",
   "name": "python",
   "nbconvert_exporter": "python",
   "pygments_lexer": "ipython3",
   "version": "3.12.0"
  }
 },
 "nbformat": 4,
 "nbformat_minor": 5
}
