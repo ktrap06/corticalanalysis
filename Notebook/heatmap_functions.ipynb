{
 "cells": [
  {
   "cell_type": "markdown",
   "id": "551b5e72-c926-4cce-b2ef-3bbd9aee62f7",
   "metadata": {},
   "source": [
    "# heatmaps functions"
   ]
  },
  {
   "cell_type": "code",
   "execution_count": null,
   "id": "1e3fb7f8-8fdb-4d6f-abbd-b36116a2ef36",
   "metadata": {},
   "outputs": [],
   "source": [
    "def pickle_from_folder(folder_path):\n",
    "    # Initialize an empty list to store loaded data\n",
    "    loaded_data = []\n",
    "\n",
    "    # Iterate over files in the folder\n",
    "    for filename in os.listdir(folder_path):\n",
    "        # Check if the file is a pickle file\n",
    "        if filename.endswith('.pickle'):\n",
    "            file_path = os.path.join(folder_path, filename)\n",
    "            try:\n",
    "                # Open the pickle file in read-binary mode\n",
    "                with open(file_path, 'rb') as file:\n",
    "                    # Load the data from the pickle file\n",
    "                    data = pickle.load(file)\n",
    "                    loaded_data.append(data)\n",
    "            except Exception as e:\n",
    "                print(f\"Error loading {filename}: {e}\")\n",
    "    return loaded_data"
   ]
  },
  {
   "cell_type": "code",
   "execution_count": null,
   "id": "57b3fafb-1f37-42e9-a5cf-15e00f9ef409",
   "metadata": {},
   "outputs": [],
   "source": [
    "#averaged single flashes\n",
    "def load_day_s(folder_path, day_name):\n",
    "    # Load data for single and double trials\n",
    "    s_v1_path = os.path.join(folder_path, \"single\", \"v1\")\n",
    "    s_v1_data = pickle_from_folder(s_v1_path)\n",
    "\n",
    "    # Calculate mean for single trials\n",
    "    s_v1_means = [np.mean(data, axis=(1, 2)) for data in s_v1_data]\n",
    "    #avg_s_v1 = np.mean(np.stack(s_v1_means), axis=0)\n",
    "    # Filter out arrays with a shape of 330 along the relevant axis\n",
    "    filtered_s_v1_means = [arr for arr in s_v1_means if arr.shape[0] != 330]\n",
    "    if filtered_s_v1_means:\n",
    "        avg_s_v1 = np.mean(np.stack(filtered_s_v1_means), axis=0)\n",
    "    else:\n",
    "        avg_s_v1 = None\n",
    "        print(\"All arrays had a shape of 330 and were excluded.\")\n",
    "\n",
    "\n",
    "    #for i, arr in enumerate(s_v1_means):\n",
    "    #    print(f\"Shape of array {i}: {arr.shape}\")\n",
    "\n",
    "    return avg_s_v1"
   ]
  },
  {
   "cell_type": "code",
   "execution_count": null,
   "id": "875c0f08-6b58-4103-a824-3b9d371fe3e6",
   "metadata": {},
   "outputs": [],
   "source": [
    "#averaged double flashes\n",
    "def load_day_d(folder_path, day_name):\n",
    "    d_v1_path = os.path.join(folder_path, \"double\", \"v1\")\n",
    "    d_v1_data = pickle_from_folder(d_v1_path)\n",
    "\n",
    "    # Calculate mean for single trials\n",
    "    d_v1_means = [np.mean(data, axis=(1, 2)) for data in d_v1_data]\n",
    "    #avg_d_v1 = np.mean(np.stack(d_v1_means), axis=0)\n",
    "    \n",
    "    # Filter out arrays with a shape of 330 along the relevant axis\n",
    "    filtered_d_v1_means = [arr for arr in d_v1_means if arr.shape[0] != 330]\n",
    "    if filtered_d_v1_means:\n",
    "        avg_d_v1 = np.mean(np.stack(filtered_d_v1_means), axis=0)\n",
    "    else:\n",
    "        avg_d_v1 = None\n",
    "        print(\"All arrays had a shape of 330 and were excluded.\")\n",
    "        \n",
    "    return avg_d_v1"
   ]
  },
  {
   "cell_type": "code",
   "execution_count": null,
   "id": "02be21cc-ab33-44a0-b007-deb377b40629",
   "metadata": {},
   "outputs": [],
   "source": [
    "def load_one_day(file_path):\n",
    "\n",
    "    with open(file_path, 'rb') as file:\n",
    "        # Load the data from the pickle file\n",
    "        data = pickle.load(file)\n",
    "        time_data = np.mean(data, axis=(1, 2))\n",
    "    \n",
    "    return time_data"
   ]
  }
 ],
 "metadata": {
  "kernelspec": {
   "display_name": "Python 3 (ipykernel)",
   "language": "python",
   "name": "python3"
  },
  "language_info": {
   "codemirror_mode": {
    "name": "ipython",
    "version": 3
   },
   "file_extension": ".py",
   "mimetype": "text/x-python",
   "name": "python",
   "nbconvert_exporter": "python",
   "pygments_lexer": "ipython3",
   "version": "3.12.0"
  }
 },
 "nbformat": 4,
 "nbformat_minor": 5
}
