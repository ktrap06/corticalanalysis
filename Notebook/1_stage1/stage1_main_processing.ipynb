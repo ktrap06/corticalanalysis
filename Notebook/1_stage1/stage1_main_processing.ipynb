{
 "cells": [
  {
   "cell_type": "markdown",
   "id": "f9dc606e-b071-43da-a8ca-14116daaad16",
   "metadata": {},
   "source": [
    "# Session (cage_mouseid_stage1_day)"
   ]
  },
  {
   "cell_type": "markdown",
   "id": "715778be-7436-423a-a305-4a10cdaf53ac",
   "metadata": {},
   "source": [
    "# STAGE 1: Processing of Raw Calcium Cortical Data into dFF tiff Stacks"
   ]
  },
  {
   "cell_type": "code",
   "execution_count": null,
   "id": "2c9313f8-9624-494d-be0d-a7b9768e4a6e",
   "metadata": {},
   "outputs": [],
   "source": [
    "\"\"\"install the packages to run this code\"\"\"\n",
    "#%pip install matplotlib tifffile scipy tqdm pybaselines opencv-python imagecodecs pickle #plotly #need to do this through conda install"
   ]
  },
  {
   "cell_type": "markdown",
   "id": "e874dec0-d5be-4dd0-9d0c-077f8f27fca0",
   "metadata": {},
   "source": [
    "## Step 1: importing the proper libraries"
   ]
  },
  {
   "cell_type": "markdown",
   "id": "d7441818-240a-441c-b538-e607c9109d13",
   "metadata": {},
   "source": [
    "note: all packaged are compatible with Python 3.12 as of 2024, Feb 22"
   ]
  },
  {
   "cell_type": "code",
   "execution_count": 9,
   "id": "81d8ae1e-95ea-4593-88dc-f032bfc9641c",
   "metadata": {},
   "outputs": [],
   "source": [
    "import numpy as np\n",
    "import matplotlib.pyplot as plt\n",
    "import tifffile\n",
    "import cv2\n",
    "from scipy import interpolate\n",
    "from scipy.interpolate import interp1d\n",
    "from scipy.ndimage import gaussian_filter\n",
    "from scipy.signal import cheby1, filtfilt, find_peaks, peak_widths\n",
    "import scipy\n",
    "from tqdm import tqdm\n",
    "%matplotlib inline\n",
    "import plotly.express as px\n",
    "import imagecodecs\n",
    "from matplotlib.animation import FuncAnimation\n",
    "import pickle\n",
    "\n",
    "from preprocessing_functions import (load_frames, \n",
    "                                        interactive_plot, \n",
    "                                        plot_frame, \n",
    "                                        temporal_mean, \n",
    "                                        remove_dark_frames, \n",
    "                                        extract_artifacts, \n",
    "                                        interpolate, \n",
    "                                        dff, \n",
    "                                        smoothing, \n",
    "                                        save_tiff,\n",
    "                                        load_txt,\n",
    "                                        extract_txt_flashes,\n",
    "                                        load_masks, \n",
    "                                        avg_trials,\n",
    "                                        extract_v1,\n",
    "                                        animate_figure\n",
    ")"
   ]
  },
  {
   "cell_type": "markdown",
   "id": "b4dc1606-7364-4f53-91cb-50a4d73b2ee2",
   "metadata": {},
   "source": [
    "## Step 2: importing and exporting from the script"
   ]
  },
  {
   "cell_type": "markdown",
   "id": "057e764a-d02e-46e0-bb9d-8e6a6a8d4cf4",
   "metadata": {},
   "source": [
    "### 2A: Manual importing data and paths"
   ]
  },
  {
   "cell_type": "markdown",
   "id": "11b2bd00-58b1-42f5-888a-c63f274d6731",
   "metadata": {},
   "source": [
    "Please insert the file path for the tif stack as a 3d array"
   ]
  },
  {
   "cell_type": "code",
   "execution_count": null,
   "id": "6c74af4b-6c22-46ff-a64d-00823b4d545a",
   "metadata": {},
   "outputs": [],
   "source": [
    "session = \"443076_m1_stage1_day1\" #cageID_mouseID_stage_day"
   ]
  },
  {
   "cell_type": "code",
   "execution_count": null,
   "id": "0329b6f9-ee9d-4de5-833d-de7f5c775f12",
   "metadata": {},
   "outputs": [],
   "source": [
    "cohort = \"1_first_cohort\""
   ]
  },
  {
   "cell_type": "markdown",
   "id": "0de0ba0b-8544-4f71-b550-e27b9ac900b7",
   "metadata": {},
   "source": [
    "#### 2A.2: importing txt file"
   ]
  },
  {
   "cell_type": "code",
   "execution_count": null,
   "id": "34a6a9ed-f6b5-4c15-96ad-af61dbb917e5",
   "metadata": {},
   "outputs": [],
   "source": []
  },
  {
   "cell_type": "markdown",
   "id": "0816a4ba-5788-4378-8d84-3cc435d0dea6",
   "metadata": {},
   "source": [
    "### 2B: Manual Exporting data path"
   ]
  },
  {
   "cell_type": "code",
   "execution_count": null,
   "id": "5e00f803-911a-433b-b09a-8fec6302d8de",
   "metadata": {},
   "outputs": [],
   "source": [
    "cageID_mouseID = \"443076_m1\" #cageID_mouseID\n",
    "day = \"day1\" #what day of the stage they are in"
   ]
  },
  {
   "cell_type": "markdown",
   "id": "a26f7546-f216-4545-bee8-58df51918e6c",
   "metadata": {},
   "source": [
    "### 2C: autonomous loadings and exporting lines !do not need to manipulate!"
   ]
  },
  {
   "cell_type": "markdown",
   "id": "9c35296c-44e2-49e9-93d6-fe409a994d69",
   "metadata": {},
   "source": [
    "#### 2C.1: loading frames in"
   ]
  },
  {
   "cell_type": "code",
   "execution_count": null,
   "id": "e8cb3114-a425-45e9-be98-ab16315b416f",
   "metadata": {},
   "outputs": [],
   "source": [
    "common_cortical_path = \"X:/Raymond Lab/1_Kai/1_cortical_data/\""
   ]
  },
  {
   "cell_type": "code",
   "execution_count": null,
   "id": "6e0c9447-d486-4eac-a8be-aca7509c651f",
   "metadata": {},
   "outputs": [],
   "source": [
    "tiff_path_full = f\"{common_cortical_path}/{cohort}/stage1/{session}.tif\""
   ]
  },
  {
   "cell_type": "code",
   "execution_count": null,
   "id": "a4e0977b-0334-4790-ac65-aafdfe909c4c",
   "metadata": {},
   "outputs": [],
   "source": [
    "frame_number = 6000 #please insert frame number to view\n",
    "frames = load_frames(video); #loading in tif stack, this will take a little while"
   ]
  },
  {
   "cell_type": "markdown",
   "id": "a60805f3-d16e-4ab9-9c0d-1218f5d7359f",
   "metadata": {},
   "source": [
    "#### 2C.2: Tiff stack (spatial view videos) export"
   ]
  },
  {
   "cell_type": "markdown",
   "id": "8137937c-a573-4a0a-aa91-bd3ceb97655c",
   "metadata": {},
   "source": [
    "make sure folders exists: files are organized by common_tiff_path -> stage -> day -> full,single,double -> File_name(cage_mouseid_stage_day_condition)"
   ]
  },
  {
   "cell_type": "code",
   "execution_count": null,
   "id": "bce57ff1-7940-4bf8-b71c-45ccaecf86da",
   "metadata": {},
   "outputs": [],
   "source": [
    "common_tiff_path = \"\"X:/Raymond Lab/1_Kai/3_processed_data/1_tiff_stacks/stage1/\""
   ]
  },
  {
   "cell_type": "code",
   "execution_count": null,
   "id": "95f3bb1a-f253-4095-a8de-9f35a622d17d",
   "metadata": {},
   "outputs": [],
   "source": [
    "tiff_path_full = f\"{common_tiff_path}/{day}/{full_frame}/{cageID_mouseID}_stage1_{day}_full_frame.tiff\"\n",
    "tiff_path_avg = f\"{common_tiff_path}/{day}/{avg}/{cageID_mouseID}_stage1_{day}_avg.tiff\""
   ]
  },
  {
   "cell_type": "markdown",
   "id": "738f96e4-4d4e-4615-a588-d3d89ad14919",
   "metadata": {},
   "source": [
    "#### 2C.3: Pickle export timeseries array"
   ]
  },
  {
   "cell_type": "markdown",
   "id": "ef0eedb6-28d5-40ce-85fd-5c8236386c9d",
   "metadata": {},
   "source": [
    "make sure folders exist: files are organized by common_pickle_path -> stage -> day -> single,double -> ROI -> File_name(cage_mouseid_stage_day_condition)"
   ]
  },
  {
   "cell_type": "code",
   "execution_count": null,
   "id": "217e9a6e-97e5-4dd3-bb97-53bb674f9b0d",
   "metadata": {},
   "outputs": [],
   "source": [
    "common_pickle_path = \"X:/Raymond Lab/1_Kai/3_processed_data/2_pickle/stage1/\""
   ]
  },
  {
   "cell_type": "code",
   "execution_count": null,
   "id": "4bac652b-ac6d-4afc-85b0-d5b5390d3618",
   "metadata": {},
   "outputs": [],
   "source": [
    "pickle_ff = f\"{common_pickle_path}/{day}/{cageID_mouseID}_stage2_{day}_ff.pickle\""
   ]
  },
  {
   "cell_type": "markdown",
   "id": "c4fad258-7be8-4219-83f6-f0cd28507f99",
   "metadata": {},
   "source": [
    "## Step 3: Plot of Raw Frames and Timecourse"
   ]
  },
  {
   "cell_type": "markdown",
   "id": "c1a88059-ae87-40fb-897f-9d413c6fcabc",
   "metadata": {},
   "source": [
    "### 3A: Plotting raw frame example, to make sure the tif stack loaded in properly.\n"
   ]
  },
  {
   "cell_type": "markdown",
   "id": "a35c30f1-4001-456c-b305-9b139efc8f48",
   "metadata": {},
   "source": [
    "Make sure the frames are a 3d array, two figures will be generated, a greyscaled and colormapped. They are technically identical"
   ]
  },
  {
   "cell_type": "code",
   "execution_count": null,
   "id": "cbc04aa9-f49b-4cea-97ea-1111e8e57ec6",
   "metadata": {},
   "outputs": [],
   "source": [
    "plot_frame(frames, frame_number, cmap = 'grey', color_label = \"Intensity A.U\")\n",
    "plot_frame(frames, frame_number, cmap = 'jet', color_label = \"Intensity A.U\")"
   ]
  },
  {
   "cell_type": "markdown",
   "id": "f12f33f8-cc08-4ad7-b4b7-de312dcb6699",
   "metadata": {},
   "source": [
    "### 3B: Plot of the raw signal mean for each frame over the length of the experiment"
   ]
  },
  {
   "cell_type": "markdown",
   "id": "6253db4d-fe6a-45ff-a906-f17cdc378afc",
   "metadata": {},
   "source": [
    "Mean time course of the raw signal"
   ]
  },
  {
   "cell_type": "code",
   "execution_count": null,
   "id": "8baa6df9-7136-4732-abb1-66ead69283ab",
   "metadata": {},
   "outputs": [],
   "source": [
    "mean_timecourse = temporal_mean(frames);"
   ]
  },
  {
   "cell_type": "markdown",
   "id": "47d17d79-b1fe-4afe-bfa0-d79076f1fd2e",
   "metadata": {},
   "source": [
    "## Step 4: Mean Timecourse without Darkframes at Start and End"
   ]
  },
  {
   "cell_type": "markdown",
   "id": "2150794d-fc62-4bed-ae6e-076e89b546c4",
   "metadata": {},
   "source": [
    "#### 4A: plot of timecourse"
   ]
  },
  {
   "cell_type": "markdown",
   "id": "ea5fb22c-e3ad-48b4-9e9b-2b72f143a61f",
   "metadata": {},
   "source": [
    "#### 4B: number of single and double flashes as well as total number."
   ]
  },
  {
   "cell_type": "code",
   "execution_count": null,
   "id": "d2aedb23-cda8-4a7a-8c81-f03b5447f4e0",
   "metadata": {},
   "outputs": [],
   "source": [
    "darkf_removed = remove_dark_frames(frames, mean_timecourse, 0.35)\n",
    "darkf_removed_timecourse, darkf_removed_frames = darkf_removed[0], darkf_removed[1] #first one is the timecourse with no 3d, second is the 3d array"
   ]
  },
  {
   "cell_type": "markdown",
   "id": "c714a017-69a1-4338-adae-15dc4fd61cd5",
   "metadata": {},
   "source": [
    "!! If the total does not match the single and double combined, check dataset!!"
   ]
  },
  {
   "cell_type": "code",
   "execution_count": null,
   "id": "d51ef8b0-ae66-4610-9825-8f0ec337b175",
   "metadata": {},
   "outputs": [],
   "source": [
    "artifacts = extract_artifacts(darkf_removed_timecourse)\n",
    "artifact_indices, single_indices, double_indices = artifacts[0], artifacts[1], artifacts[2]"
   ]
  },
  {
   "cell_type": "markdown",
   "id": "9ddba270-5991-4857-8411-9c6e2ff27dc3",
   "metadata": {},
   "source": [
    "## Step 5: Artifact Removal and DFF"
   ]
  },
  {
   "cell_type": "markdown",
   "id": "b373a0f4-5e80-40d1-a866-a76c68fed809",
   "metadata": {},
   "source": [
    "### 5A: Plot of mean timecourse with artifacts removed\n"
   ]
  },
  {
   "cell_type": "markdown",
   "id": "5c1b612a-5890-4b23-862d-955ddeeea93e",
   "metadata": {},
   "source": [
    "plot is generated with interpolated frames where the artifacts were, approximately 5 frames"
   ]
  },
  {
   "cell_type": "code",
   "execution_count": null,
   "id": "6f9ee6a1-54c9-4ee1-b352-81a6682add15",
   "metadata": {},
   "outputs": [],
   "source": [
    "no_artifact_timecourse = interpolate(darkf_removed_frames, artifact_indices, 3)"
   ]
  },
  {
   "cell_type": "markdown",
   "id": "30cc48f0-36ee-4be9-9986-81c9e2880a4c",
   "metadata": {},
   "source": [
    "### 5B: Calculating dff\n"
   ]
  },
  {
   "cell_type": "markdown",
   "id": "9bfc2707-0a7c-44b4-a05a-55807fcd8700",
   "metadata": {},
   "source": [
    "Dff calculated from the 3d array without artifacts, darkframes removed, and interpolated the space where the artifacts were. Then plotting of the signal with the 10s moving mean before dff is applied. dff is applied using this moving mean onto the signal"
   ]
  },
  {
   "cell_type": "code",
   "execution_count": null,
   "id": "80367a94-4989-4017-b1be-07b17c258e19",
   "metadata": {},
   "outputs": [],
   "source": [
    "dff_array = dff(no_artifact_timecourse, 10, 30);\n",
    "dff_signal, moving_average = dff_array[0], dff_array[1]"
   ]
  },
  {
   "cell_type": "code",
   "execution_count": null,
   "id": "dcc1b1ee-2c26-4861-98e5-3bf396e50a34",
   "metadata": {},
   "outputs": [],
   "source": [
    "#plotting moving mean and signal\n",
    "fig = px.line(y = [no_artifact_timecourse.mean(axis=(1,2)), moving_average.mean(axis=(1,2))])\n",
    "fig.update_layout(\n",
    "title= \"mean timecourse with moving average overlay\",\n",
    "xaxis=dict(title=\"frame number (30 fps)\"),\n",
    "yaxis=dict(title=\"intensity value (A.U)\"),\n",
    "xaxis_rangeslider_visible=True,\n",
    "showlegend=True)\n",
    "\n",
    "fig.for_each_trace(lambda t: t.update(name=\"Signal\") if \"0\" in t.name else t.update(name=\"10s Moving Average\"))\n",
    "\n",
    "fig.show()"
   ]
  },
  {
   "cell_type": "markdown",
   "id": "3d326b78-0418-4ec7-8f5f-a9268625ca73",
   "metadata": {},
   "source": [
    "#### 5B.1: dff timecourse plot"
   ]
  },
  {
   "cell_type": "code",
   "execution_count": null,
   "id": "a52496cb-b177-482c-a200-d608f38b86bf",
   "metadata": {},
   "outputs": [],
   "source": [
    "interactive_plot(dff_signal.mean(axis=(1,2)), title_label = \"normalized signal\", xaxis_label = \"frame number (30 fps)\", yaxis_label = \"dff\")"
   ]
  },
  {
   "cell_type": "markdown",
   "id": "8e1f296f-4a7f-4ceb-8272-af5dcedd0b86",
   "metadata": {},
   "source": [
    "## Step 6: Smoothing (spatial and temporal)"
   ]
  },
  {
   "cell_type": "markdown",
   "id": "846bdcee-af8a-41b6-a479-4909aa327a96",
   "metadata": {},
   "source": [
    "### 6A: Spatial smoothing"
   ]
  },
  {
   "cell_type": "markdown",
   "id": "12a41258-2f51-49b4-bb0d-4b0e5a5afdfb",
   "metadata": {},
   "source": [
    "#### 6A. 1: plot without spatial smoothing showing the requirement for spatial smoothing"
   ]
  },
  {
   "cell_type": "code",
   "execution_count": null,
   "id": "16ea022a-2707-428c-9fb2-2ea1b692ffdc",
   "metadata": {},
   "outputs": [],
   "source": [
    "#plot of spatial signal without spatial smoothing\n",
    "non_smoothed = plot_frame(dff_signal, frame_number, cmap = \"jet\", color_label = \"dff\")"
   ]
  },
  {
   "cell_type": "markdown",
   "id": "9c4e5f5a-aee4-4509-b335-e122518b4014",
   "metadata": {},
   "source": [
    "#### 6A.2: spatial smoothing applied (gaussian, 3 pixels)"
   ]
  },
  {
   "cell_type": "code",
   "execution_count": null,
   "id": "cd54cb62-0d5f-4073-8952-91d784a00667",
   "metadata": {},
   "outputs": [],
   "source": [
    "#plot of spatial resolution including spatial smoothing\n",
    "smoothed_signal = smoothing(dff_signal)\n",
    "plot_frame(smoothed_signal, 200, cmap = \"jet\", color_label = \"dff\")\n",
    "plt.imshow(smoothed_signal[201])"
   ]
  },
  {
   "cell_type": "markdown",
   "id": "dfbbbabd-83e5-4594-9837-4cb1d49e1774",
   "metadata": {},
   "source": [
    "### 6B: Temporal filtering"
   ]
  },
  {
   "cell_type": "markdown",
   "id": "843a2824-a2be-4a48-aaf0-f8da3f8ba9f2",
   "metadata": {},
   "source": [
    "dff plot with chebyshev type 1 temporal filtering (high and low bandpass filter)"
   ]
  },
  {
   "cell_type": "code",
   "execution_count": null,
   "id": "e9506d90-9f73-41cd-b5e1-f64307476df8",
   "metadata": {},
   "outputs": [],
   "source": [
    "interactive_plot(smoothed_signal.mean(axis=(1,2)), title_label = \"temporally smoothed signal\", xaxis_label = \"frame number (30 fps)\", yaxis_label = \"dff\")"
   ]
  },
  {
   "cell_type": "markdown",
   "id": "60f6a6a6-fd42-4ea0-9ee4-ff0dc0919006",
   "metadata": {},
   "source": [
    "## Step 7: ROI plotting"
   ]
  },
  {
   "cell_type": "markdown",
   "id": "6419c30f-ab3f-4bdd-96fb-1c3acc64aad3",
   "metadata": {},
   "source": [
    "### 7A: ROI full frame"
   ]
  },
  {
   "cell_type": "markdown",
   "id": "b0e9f696-c4ca-4b00-bebf-c822f921da20",
   "metadata": {},
   "source": [
    "plotting single flash full frame mean"
   ]
  },
  {
   "cell_type": "code",
   "execution_count": null,
   "id": "9abdd107-1f67-4333-a3d7-b44ad857f2da",
   "metadata": {},
   "outputs": [],
   "source": [
    "full_roi_single = avg_trials(single_indices, smoothed_signal, 'FALSE', 330)"
   ]
  },
  {
   "cell_type": "code",
   "execution_count": null,
   "id": "11acc476-8006-4890-8118-d3a9a9630b2d",
   "metadata": {},
   "outputs": [],
   "source": [
    "interactive_plot(full_roi_single.mean(axis=(1,2)), title_label = \"full frame single average\", xaxis_label = \"frame number (30 fps)\", yaxis_label = \"dff\")"
   ]
  },
  {
   "cell_type": "markdown",
   "id": "1c66f730-ace4-4f9d-be7e-920650fa122d",
   "metadata": {},
   "source": [
    "plotting double flash full frame mean"
   ]
  },
  {
   "cell_type": "code",
   "execution_count": null,
   "id": "9439632f-0cba-43e2-b10d-5c2550630e36",
   "metadata": {},
   "outputs": [],
   "source": [
    "full_roi_double = avg_trials(double_indices, smoothed_signal, 'TRUE', 330)"
   ]
  },
  {
   "cell_type": "code",
   "execution_count": null,
   "id": "6dfeea88-64e1-4e49-880e-86d43ef4463f",
   "metadata": {},
   "outputs": [],
   "source": [
    "interactive_plot(full_roi_double.mean(axis=(1,2)), title_label = \"full frame double average\", xaxis_label = \"frame number (30 fps)\", yaxis_label = \"dff\")"
   ]
  },
  {
   "cell_type": "markdown",
   "id": "1a65c207-19ea-4c61-bc87-081300f6dd8e",
   "metadata": {},
   "source": [
    "### 7B: V1 ROI"
   ]
  },
  {
   "cell_type": "markdown",
   "id": "bd8ff284-e0d8-40fc-9792-668cd5156f7b",
   "metadata": {},
   "source": [
    "within all of v1 area at the back of the cortex the peak value at 5 frames is taken as the central point and a 15x15 grid is placed around the peak value"
   ]
  },
  {
   "cell_type": "markdown",
   "id": "37809efe-51c5-4720-b94a-916a2e58ec97",
   "metadata": {},
   "source": [
    "plotting single flash just v1 10x10 mean"
   ]
  },
  {
   "cell_type": "code",
   "execution_count": null,
   "id": "56eba90c-d67a-43b5-9526-677dae1fc0a1",
   "metadata": {},
   "outputs": [],
   "source": [
    "v1_area_single = extract_v1(full_roi_single, roi_time = 5, roi_start_x=15, roi_start_y = 85, roi_width=45, roi_height = 45)"
   ]
  },
  {
   "cell_type": "code",
   "execution_count": null,
   "id": "8ebf3352-1b45-45d7-84ef-f324f7d8f4e7",
   "metadata": {},
   "outputs": [],
   "source": [
    "interactive_plot(v1_area_single.mean(axis=(1,2)), title_label = \"v1 single average\", xaxis_label = \"frame number (30 fps)\", yaxis_label = \"dff\")"
   ]
  },
  {
   "cell_type": "markdown",
   "id": "ed3eb666-d88d-43e1-8b58-26605a462b37",
   "metadata": {},
   "source": [
    "plotting double flash just v1 10x10 mean"
   ]
  },
  {
   "cell_type": "code",
   "execution_count": null,
   "id": "76d28659-fdb6-4f5e-b857-de4060184625",
   "metadata": {},
   "outputs": [],
   "source": [
    "v1_area_double = extract_v1(full_roi_double, roi_time = 5, roi_start_x=15, roi_start_y = 85, roi_width=45, roi_height = 45)"
   ]
  },
  {
   "cell_type": "code",
   "execution_count": null,
   "id": "f4ffbbd2-3026-4dfc-abb3-7ac5e7a9d4fb",
   "metadata": {},
   "outputs": [],
   "source": [
    "interactive_plot(v1_area_double.mean(axis=(1,2)), title_label = \"v1 double average\", xaxis_label = \"frame number (30 fps)\", yaxis_label = \"dff\")"
   ]
  },
  {
   "cell_type": "markdown",
   "id": "2c9bfa44-5e61-4e2a-bf4c-290a11f3ae2c",
   "metadata": {},
   "source": [
    "## Step 8: Save the 3D array as a TIFF stack"
   ]
  },
  {
   "cell_type": "code",
   "execution_count": null,
   "id": "3995da2c-dc7a-48a7-9de0-7a91296cbce3",
   "metadata": {},
   "outputs": [],
   "source": [
    "save_tiff(smoothed_signal, tiff_path_full) # full frame whole session tiff stack\n",
    "save_tiff(full_roi_single, tiff_path_single) #SINGLE flash averaged response over all trials tiff stack file name to save\n",
    "save_tiff(full_roi_double, tiff_path_double) #DOUBLE flash averaged response over all trials tiff stack file name to save\n",
    "\n",
    "print(f\"TIFF stack saved at: {file_path}\")"
   ]
  },
  {
   "cell_type": "markdown",
   "id": "3066421d-610e-408a-80f2-69082df78f65",
   "metadata": {},
   "source": [
    "### Step 8B: Pickle for uploading into other scripts"
   ]
  },
  {
   "cell_type": "code",
   "execution_count": null,
   "id": "a2207877-ab89-494a-8ab0-f5c714cb5498",
   "metadata": {},
   "outputs": [],
   "source": [
    "# Now you can use these file paths in your code\n",
    "with open(pickle_ff, 'wb') as f:\n",
    "    pickle.dump(v1_area_single, f)\n",
    "\n",
    "with open(pickle_double_v1, 'wb') as f:\n",
    "    pickle.dump(v1_area_double, f)\n",
    "\n",
    "with open(pickle_single_ff, 'wb') as f:\n",
    "    pickle.dump(full_roi_single, f)\n",
    "\n",
    "with open(pickle_double_ff, 'wb') as f:\n",
    "    pickle.dump(full_roi_double, f)"
   ]
  },
  {
   "cell_type": "markdown",
   "id": "9a62ad97-1f69-4dc2-b460-a5cd324976ac",
   "metadata": {},
   "source": [
    "# Mask and animate figures"
   ]
  },
  {
   "cell_type": "markdown",
   "id": "c1ae7788-ffc5-434b-9f0b-12acaf5b1779",
   "metadata": {},
   "source": [
    "#### currently not using these, good for visualization and flair"
   ]
  },
  {
   "cell_type": "code",
   "execution_count": null,
   "id": "29d29ff4-ee95-456c-97b2-b6ec3f5004a8",
   "metadata": {},
   "outputs": [],
   "source": [
    "#masking = load_masks(dff_signal)\n",
    "#mask, mask_outline = masking[0], masking[1]\n",
    "\n",
    "#masked_smoothed_signal = smoothed_signal*mask\n",
    "#masked_full_roi_single = full_roi_single*mask\n",
    "#masked_full_roi_double = full_roi_double*mask"
   ]
  },
  {
   "cell_type": "code",
   "execution_count": null,
   "id": "3f928003-f13b-4d45-b020-7253a3a0e8c7",
   "metadata": {},
   "outputs": [],
   "source": [
    "#file_path_ = \"X:/Raymond Lab/Kaiiiii/processed_data/ #429904_m1_stage2_day2_with_spouts.tiff\"\n",
    "#save_tiff(masked_smoothed_signal, file_path)\n",
    "\n",
    "#file_path = \"X:/Raymond Lab/Kaiiiii/processed_data/ #429904_m1_stage2_day2_with_spouts_avg_single.tiff\"\n",
    "#save_tiff(masked_full_roi_single, file_path)\n",
    "\n",
    "#file_path = \"X:/Raymond Lab/Kaiiiii/processed_data/ #429904_m1_stage2_day2_with_spouts_avg_double.tiff\"\n",
    "#save_tiff(masked_full_roi_double, file_path)\n",
    "\n",
    "#print(f\"TIFF stack saved at: {file_path}\")"
   ]
  }
 ],
 "metadata": {
  "kernelspec": {
   "display_name": "Python 3 (ipykernel)",
   "language": "python",
   "name": "python3"
  },
  "language_info": {
   "codemirror_mode": {
    "name": "ipython",
    "version": 3
   },
   "file_extension": ".py",
   "mimetype": "text/x-python",
   "name": "python",
   "nbconvert_exporter": "python",
   "pygments_lexer": "ipython3",
   "version": "3.12.0"
  }
 },
 "nbformat": 4,
 "nbformat_minor": 5
}
