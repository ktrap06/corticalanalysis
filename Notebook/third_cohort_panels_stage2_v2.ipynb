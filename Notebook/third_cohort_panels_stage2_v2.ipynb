{
 "cells": [
  {
   "cell_type": "markdown",
   "id": "56d5baa3-d7af-49a4-9424-6e4aecd314fe",
   "metadata": {},
   "source": [
    "# Third cohort brain panels"
   ]
  },
  {
   "cell_type": "code",
   "execution_count": 1,
   "id": "7701b154-e0c0-40b1-b2f3-9f283548f067",
   "metadata": {},
   "outputs": [],
   "source": [
    "import numpy as np\n",
    "import matplotlib.pyplot as plt\n",
    "import cv2\n",
    "%matplotlib inline\n",
    "import plotly.express as px\n",
    "import os\n",
    "import pickle\n",
    "import seaborn as sns\n",
    "from scipy.stats import zscore"
   ]
  },
  {
   "cell_type": "code",
   "execution_count": 2,
   "id": "9ce0c7d9-321e-4f18-8f83-3002890758db",
   "metadata": {},
   "outputs": [],
   "source": [
    "number_of_days = 14 #change this values based on number of days\n",
    "mice = [\"466029_f3\", \"475165_f1\", \"475165_f3\", \"475165_f5\", \"475165_f7\"]\n",
    "HD_mice = [\"466029_f3\", \"475165_f3\", \"475165_f7\"]\n",
    "WT_mice = [\"475165_f1\", \"475165_f5\"]"
   ]
  },
  {
   "cell_type": "markdown",
   "id": "187a5457-88c8-4666-ba2f-b664d5f48c96",
   "metadata": {},
   "source": [
    "## load files from folder"
   ]
  },
  {
   "cell_type": "code",
   "execution_count": 3,
   "id": "11035a8c-c89f-4ca0-9d57-67fd30c333d3",
   "metadata": {},
   "outputs": [],
   "source": [
    "def pickle_from_folder(folder_path):\n",
    "    # Initialize an empty list to store loaded data\n",
    "    loaded_data = []\n",
    "\n",
    "    # Iterate over files in the folder\n",
    "    for filename in os.listdir(folder_path):\n",
    "        # Check if the file is a pickle file\n",
    "        if filename.endswith('.pickle'):\n",
    "            file_path = os.path.join(folder_path, filename)\n",
    "            try:\n",
    "                # Open the pickle file in read-binary mode\n",
    "                with open(file_path, 'rb') as file:\n",
    "                    # Load the data from the pickle file\n",
    "                    data = pickle.load(file)\n",
    "                    loaded_data.append(data)\n",
    "            except Exception as e:\n",
    "                print(f\"Error loading {filename}: {e}\")\n",
    "    return loaded_data"
   ]
  },
  {
   "cell_type": "code",
   "execution_count": 4,
   "id": "1e9e3140-0252-4129-a6be-26845ec52ca5",
   "metadata": {},
   "outputs": [],
   "source": [
    "# Define the shared folder path\n",
    "shared_path = \"X:/RaymondLab/1_Kai/3_processed_data/2_pickle/stage2\"\n",
    "days = [f\"day{i}\" for i in range(1, number_of_days + 1)]"
   ]
  },
  {
   "cell_type": "code",
   "execution_count": 5,
   "id": "b0df6e29-c69f-458d-a8d1-c2df84769d7d",
   "metadata": {},
   "outputs": [],
   "source": [
    "#load in mask\n",
    "from preprocessing_functions import (load_masks)\n",
    "masking = load_masks()\n",
    "mask, mask_outline = masking[0], masking[1]\n",
    "rescaled_image = cv2.resize(mask, (114, 114))\n",
    "binary_mask = np.where(rescaled_image == 0, np.nan, 1)"
   ]
  },
  {
   "cell_type": "code",
   "execution_count": 6,
   "id": "7ec91f2d-c722-4f7d-b576-a70c9c0a272c",
   "metadata": {},
   "outputs": [],
   "source": [
    "#function to load in pickle files\n",
    "def load_one_day_full(file_path):\n",
    "\n",
    "    with open(file_path, 'rb') as file:\n",
    "        # Load the data from the pickle file\n",
    "        data = pickle.load(file)\n",
    "        #time_data = np.mean(data, axis=(1, 2))\n",
    "    \n",
    "    return data"
   ]
  },
  {
   "cell_type": "markdown",
   "id": "4209c04a-9ec3-49a7-9374-a9ab28531861",
   "metadata": {},
   "source": [
    "# average panels functions"
   ]
  },
  {
   "cell_type": "code",
   "execution_count": 28,
   "id": "73f86cd7-e496-4d02-bd10-e1a5736a771b",
   "metadata": {},
   "outputs": [],
   "source": [
    "#version 8\n",
    "def average_panels(days, mice, binary_mask, shared_path, flash, success_fail):\n",
    "\n",
    "    folder_path_full = os.path.join(shared_path, flash, success_fail, \"full_frame\")\n",
    "    data_set = []\n",
    "    \n",
    "    for mouse in mice:\n",
    "        day_timeseries = []   \n",
    "    \n",
    "        for day in days:\n",
    "\n",
    "            try:\n",
    "                file_path_full = f\"{folder_path_full}/{mouse}_stage2_{day}_{flash}_{success_fail}_ff.pickle\"\n",
    "                one_day_full = load_one_day_full(file_path_full)\n",
    "                print(f\"Original length for {mouse} on {day}: {len(one_day_full)}\")\n",
    "\n",
    "                z_score_one_day_full = zscore(one_day_full, axis=1)\n",
    "\n",
    "                # Ensure the first dimension has 100 points by padding with NaNs\n",
    "                current_length = z_score_one_day_full.shape[0]\n",
    "                target_length = 100\n",
    "\n",
    "                if 0 < current_length < target_length:\n",
    "                    pad_size = target_length - current_length\n",
    "                    pad_array = np.full((pad_size, *z_score_one_day_full.shape[1:]), np.nan, dtype=z_score_one_day_full.dtype)\n",
    "                    z_score_one_day_full = np.concatenate([z_score_one_day_full, pad_array], axis=0)\n",
    "                else:\n",
    "                    print(f\"no datapoint for {mouse} on {day}\")\n",
    "                    # Append an array of NaNs of shape (100, 200, 128, 128) if data is missing\n",
    "                    z_score_one_day_full = np.full((100, 200, 128, 128), np.nan, dtype=np.float32)\n",
    "\n",
    "                day_timeseries.append(z_score_one_day_full)\n",
    "\n",
    "            except FileNotFoundError:\n",
    "                print(f\"File not found for mouse {mouse} on day {day}\")\n",
    "                # Append an array of NaNs of shape (100, 200, 128, 128) if data is missing\n",
    "                z_score_one_day_full = np.full((100, 200, 128, 128), np.nan, dtype=np.float32)\n",
    "                day_timeseries.append(z_score_one_day_full)\n",
    "\n",
    "        # Convert timeseries list into numpy array if needed\n",
    "        if day_timeseries:\n",
    "            data_set.append(np.array(day_timeseries))\n",
    "\n",
    "    print(\"finished loading files\")\n",
    "\n",
    "    return data_set"
   ]
  },
  {
   "cell_type": "code",
   "execution_count": 8,
   "id": "85f6cc3e-4530-4c8c-b68a-2a2a11a2670f",
   "metadata": {},
   "outputs": [],
   "source": [
    "#version 2\n",
    "def plot_average_separate_panels(mice, filename, flash):\n",
    "    # Define frames and their corresponding times\n",
    "    frames_to_plot = [1, 8, 15, 22, 30, 38, 45, 52, 60]\n",
    "    frames_to_seconds = [0, 0.25, 0.5, 0.75, 1, 1.25, 1.5, 1.75, 2]\n",
    "\n",
    "    # Loop through the averaged data for each day\n",
    "    for average_for_day, day in mice:\n",
    "        print(f\"Plotting for {day}\")\n",
    "\n",
    "        if len(average_for_day.shape) == 3:  # Check if it's a 3D array\n",
    "            cropped_z_score_single_full = average_for_day[:, :-14, 7:-7]\n",
    "            masked_z_score_single_full = cropped_z_score_single_full * binary_mask\n",
    "\n",
    "            # Create a figure and subplots\n",
    "            fig, axes = plt.subplots(1, 9, figsize=(20, 10))\n",
    "\n",
    "            # Add a title for the entire figure\n",
    "            fig.suptitle(f\"{day} - {flash} flash ({filename})\", \n",
    "                         color='white', fontsize=30, weight='bold', y=0.7)\n",
    "\n",
    "            # Plot the specific frames\n",
    "            for i, ax in enumerate(axes.flatten()):\n",
    "                if i < len(frames_to_plot):\n",
    "                    frame_index = frames_to_plot[i]\n",
    "                \n",
    "                    # Check if the frame_index is within bounds\n",
    "                    if frame_index < masked_z_score_single_full.shape[0]:\n",
    "                        image = masked_z_score_single_full[frame_index]\n",
    "                        ax.imshow(image, cmap='RdYlBu_r')\n",
    "                        fig.set_facecolor('#5D6D7D')  # Set background color to black\n",
    "                        ax.axis('off')\n",
    "                        ax.set_title(f'{frames_to_seconds[i]} s', color='white', fontsize=40)\n",
    "                    else:\n",
    "                        ax.axis('off')  # Hide the axes if the frame index is out of bounds\n",
    "                else:\n",
    "                    ax.axis('off')  # Hide the axes for unused subplots\n",
    "\n",
    "            # Adjust layout\n",
    "            plt.tight_layout()\n",
    "\n",
    "            # Save the figure\n",
    "            #save_file_path = f\"X:/RaymondLab/1_Kai/3_processed_data/8_panels/{filename}_{flash}/{filename}_{day}_avg_brain_panels.png\"\n",
    "            #plt.savefig(save_file_path, facecolor=fig.get_facecolor(), bbox_inches='tight')\n",
    "\n",
    "            # Optionally, you can show the figure if you want\n",
    "            plt.show()\n",
    "\n",
    "            # Close the figure to free up memory\n",
    "            plt.close(fig)\n"
   ]
  },
  {
   "cell_type": "code",
   "execution_count": 19,
   "id": "15572a9a-b951-4310-a6cb-c2f691cbece3",
   "metadata": {},
   "outputs": [],
   "source": [
    "import matplotlib.pyplot as plt\n",
    "import numpy as np\n",
    "\n",
    "def plot_average_separate_panels(averaged_data, filename, flash, binary_mask):\n",
    "    \"\"\"\n",
    "    Plots averaged brain activity panels over time using preprocessed data.\n",
    "    \n",
    "    Parameters:\n",
    "        averaged_data (list of np.ndarray or list of tuples): If tuples, contains (average_for_day, day) data.\n",
    "        filename (str): Label for saving and identifying plots.\n",
    "        flash (str): Type of flash used in the experiment.\n",
    "        binary_mask (np.ndarray): Mask to apply to the data.\n",
    "    \"\"\"\n",
    "    # Define frames and their corresponding times\n",
    "    frames_to_plot = [1, 8, 15, 22, 30, 38, 45, 52, 60]\n",
    "    frames_to_seconds = [0, 0.25, 0.5, 0.75, 1, 1.25, 1.5, 1.75, 2]\n",
    "\n",
    "    # Check if the data is a list of arrays or tuples\n",
    "    if isinstance(averaged_data[0], tuple):\n",
    "        print(\"Detected tuple format (average_for_day, day). Unpacking.\")\n",
    "        data_pairs = averaged_data  # Data is already in the correct format\n",
    "    else:\n",
    "        print(\"Detected list of arrays. Generating synthetic day labels.\")\n",
    "        data_pairs = [(data, f\"Day {i+1}\") for i, data in enumerate(averaged_data)]\n",
    "\n",
    "    for average_for_day, day in data_pairs:\n",
    "        print(f\"Plotting for {day}\")\n",
    "\n",
    "        # Check if the data is valid\n",
    "        if average_for_day is None or not isinstance(average_for_day, np.ndarray):\n",
    "            print(f\"Skipping {day} due to invalid data.\")\n",
    "            continue\n",
    "\n",
    "        if len(average_for_day.shape) < 3:\n",
    "            print(f\"Skipping {day} due to incorrect shape: {average_for_day.shape}\")\n",
    "            continue\n",
    "\n",
    "        # Crop the z-score single full-frame data\n",
    "        cropped_z_score_single_full = average_for_day[:, :, :, :-14, 7:-7]\n",
    "\n",
    "        # Apply the binary mask (optional)\n",
    "        masked_z_score_single_full = np.where(np.isnan(cropped_z_score_single_full), np.nan, cropped_z_score_single_full * binary_mask)\n",
    "\n",
    "        # Create figure and subplots\n",
    "        fig, axes = plt.subplots(1, len(frames_to_plot), figsize=(20, 10))\n",
    "        fig.suptitle(f\"{day} - {flash} flash ({filename})\", \n",
    "                     color='white', fontsize=30, weight='bold', y=0.7)\n",
    "\n",
    "        # Plot the specific frames\n",
    "        for i, ax in enumerate(axes.flatten()):\n",
    "            frame_index = frames_to_plot[i]\n",
    "            \n",
    "            # Ensure the frame index is within bounds\n",
    "            if frame_index < masked_z_score_single_full.shape[0]:\n",
    "                image = masked_z_score_single_full[frame_index]\n",
    "                ax.imshow(image, cmap='RdYlBu_r')\n",
    "                fig.set_facecolor('#5D6D7D')  # Background color\n",
    "                ax.axis('off')\n",
    "                ax.set_title(f'{frames_to_seconds[i]} s', color='white', fontsize=40)\n",
    "            else:\n",
    "                ax.axis('off')  # Hide unused subplots\n",
    "\n",
    "        plt.tight_layout()\n",
    "\n",
    "        # Show the figure\n",
    "        plt.show()\n",
    "\n",
    "        # Close to free memory\n",
    "        plt.close(fig)"
   ]
  },
  {
   "cell_type": "markdown",
   "id": "08e89151-3b54-4533-9558-d32e4680e73c",
   "metadata": {},
   "source": [
    "# WT single fail"
   ]
  },
  {
   "cell_type": "code",
   "execution_count": 29,
   "id": "692152cb-df03-4e1b-9bbd-214cfba70d18",
   "metadata": {},
   "outputs": [
    {
     "name": "stdout",
     "output_type": "stream",
     "text": [
      "Original length for 475165_f1 on day1: 0\n",
      "no datapoint for 475165_f1 on day1\n",
      "Original length for 475165_f1 on day2: 3\n",
      "Original length for 475165_f1 on day3: 7\n",
      "File not found for mouse 475165_f1 on day day4\n",
      "Original length for 475165_f1 on day5: 8\n",
      "Original length for 475165_f1 on day6: 15\n",
      "Original length for 475165_f1 on day7: 18\n",
      "File not found for mouse 475165_f1 on day day8\n",
      "Original length for 475165_f1 on day9: 11\n",
      "Original length for 475165_f1 on day10: 18\n",
      "Original length for 475165_f1 on day11: 19\n",
      "Original length for 475165_f1 on day12: 2\n",
      "Original length for 475165_f1 on day13: 21\n",
      "Original length for 475165_f1 on day14: 0\n",
      "no datapoint for 475165_f1 on day14\n",
      "Original length for 475165_f5 on day1: 15\n",
      "Original length for 475165_f5 on day2: 14\n",
      "Original length for 475165_f5 on day3: 10\n",
      "File not found for mouse 475165_f5 on day day4\n",
      "Original length for 475165_f5 on day5: 1\n",
      "Original length for 475165_f5 on day6: 18\n",
      "Original length for 475165_f5 on day7: 19\n",
      "Original length for 475165_f5 on day8: 24\n",
      "File not found for mouse 475165_f5 on day day9\n",
      "Original length for 475165_f5 on day10: 19\n",
      "File not found for mouse 475165_f5 on day day11\n",
      "Original length for 475165_f5 on day12: 29\n",
      "Original length for 475165_f5 on day13: 30\n",
      "Original length for 475165_f5 on day14: 22\n",
      "finished loading files\n"
     ]
    }
   ],
   "source": [
    "WT_single_fail = average_panels(days, WT_mice, binary_mask, shared_path, \"single\", \"fail\")"
   ]
  },
  {
   "cell_type": "code",
   "execution_count": 36,
   "id": "ce43e6a4-825e-4176-a537-85623311f4fe",
   "metadata": {},
   "outputs": [
    {
     "name": "stderr",
     "output_type": "stream",
     "text": [
      "C:\\Users\\trapped\\AppData\\Local\\Temp\\ipykernel_4232\\120268942.py:1: RuntimeWarning: Mean of empty slice\n",
      "  WT_single_fail_avg = averaged_dataset = np.nanmean(WT_single_fail_avg, axis=0)  # Averages across mice\n"
     ]
    },
    {
     "name": "stdout",
     "output_type": "stream",
     "text": [
      "New shape after averaging: (14, 100, 200, 128, 128)\n"
     ]
    }
   ],
   "source": [
    "WT_single_fail_avg = averaged_dataset = np.nanmean(WT_single_fail_avg, axis=0)  # Averages across mice\n",
    "print(\"New shape after averaging:\", averaged_dataset.shape)  # Expected: (14, 100, 200, 128, 128)"
   ]
  },
  {
   "cell_type": "code",
   "execution_count": 20,
   "id": "3ac8aa16-e30f-4b1e-bfb0-fb99e5e4b2d1",
   "metadata": {},
   "outputs": [
    {
     "name": "stdout",
     "output_type": "stream",
     "text": [
      "Detected list of arrays. Generating synthetic day labels.\n",
      "Plotting for Day 1\n"
     ]
    },
    {
     "ename": "TypeError",
     "evalue": "Invalid shape (100, 200, 114, 114) for image data",
     "output_type": "error",
     "traceback": [
      "\u001b[1;31m---------------------------------------------------------------------------\u001b[0m",
      "\u001b[1;31mTypeError\u001b[0m                                 Traceback (most recent call last)",
      "Cell \u001b[1;32mIn[20], line 2\u001b[0m\n\u001b[0;32m      1\u001b[0m \u001b[38;5;66;03m#plot_average_separate_panels(WT_single_fail_avg, filename=\"female_WT_stage2\", flash=\"single\")\u001b[39;00m\n\u001b[1;32m----> 2\u001b[0m \u001b[43mplot_average_separate_panels\u001b[49m\u001b[43m(\u001b[49m\u001b[43mWT_single_fail_avg\u001b[49m\u001b[43m,\u001b[49m\u001b[43m \u001b[49m\u001b[38;5;124;43m\"\u001b[39;49m\u001b[38;5;124;43mWT_mice\u001b[39;49m\u001b[38;5;124;43m\"\u001b[39;49m\u001b[43m,\u001b[49m\u001b[43m \u001b[49m\u001b[38;5;124;43m\"\u001b[39;49m\u001b[38;5;124;43msingle\u001b[39;49m\u001b[38;5;124;43m\"\u001b[39;49m\u001b[43m,\u001b[49m\u001b[43m \u001b[49m\u001b[43mbinary_mask\u001b[49m\u001b[43m)\u001b[49m\n",
      "Cell \u001b[1;32mIn[19], line 56\u001b[0m, in \u001b[0;36mplot_average_separate_panels\u001b[1;34m(averaged_data, filename, flash, binary_mask)\u001b[0m\n\u001b[0;32m     54\u001b[0m \u001b[38;5;28;01mif\u001b[39;00m frame_index \u001b[38;5;241m<\u001b[39m masked_z_score_single_full\u001b[38;5;241m.\u001b[39mshape[\u001b[38;5;241m0\u001b[39m]:\n\u001b[0;32m     55\u001b[0m     image \u001b[38;5;241m=\u001b[39m masked_z_score_single_full[frame_index]\n\u001b[1;32m---> 56\u001b[0m     \u001b[43max\u001b[49m\u001b[38;5;241;43m.\u001b[39;49m\u001b[43mimshow\u001b[49m\u001b[43m(\u001b[49m\u001b[43mimage\u001b[49m\u001b[43m,\u001b[49m\u001b[43m \u001b[49m\u001b[43mcmap\u001b[49m\u001b[38;5;241;43m=\u001b[39;49m\u001b[38;5;124;43m'\u001b[39;49m\u001b[38;5;124;43mRdYlBu_r\u001b[39;49m\u001b[38;5;124;43m'\u001b[39;49m\u001b[43m)\u001b[49m\n\u001b[0;32m     57\u001b[0m     fig\u001b[38;5;241m.\u001b[39mset_facecolor(\u001b[38;5;124m'\u001b[39m\u001b[38;5;124m#5D6D7D\u001b[39m\u001b[38;5;124m'\u001b[39m)  \u001b[38;5;66;03m# Background color\u001b[39;00m\n\u001b[0;32m     58\u001b[0m     ax\u001b[38;5;241m.\u001b[39maxis(\u001b[38;5;124m'\u001b[39m\u001b[38;5;124moff\u001b[39m\u001b[38;5;124m'\u001b[39m)\n",
      "File \u001b[1;32m~\\.conda\\envs\\corticalanalysis\\Lib\\site-packages\\matplotlib\\__init__.py:1478\u001b[0m, in \u001b[0;36m_preprocess_data.<locals>.inner\u001b[1;34m(ax, data, *args, **kwargs)\u001b[0m\n\u001b[0;32m   1475\u001b[0m \u001b[38;5;129m@functools\u001b[39m\u001b[38;5;241m.\u001b[39mwraps(func)\n\u001b[0;32m   1476\u001b[0m \u001b[38;5;28;01mdef\u001b[39;00m \u001b[38;5;21minner\u001b[39m(ax, \u001b[38;5;241m*\u001b[39margs, data\u001b[38;5;241m=\u001b[39m\u001b[38;5;28;01mNone\u001b[39;00m, \u001b[38;5;241m*\u001b[39m\u001b[38;5;241m*\u001b[39mkwargs):\n\u001b[0;32m   1477\u001b[0m     \u001b[38;5;28;01mif\u001b[39;00m data \u001b[38;5;129;01mis\u001b[39;00m \u001b[38;5;28;01mNone\u001b[39;00m:\n\u001b[1;32m-> 1478\u001b[0m         \u001b[38;5;28;01mreturn\u001b[39;00m \u001b[43mfunc\u001b[49m\u001b[43m(\u001b[49m\u001b[43max\u001b[49m\u001b[43m,\u001b[49m\u001b[43m \u001b[49m\u001b[38;5;241;43m*\u001b[39;49m\u001b[38;5;28;43mmap\u001b[39;49m\u001b[43m(\u001b[49m\u001b[43msanitize_sequence\u001b[49m\u001b[43m,\u001b[49m\u001b[43m \u001b[49m\u001b[43margs\u001b[49m\u001b[43m)\u001b[49m\u001b[43m,\u001b[49m\u001b[43m \u001b[49m\u001b[38;5;241;43m*\u001b[39;49m\u001b[38;5;241;43m*\u001b[39;49m\u001b[43mkwargs\u001b[49m\u001b[43m)\u001b[49m\n\u001b[0;32m   1480\u001b[0m     bound \u001b[38;5;241m=\u001b[39m new_sig\u001b[38;5;241m.\u001b[39mbind(ax, \u001b[38;5;241m*\u001b[39margs, \u001b[38;5;241m*\u001b[39m\u001b[38;5;241m*\u001b[39mkwargs)\n\u001b[0;32m   1481\u001b[0m     auto_label \u001b[38;5;241m=\u001b[39m (bound\u001b[38;5;241m.\u001b[39marguments\u001b[38;5;241m.\u001b[39mget(label_namer)\n\u001b[0;32m   1482\u001b[0m                   \u001b[38;5;129;01mor\u001b[39;00m bound\u001b[38;5;241m.\u001b[39mkwargs\u001b[38;5;241m.\u001b[39mget(label_namer))\n",
      "File \u001b[1;32m~\\.conda\\envs\\corticalanalysis\\Lib\\site-packages\\matplotlib\\axes\\_axes.py:5756\u001b[0m, in \u001b[0;36mAxes.imshow\u001b[1;34m(self, X, cmap, norm, aspect, interpolation, alpha, vmin, vmax, origin, extent, interpolation_stage, filternorm, filterrad, resample, url, **kwargs)\u001b[0m\n\u001b[0;32m   5753\u001b[0m \u001b[38;5;28;01mif\u001b[39;00m aspect \u001b[38;5;129;01mis\u001b[39;00m \u001b[38;5;129;01mnot\u001b[39;00m \u001b[38;5;28;01mNone\u001b[39;00m:\n\u001b[0;32m   5754\u001b[0m     \u001b[38;5;28mself\u001b[39m\u001b[38;5;241m.\u001b[39mset_aspect(aspect)\n\u001b[1;32m-> 5756\u001b[0m \u001b[43mim\u001b[49m\u001b[38;5;241;43m.\u001b[39;49m\u001b[43mset_data\u001b[49m\u001b[43m(\u001b[49m\u001b[43mX\u001b[49m\u001b[43m)\u001b[49m\n\u001b[0;32m   5757\u001b[0m im\u001b[38;5;241m.\u001b[39mset_alpha(alpha)\n\u001b[0;32m   5758\u001b[0m \u001b[38;5;28;01mif\u001b[39;00m im\u001b[38;5;241m.\u001b[39mget_clip_path() \u001b[38;5;129;01mis\u001b[39;00m \u001b[38;5;28;01mNone\u001b[39;00m:\n\u001b[0;32m   5759\u001b[0m     \u001b[38;5;66;03m# image does not already have clipping set, clip to axes patch\u001b[39;00m\n",
      "File \u001b[1;32m~\\.conda\\envs\\corticalanalysis\\Lib\\site-packages\\matplotlib\\image.py:723\u001b[0m, in \u001b[0;36m_ImageBase.set_data\u001b[1;34m(self, A)\u001b[0m\n\u001b[0;32m    721\u001b[0m \u001b[38;5;28;01mif\u001b[39;00m \u001b[38;5;28misinstance\u001b[39m(A, PIL\u001b[38;5;241m.\u001b[39mImage\u001b[38;5;241m.\u001b[39mImage):\n\u001b[0;32m    722\u001b[0m     A \u001b[38;5;241m=\u001b[39m pil_to_array(A)  \u001b[38;5;66;03m# Needed e.g. to apply png palette.\u001b[39;00m\n\u001b[1;32m--> 723\u001b[0m \u001b[38;5;28mself\u001b[39m\u001b[38;5;241m.\u001b[39m_A \u001b[38;5;241m=\u001b[39m \u001b[38;5;28;43mself\u001b[39;49m\u001b[38;5;241;43m.\u001b[39;49m\u001b[43m_normalize_image_array\u001b[49m\u001b[43m(\u001b[49m\u001b[43mA\u001b[49m\u001b[43m)\u001b[49m\n\u001b[0;32m    724\u001b[0m \u001b[38;5;28mself\u001b[39m\u001b[38;5;241m.\u001b[39m_imcache \u001b[38;5;241m=\u001b[39m \u001b[38;5;28;01mNone\u001b[39;00m\n\u001b[0;32m    725\u001b[0m \u001b[38;5;28mself\u001b[39m\u001b[38;5;241m.\u001b[39mstale \u001b[38;5;241m=\u001b[39m \u001b[38;5;28;01mTrue\u001b[39;00m\n",
      "File \u001b[1;32m~\\.conda\\envs\\corticalanalysis\\Lib\\site-packages\\matplotlib\\image.py:693\u001b[0m, in \u001b[0;36m_ImageBase._normalize_image_array\u001b[1;34m(A)\u001b[0m\n\u001b[0;32m    691\u001b[0m     A \u001b[38;5;241m=\u001b[39m A\u001b[38;5;241m.\u001b[39msqueeze(\u001b[38;5;241m-\u001b[39m\u001b[38;5;241m1\u001b[39m)  \u001b[38;5;66;03m# If just (M, N, 1), assume scalar and apply colormap.\u001b[39;00m\n\u001b[0;32m    692\u001b[0m \u001b[38;5;28;01mif\u001b[39;00m \u001b[38;5;129;01mnot\u001b[39;00m (A\u001b[38;5;241m.\u001b[39mndim \u001b[38;5;241m==\u001b[39m \u001b[38;5;241m2\u001b[39m \u001b[38;5;129;01mor\u001b[39;00m A\u001b[38;5;241m.\u001b[39mndim \u001b[38;5;241m==\u001b[39m \u001b[38;5;241m3\u001b[39m \u001b[38;5;129;01mand\u001b[39;00m A\u001b[38;5;241m.\u001b[39mshape[\u001b[38;5;241m-\u001b[39m\u001b[38;5;241m1\u001b[39m] \u001b[38;5;129;01min\u001b[39;00m [\u001b[38;5;241m3\u001b[39m, \u001b[38;5;241m4\u001b[39m]):\n\u001b[1;32m--> 693\u001b[0m     \u001b[38;5;28;01mraise\u001b[39;00m \u001b[38;5;167;01mTypeError\u001b[39;00m(\u001b[38;5;124mf\u001b[39m\u001b[38;5;124m\"\u001b[39m\u001b[38;5;124mInvalid shape \u001b[39m\u001b[38;5;132;01m{\u001b[39;00mA\u001b[38;5;241m.\u001b[39mshape\u001b[38;5;132;01m}\u001b[39;00m\u001b[38;5;124m for image data\u001b[39m\u001b[38;5;124m\"\u001b[39m)\n\u001b[0;32m    694\u001b[0m \u001b[38;5;28;01mif\u001b[39;00m A\u001b[38;5;241m.\u001b[39mndim \u001b[38;5;241m==\u001b[39m \u001b[38;5;241m3\u001b[39m:\n\u001b[0;32m    695\u001b[0m     \u001b[38;5;66;03m# If the input data has values outside the valid range (after\u001b[39;00m\n\u001b[0;32m    696\u001b[0m     \u001b[38;5;66;03m# normalisation), we issue a warning and then clip X to the bounds\u001b[39;00m\n\u001b[0;32m    697\u001b[0m     \u001b[38;5;66;03m# - otherwise casting wraps extreme values, hiding outliers and\u001b[39;00m\n\u001b[0;32m    698\u001b[0m     \u001b[38;5;66;03m# making reliable interpretation impossible.\u001b[39;00m\n\u001b[0;32m    699\u001b[0m     high \u001b[38;5;241m=\u001b[39m \u001b[38;5;241m255\u001b[39m \u001b[38;5;28;01mif\u001b[39;00m np\u001b[38;5;241m.\u001b[39missubdtype(A\u001b[38;5;241m.\u001b[39mdtype, np\u001b[38;5;241m.\u001b[39minteger) \u001b[38;5;28;01melse\u001b[39;00m \u001b[38;5;241m1\u001b[39m\n",
      "\u001b[1;31mTypeError\u001b[0m: Invalid shape (100, 200, 114, 114) for image data"
     ]
    },
    {
     "data": {
      "image/png": "[encoded data removed]",
      "text/plain": [
       "<Figure size 2000x1000 with 9 Axes>"
      ]
     },
     "metadata": {},
     "output_type": "display_data"
    }
   ],
   "source": [
    "#plot_average_separate_panels(WT_single_fail_avg, filename=\"female_WT_stage2\", flash=\"single\")\n",
    "plot_average_separate_panels(WT_single_fail_avg, \"WT_mice\", \"single\", binary_mask)"
   ]
  },
  {
   "cell_type": "code",
   "execution_count": 15,
   "id": "7433013e-62e4-4caa-99ba-a38810ba39d0",
   "metadata": {},
   "outputs": [
    {
     "name": "stdout",
     "output_type": "stream",
     "text": [
      "<class 'list'>\n",
      "2\n",
      "<class 'numpy.ndarray'>\n"
     ]
    }
   ],
   "source": []
  },
  {
   "cell_type": "markdown",
   "id": "76d8f10e-8688-4cbe-b0ca-7c3117f7b025",
   "metadata": {},
   "source": [
    "# WT single success"
   ]
  },
  {
   "cell_type": "code",
   "execution_count": null,
   "id": "5d5b7370-7457-47b8-af90-e39097def802",
   "metadata": {},
   "outputs": [],
   "source": [
    "WT_averaged = average_panels(days, WT_mice, binary_mask, shared_path, \"single\", \"success\")"
   ]
  },
  {
   "cell_type": "code",
   "execution_count": null,
   "id": "5b7a7151-120e-49f4-873a-72d2785af24c",
   "metadata": {},
   "outputs": [],
   "source": [
    "plot_average_separate_panels(WT_averaged, filename=\"female_WT_stage2\", flash=\"single\")"
   ]
  },
  {
   "cell_type": "markdown",
   "id": "61cd802c-621e-4114-8799-e812ac1b3baa",
   "metadata": {},
   "source": [
    "# HD single"
   ]
  },
  {
   "cell_type": "code",
   "execution_count": null,
   "id": "09e2e4b9-d829-458a-84f9-719906401966",
   "metadata": {},
   "outputs": [],
   "source": [
    "HD_averaged = average_panels(days, HD_mice, binary_mask, shared_path, \"single\")"
   ]
  },
  {
   "cell_type": "code",
   "execution_count": null,
   "id": "3af3d4cc-34c4-4700-93ea-5a75f2b1366d",
   "metadata": {},
   "outputs": [],
   "source": [
    "plot_average_separate_panels(HD_averaged, \"female_HD_stage2\", flash=\"single\")"
   ]
  },
  {
   "cell_type": "markdown",
   "id": "278c56cb-c014-451a-9cc0-dfbbc2d42fcc",
   "metadata": {},
   "source": [
    "# WT double averaged"
   ]
  },
  {
   "cell_type": "code",
   "execution_count": null,
   "id": "9f8ca2a7-0505-443d-b813-68eef8ff1fc2",
   "metadata": {},
   "outputs": [],
   "source": [
    "WT_d_averaged = average_panels(days, WT_mice, binary_mask, shared_path, \"double\")"
   ]
  },
  {
   "cell_type": "code",
   "execution_count": null,
   "id": "39639248-86df-4d0a-9ac1-55e441651b75",
   "metadata": {},
   "outputs": [],
   "source": [
    "plot_average_separate_panels(WT_d_averaged, filename=\"female_WT_stage2\", flash=\"double\")"
   ]
  },
  {
   "cell_type": "code",
   "execution_count": null,
   "id": "8598b954-f907-4134-92be-76954dd1f879",
   "metadata": {},
   "outputs": [],
   "source": [
    "HD_d_averaged = average_panels(days, HD_mice, binary_mask, shared_path, \"double\")"
   ]
  },
  {
   "cell_type": "code",
   "execution_count": null,
   "id": "dc8d4abe-df23-407c-87be-94310392e931",
   "metadata": {},
   "outputs": [],
   "source": [
    "plot_average_separate_panels(HD_d_averaged, filename=\"female_HD_stage2\", flash=\"double\")"
   ]
  },
  {
   "cell_type": "markdown",
   "id": "1e6e6647-c286-4e73-9c83-c4e2d94ea152",
   "metadata": {},
   "source": [
    "# double individual"
   ]
  },
  {
   "cell_type": "code",
   "execution_count": null,
   "id": "afaa96b8-2da4-46e5-be03-dbef2218b789",
   "metadata": {},
   "outputs": [],
   "source": [
    "one_mice = []\n",
    "for mouse in mice:\n",
    "    one_mouse = []\n",
    "    one_mice.append(one_mouse)\n",
    "    for day in days:\n",
    "        folder_path = os.path.join(shared_path, day, \"double\", \"v1\")\n",
    "        file_path = f\"{folder_path}/{mouse}_stage2_{day}_double_v1.pickle\"\n",
    "        try:\n",
    "            one_day = load_one_day(file_path)\n",
    "            one_mouse.append(one_day)\n",
    "        except FileNotFoundError:\n",
    "            one_mouse.append(np.zeros(len(one_day)))\n",
    "            print(f\"File not found for mouse {mouse} on day {day}\")"
   ]
  },
  {
   "cell_type": "code",
   "execution_count": null,
   "id": "d63a365a-da53-4bfb-aec3-f43c36ea6918",
   "metadata": {},
   "outputs": [],
   "source": [
    "for mouse_id, mouse_data in zip(mice, one_mice):\n",
    "    sns.set_theme()\n",
    "    f, ax = plt.subplots(figsize=(9, 6))\n",
    "    sns.heatmap(mouse_data, cmap=\"jet\")\n",
    "    ax.set_yticklabels([str(i) for i in range(1, len(mouse_data) + 1)])\n",
    "    ax.set(xlabel=\"frames (30fps)\", ylabel=\"day\", title=f\"Double Flash - Mouse {mouse_id}\")\n",
    "\n",
    "    # Display the plot\n",
    "    plt.show()"
   ]
  },
  {
   "cell_type": "code",
   "execution_count": null,
   "id": "1b9ec6ce-754b-418e-99f4-6085033bba8e",
   "metadata": {},
   "outputs": [],
   "source": []
  }
 ],
 "metadata": {
  "kernelspec": {
   "display_name": "Python 3 (ipykernel)",
   "language": "python",
   "name": "python3"
  },
  "language_info": {
   "codemirror_mode": {
    "name": "ipython",
    "version": 3
   },
   "file_extension": ".py",
   "mimetype": "text/x-python",
   "name": "python",
   "nbconvert_exporter": "python",
   "pygments_lexer": "ipython3",
   "version": "3.12.1"
  }
 },
 "nbformat": 4,
 "nbformat_minor": 5
}
