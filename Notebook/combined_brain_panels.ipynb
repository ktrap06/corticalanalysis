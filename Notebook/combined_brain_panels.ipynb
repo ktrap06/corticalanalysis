{
 "cells": [
  {
   "cell_type": "code",
   "execution_count": 8,
   "id": "5249d6e5-16b5-4dbb-8b87-a870bc823109",
   "metadata": {},
   "outputs": [
    {
     "name": "stdout",
     "output_type": "stream",
     "text": [
      "Combined image saved: X:/RaymondLab/1_Kai/3_processed_data/8_panels\\female_HD_stage2_double_combined.png\n",
      "Combined image saved: X:/RaymondLab/1_Kai/3_processed_data/8_panels\\female_HD_stage2_single_combined.png\n",
      "Combined image saved: X:/RaymondLab/1_Kai/3_processed_data/8_panels\\female_WT_stage2_double_combined.png\n",
      "Combined image saved: X:/RaymondLab/1_Kai/3_processed_data/8_panels\\female_WT_stage2_single_combined.png\n"
     ]
    }
   ],
   "source": [
    "import os\n",
    "from PIL import Image\n",
    "\n",
    "def combine_images_in_folders(master_folder):\n",
    "    # Iterate through each folder in the master folder\n",
    "    for folder_name in os.listdir(master_folder):\n",
    "        folder_path = os.path.join(master_folder, folder_name)\n",
    "\n",
    "        # Check if it's a directory\n",
    "        if os.path.isdir(folder_path):\n",
    "            images = []\n",
    "            \n",
    "            # Iterate through files in the folder\n",
    "            for filename in os.listdir(folder_path):\n",
    "                if filename.endswith(\".png\"):\n",
    "                    # Extract day number from filename (assuming format includes 'day')\n",
    "                    day_number = int(filename.split('day')[1].split('_')[0])  # Extract the day number\n",
    "                    image_path = os.path.join(folder_path, filename)\n",
    "                    images.append((day_number, Image.open(image_path)))  # Store day number and image\n",
    "            \n",
    "            # Sort images by day number\n",
    "            images.sort(key=lambda x: x[0])\n",
    "\n",
    "            # Combine images vertically\n",
    "            combined_image = Image.new('RGB', (images[0][1].width, sum(image[1].height for image in images[1:])), (255, 255, 255))\n",
    "            y_offset = 0\n",
    "            for _, img in images:\n",
    "                combined_image.paste(img, (0, y_offset))\n",
    "                y_offset += img.height\n",
    "\n",
    "            # Save combined image in the master folder with the folder name\n",
    "            combined_file_path = os.path.join(master_folder, f\"{folder_name}_combined.png\")\n",
    "            combined_image.save(combined_file_path)\n",
    "            print(f\"Combined image saved: {combined_file_path}\")\n",
    "\n",
    "# Usage\n",
    "master_folder_path = \"X:/RaymondLab/1_Kai/3_processed_data/8_panels\"\n",
    "combine_images_in_folders(master_folder_path)\n"
   ]
  },
  {
   "cell_type": "code",
   "execution_count": null,
   "id": "495d7920-d0cb-4c6b-95af-46829bf300ef",
   "metadata": {},
   "outputs": [],
   "source": []
  }
 ],
 "metadata": {
  "kernelspec": {
   "display_name": "Python 3 (ipykernel)",
   "language": "python",
   "name": "python3"
  },
  "language_info": {
   "codemirror_mode": {
    "name": "ipython",
    "version": 3
   },
   "file_extension": ".py",
   "mimetype": "text/x-python",
   "name": "python",
   "nbconvert_exporter": "python",
   "pygments_lexer": "ipython3",
   "version": "3.12.1"
  }
 },
 "nbformat": 4,
 "nbformat_minor": 5
}
