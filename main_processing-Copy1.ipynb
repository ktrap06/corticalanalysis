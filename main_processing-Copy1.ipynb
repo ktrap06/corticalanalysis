{
 "cells": [
  {
   "cell_type": "markdown",
   "id": "715778be-7436-423a-a305-4a10cdaf53ac",
   "metadata": {},
   "source": [
    "# Processing of Raw Calcium Cortical Data into dFF tiff Stacks"
   ]
  },
  {
   "cell_type": "markdown",
   "id": "48bb9404-6059-4157-975f-e63ba5bdb77d",
   "metadata": {},
   "source": [
    "An explanation of each of the functions is in the preprocessing script"
   ]
  },
  {
   "cell_type": "code",
   "execution_count": null,
   "id": "2c9313f8-9624-494d-be0d-a7b9768e4a6e",
   "metadata": {},
   "outputs": [],
   "source": [
    "\"\"\"install the packages to run this code\"\"\"\n",
    "#%pip install matplotlib tifffile scipy tqdm pybaselines opencv-python imagecodecs #plotly #need to do this through conda install"
   ]
  },
  {
   "cell_type": "markdown",
   "id": "e874dec0-d5be-4dd0-9d0c-077f8f27fca0",
   "metadata": {},
   "source": [
    "## Step 1: importing the proper libraries"
   ]
  },
  {
   "cell_type": "markdown",
   "id": "d7441818-240a-441c-b538-e607c9109d13",
   "metadata": {},
   "source": [
    "please note these are all compatible with Python 3.12 as of 2023, Dec, 07"
   ]
  },
  {
   "cell_type": "code",
   "execution_count": 9,
   "id": "81d8ae1e-95ea-4593-88dc-f032bfc9641c",
   "metadata": {},
   "outputs": [],
   "source": [
    "import numpy as np\n",
    "import matplotlib.pyplot as plt\n",
    "import tifffile\n",
    "import cv2\n",
    "from scipy import interpolate\n",
    "from scipy.interpolate import interp1d\n",
    "from scipy.ndimage import gaussian_filter\n",
    "from scipy.signal import cheby1, filtfilt, find_peaks, peak_widths\n",
    "import scipy\n",
    "from tqdm import tqdm\n",
    "%matplotlib inline\n",
    "import plotly.express as px\n",
    "import imagecodecs\n",
    "from matplotlib.animation import FuncAnimation\n",
    "\n",
    "from preprocessing_functions import (load_frames, \n",
    "                                        interactive_plot, \n",
    "                                        plot_frame, \n",
    "                                        temporal_mean, \n",
    "                                        remove_dark_frames, \n",
    "                                        extract_artifacts, \n",
    "                                        interpolate, \n",
    "                                        dff, \n",
    "                                        smoothing, \n",
    "                                        save_tiff,\n",
    "                                        load_txt,\n",
    "                                        extract_txt_flashes,\n",
    "                                        load_masks, \n",
    "                                        avg_trials,\n",
    "                                        extract_v1,\n",
    "                                        animate_figure\n",
    ")"
   ]
  },
  {
   "cell_type": "markdown",
   "id": "b4dc1606-7364-4f53-91cb-50a4d73b2ee2",
   "metadata": {},
   "source": [
    "## Step 2: manual input to the script"
   ]
  },
  {
   "cell_type": "markdown",
   "id": "11b2bd00-58b1-42f5-888a-c63f274d6731",
   "metadata": {},
   "source": [
    "Please insert the file path for the tif stack as a 3d array, as well as the frame you would like to look at as an example frame"
   ]
  },
  {
   "cell_type": "code",
   "execution_count": null,
   "id": "6e5ea2c3-4d8a-49ae-91a0-dad0034de45d",
   "metadata": {},
   "outputs": [],
   "source": [
    "video =\"file_path\"\n",
    "frame_number = #please insert frame number to view"
   ]
  },
  {
   "cell_type": "code",
   "execution_count": null,
   "id": "a4e0977b-0334-4790-ac65-aafdfe909c4c",
   "metadata": {},
   "outputs": [],
   "source": [
    "frames = load_frames(video); #loading in tif stack, this will take a little while"
   ]
  },
  {
   "cell_type": "markdown",
   "id": "c4fad258-7be8-4219-83f6-f0cd28507f99",
   "metadata": {},
   "source": [
    "## Step 3: Plot of Raw Frames and Timecourse"
   ]
  },
  {
   "cell_type": "markdown",
   "id": "c1a88059-ae87-40fb-897f-9d413c6fcabc",
   "metadata": {},
   "source": [
    "### 3A: Plotting raw frame example, to make sure the tif stack loaded in properly.\n"
   ]
  },
  {
   "cell_type": "markdown",
   "id": "a35c30f1-4001-456c-b305-9b139efc8f48",
   "metadata": {},
   "source": [
    "Make sure the frames are a 3d array, two figures will be generated, a greyscaled and colormapped. They are technically identical"
   ]
  },
  {
   "cell_type": "code",
   "execution_count": null,
   "id": "cbc04aa9-f49b-4cea-97ea-1111e8e57ec6",
   "metadata": {},
   "outputs": [],
   "source": [
    "plot_frame(frames, frame_number, cmap = 'grey', color_label = \"Intensity A.U\")\n",
    "plot_frame(frames, frame_number, cmap = 'jet', color_label = \"Intensity A.U\")"
   ]
  },
  {
   "cell_type": "markdown",
   "id": "f12f33f8-cc08-4ad7-b4b7-de312dcb6699",
   "metadata": {},
   "source": [
    "### 3B: Plot of the raw signal mean for each frame over the length of the experiment"
   ]
  },
  {
   "cell_type": "markdown",
   "id": "6253db4d-fe6a-45ff-a906-f17cdc378afc",
   "metadata": {},
   "source": [
    "Mean time course of the raw signal"
   ]
  },
  {
   "cell_type": "code",
   "execution_count": null,
   "id": "8baa6df9-7136-4732-abb1-66ead69283ab",
   "metadata": {},
   "outputs": [],
   "source": [
    "mean_timecourse = temporal_mean(frames);"
   ]
  },
  {
   "cell_type": "markdown",
   "id": "47d17d79-b1fe-4afe-bfa0-d79076f1fd2e",
   "metadata": {},
   "source": [
    "## Step 4: Mean Timecourse without Darkframes at Start and End"
   ]
  },
  {
   "cell_type": "markdown",
   "id": "2150794d-fc62-4bed-ae6e-076e89b546c4",
   "metadata": {},
   "source": [
    "#### 4A: plot of timecourse"
   ]
  },
  {
   "cell_type": "markdown",
   "id": "ea5fb22c-e3ad-48b4-9e9b-2b72f143a61f",
   "metadata": {},
   "source": [
    "#### 4B: number of single and double flashes as well as total number."
   ]
  },
  {
   "cell_type": "code",
   "execution_count": null,
   "id": "d2aedb23-cda8-4a7a-8c81-f03b5447f4e0",
   "metadata": {},
   "outputs": [],
   "source": [
    "darkf_removed = remove_dark_frames(frames, mean_timecourse, 0.35)\n",
    "darkf_removed_timecourse, darkf_removed_frames = darkf_removed[0], darkf_removed[1] #first one is the timecourse with no 3d, second is the 3d array"
   ]
  },
  {
   "cell_type": "markdown",
   "id": "c714a017-69a1-4338-adae-15dc4fd61cd5",
   "metadata": {},
   "source": [
    "!! If the total does not match the single and double combined, check dataset!!"
   ]
  },
  {
   "cell_type": "code",
   "execution_count": null,
   "id": "d51ef8b0-ae66-4610-9825-8f0ec337b175",
   "metadata": {},
   "outputs": [],
   "source": [
    "artifacts = extract_artifacts(darkf_removed_timecourse)\n",
    "artifact_indices, single_indices, double_indices = artifacts[0], artifacts[1], artifacts[2]"
   ]
  },
  {
   "cell_type": "markdown",
   "id": "9ddba270-5991-4857-8411-9c6e2ff27dc3",
   "metadata": {},
   "source": [
    "## Step 5: Artifact Removal and DFF"
   ]
  },
  {
   "cell_type": "markdown",
   "id": "b373a0f4-5e80-40d1-a866-a76c68fed809",
   "metadata": {},
   "source": [
    "### 5A: Plot of mean timecourse with artifacts removed\n"
   ]
  },
  {
   "cell_type": "markdown",
   "id": "5c1b612a-5890-4b23-862d-955ddeeea93e",
   "metadata": {},
   "source": [
    "plot is generated with interpolated frames where the artifacts were, approximately 5 frames"
   ]
  },
  {
   "cell_type": "code",
   "execution_count": null,
   "id": "6f9ee6a1-54c9-4ee1-b352-81a6682add15",
   "metadata": {},
   "outputs": [],
   "source": [
    "no_artifact_timecourse = interpolate(darkf_removed_frames, artifact_indices, 3)"
   ]
  },
  {
   "cell_type": "markdown",
   "id": "30cc48f0-36ee-4be9-9986-81c9e2880a4c",
   "metadata": {},
   "source": [
    "### 5B: Calculating dff\n"
   ]
  },
  {
   "cell_type": "markdown",
   "id": "9bfc2707-0a7c-44b4-a05a-55807fcd8700",
   "metadata": {},
   "source": [
    "Dff calculated from the 3d array without artifacts, darkframes removed, and interpolated the space where the artifacts were. Then plotting of the signal with the 10s moving mean before dff is applied. dff is applied using this moving mean onto the signal"
   ]
  },
  {
   "cell_type": "code",
   "execution_count": null,
   "id": "80367a94-4989-4017-b1be-07b17c258e19",
   "metadata": {},
   "outputs": [],
   "source": [
    "dff_array = dff(no_artifact_timecourse, 10, 30);\n",
    "dff_signal, moving_average = dff_array[0], dff_array[1]"
   ]
  },
  {
   "cell_type": "code",
   "execution_count": null,
   "id": "dcc1b1ee-2c26-4861-98e5-3bf396e50a34",
   "metadata": {},
   "outputs": [],
   "source": [
    "#plotting moving mean and signal\n",
    "fig = px.line(y = [no_artifact_timecourse.mean(axis=(1,2)), moving_average.mean(axis=(1,2))])\n",
    "fig.update_layout(\n",
    "title= \"mean timecourse with moving average overlay\",\n",
    "xaxis=dict(title=\"frame number (30 fps)\"),\n",
    "yaxis=dict(title=\"intensity value (A.U)\"),\n",
    "xaxis_rangeslider_visible=True,\n",
    "showlegend=True)\n",
    "\n",
    "fig.for_each_trace(lambda t: t.update(name=\"Signal\") if \"0\" in t.name else t.update(name=\"10s Moving Average\"))\n",
    "\n",
    "fig.show()"
   ]
  },
  {
   "cell_type": "markdown",
   "id": "3d326b78-0418-4ec7-8f5f-a9268625ca73",
   "metadata": {},
   "source": [
    "#### 5B.1: dff timecourse plot"
   ]
  },
  {
   "cell_type": "code",
   "execution_count": null,
   "id": "a52496cb-b177-482c-a200-d608f38b86bf",
   "metadata": {},
   "outputs": [],
   "source": [
    "interactive_plot(dff_signal.mean(axis=(1,2)), title_label = \"normalized signal\", xaxis_label = \"frame number (30 fps)\", yaxis_label = \"dff\")"
   ]
  },
  {
   "cell_type": "markdown",
   "id": "8e1f296f-4a7f-4ceb-8272-af5dcedd0b86",
   "metadata": {},
   "source": [
    "## Step 6: Smoothing (spatial and temporal)"
   ]
  },
  {
   "cell_type": "markdown",
   "id": "846bdcee-af8a-41b6-a479-4909aa327a96",
   "metadata": {},
   "source": [
    "### 6A: Spatial smoothing"
   ]
  },
  {
   "cell_type": "markdown",
   "id": "12a41258-2f51-49b4-bb0d-4b0e5a5afdfb",
   "metadata": {},
   "source": [
    "#### 6A. 1: plot without spatial smoothing showing the requirement for spatial smoothing"
   ]
  },
  {
   "cell_type": "code",
   "execution_count": null,
   "id": "16ea022a-2707-428c-9fb2-2ea1b692ffdc",
   "metadata": {},
   "outputs": [],
   "source": [
    "#plot of spatial signal without spatial smoothing\n",
    "non_smoothed = plot_frame(dff_signal, frame_number, cmap = \"jet\", color_label = \"dff\")"
   ]
  },
  {
   "cell_type": "markdown",
   "id": "9c4e5f5a-aee4-4509-b335-e122518b4014",
   "metadata": {},
   "source": [
    "#### 6A.2: spatial smoothing applied (gaussian, 3 pixels)"
   ]
  },
  {
   "cell_type": "code",
   "execution_count": null,
   "id": "cd54cb62-0d5f-4073-8952-91d784a00667",
   "metadata": {},
   "outputs": [],
   "source": [
    "#plot of spatial resolution including spatial smoothing\n",
    "smoothed_signal = smoothing(dff_signal)\n",
    "plot_frame(smoothed_signal, 200, cmap = \"jet\", color_label = \"dff\")\n",
    "plt.imshow(smoothed_signal[201])"
   ]
  },
  {
   "cell_type": "markdown",
   "id": "dfbbbabd-83e5-4594-9837-4cb1d49e1774",
   "metadata": {},
   "source": [
    "### 6B: Temporal filtering"
   ]
  },
  {
   "cell_type": "markdown",
   "id": "843a2824-a2be-4a48-aaf0-f8da3f8ba9f2",
   "metadata": {},
   "source": [
    "dff plot with chebyshev type 1 temporal filtering (high and low bandpass filter)"
   ]
  },
  {
   "cell_type": "code",
   "execution_count": null,
   "id": "e9506d90-9f73-41cd-b5e1-f64307476df8",
   "metadata": {},
   "outputs": [],
   "source": [
    "interactive_plot(smoothed_signal.mean(axis=(1,2)), title_label = \"temporally smoothed signal\", xaxis_label = \"frame number (30 fps)\", yaxis_label = \"dff\")"
   ]
  },
  {
   "cell_type": "markdown",
   "id": "60f6a6a6-fd42-4ea0-9ee4-ff0dc0919006",
   "metadata": {},
   "source": [
    "## Step 7: ROI plotting"
   ]
  },
  {
   "cell_type": "markdown",
   "id": "6419c30f-ab3f-4bdd-96fb-1c3acc64aad3",
   "metadata": {},
   "source": [
    "### 7A: ROI full frame"
   ]
  },
  {
   "cell_type": "markdown",
   "id": "b0e9f696-c4ca-4b00-bebf-c822f921da20",
   "metadata": {},
   "source": [
    "#### plotting single flash full frame mean"
   ]
  },
  {
   "cell_type": "code",
   "execution_count": null,
   "id": "9abdd107-1f67-4333-a3d7-b44ad857f2da",
   "metadata": {},
   "outputs": [],
   "source": [
    "full_roi_single = avg_trials(single_indices, smoothed_signal, 'FALSE', 330)"
   ]
  },
  {
   "cell_type": "code",
   "execution_count": null,
   "id": "11acc476-8006-4890-8118-d3a9a9630b2d",
   "metadata": {},
   "outputs": [],
   "source": [
    "interactive_plot(full_roi_single.mean(axis=(1,2)), title_label = \"full frame single average\", xaxis_label = \"frame number (30 fps)\", yaxis_label = \"dff\")"
   ]
  },
  {
   "cell_type": "markdown",
   "id": "1c66f730-ace4-4f9d-be7e-920650fa122d",
   "metadata": {},
   "source": [
    "#### plotting double flash full frame mean"
   ]
  },
  {
   "cell_type": "code",
   "execution_count": null,
   "id": "9439632f-0cba-43e2-b10d-5c2550630e36",
   "metadata": {},
   "outputs": [],
   "source": [
    "full_roi_double = avg_trials(double_indices, smoothed_signal, 'TRUE', 330)"
   ]
  },
  {
   "cell_type": "code",
   "execution_count": null,
   "id": "6dfeea88-64e1-4e49-880e-86d43ef4463f",
   "metadata": {},
   "outputs": [],
   "source": [
    "interactive_plot(full_roi_double.mean(axis=(1,2)), title_label = \"full frame double average\", xaxis_label = \"frame number (30 fps)\", yaxis_label = \"dff\")"
   ]
  },
  {
   "cell_type": "markdown",
   "id": "1a65c207-19ea-4c61-bc87-081300f6dd8e",
   "metadata": {},
   "source": [
    "### 7B: V1 ROI"
   ]
  },
  {
   "cell_type": "markdown",
   "id": "bd8ff284-e0d8-40fc-9792-668cd5156f7b",
   "metadata": {},
   "source": [
    "within all of v1 area at the back of the cortex the peak value at 5 frames is taken as the central point and a 15x15 grid is placed around the peak value"
   ]
  },
  {
   "cell_type": "markdown",
   "id": "37809efe-51c5-4720-b94a-916a2e58ec97",
   "metadata": {},
   "source": [
    "#### plotting single flash just v1 10x10 mean"
   ]
  },
  {
   "cell_type": "code",
   "execution_count": null,
   "id": "56eba90c-d67a-43b5-9526-677dae1fc0a1",
   "metadata": {},
   "outputs": [],
   "source": [
    "v1_area_single = extract_v1(full_roi_single, roi_time = 5, roi_start_x=15, roi_start_y = 85, roi_width=45, roi_height = 45)"
   ]
  },
  {
   "cell_type": "code",
   "execution_count": null,
   "id": "8ebf3352-1b45-45d7-84ef-f324f7d8f4e7",
   "metadata": {},
   "outputs": [],
   "source": [
    "interactive_plot(v1_area_single.mean(axis=(1,2)), title_label = \"v1 single average\", xaxis_label = \"frame number (30 fps)\", yaxis_label = \"dff\")"
   ]
  },
  {
   "cell_type": "code",
   "execution_count": null,
   "id": "caab53a3-0d4a-48d9-914a-1d429a753633",
   "metadata": {},
   "outputs": [],
   "source": [
    "#### plotting double flash just v1 10x10 mean"
   ]
  },
  {
   "cell_type": "code",
   "execution_count": null,
   "id": "76d28659-fdb6-4f5e-b857-de4060184625",
   "metadata": {},
   "outputs": [],
   "source": [
    "v1_area_double = extract_v1(full_roi_double, roi_time = 5, roi_start_x=15, roi_start_y = 85, roi_width=45, roi_height = 45)"
   ]
  },
  {
   "cell_type": "code",
   "execution_count": null,
   "id": "f4ffbbd2-3026-4dfc-abb3-7ac5e7a9d4fb",
   "metadata": {},
   "outputs": [],
   "source": [
    "interactive_plot(v1_area_double.mean(axis=(1,2)), title_label = \"v1 double average\", xaxis_label = \"frame number (30 fps)\", yaxis_label = \"dff\")"
   ]
  },
  {
   "cell_type": "markdown",
   "id": "2c9bfa44-5e61-4e2a-bf4c-290a11f3ae2c",
   "metadata": {},
   "source": [
    "## Step 8: Save the 3D array as a TIFF stack"
   ]
  },
  {
   "cell_type": "markdown",
   "id": "9951a5e7-577e-4af4-82bf-98d147d2fb69",
   "metadata": {},
   "source": [
    "!!! Be sure to write in the file path to where you would like the processed tiff stack stored !!!"
   ]
  },
  {
   "cell_type": "code",
   "execution_count": null,
   "id": "29d29ff4-ee95-456c-97b2-b6ec3f5004a8",
   "metadata": {},
   "outputs": [],
   "source": [
    "masking = load_masks(dff_signal)\n",
    "mask, mask_outline = masking[0], masking[1]\n",
    "\n",
    "masked_smoothed_signal = smoothed_signal*mask\n",
    "masked_full_roi_single = full_roi_single*mask\n",
    "masked_full_roi_double = full_roi_double*mask"
   ]
  },
  {
   "cell_type": "code",
   "execution_count": null,
   "id": "aca4af9c-5b4e-40a3-be65-4aab7b4fdf63",
   "metadata": {},
   "outputs": [],
   "source": [
    "file_path = \"please insert file path\"  #\"X:/Raymond Lab/Kaiiiii/processed_data/dff_regular.tiff\" \n",
    "save_tiff(smoothed_signal, file_path)\n",
    "\n",
    "print(f\"TIFF stack saved at: {file_path}\")"
   ]
  },
  {
   "cell_type": "code",
   "execution_count": null,
   "id": "3f928003-f13b-4d45-b020-7253a3a0e8c7",
   "metadata": {},
   "outputs": [],
   "source": [
    "file_path = \"X:/Raymond Lab/Kaiiiii/processed_data/ #429904_m1_stage2_day2_with_spouts.tiff\"\n",
    "save_tiff(masked_smoothed_signal, file_path)\n",
    "\n",
    "file_path = \"X:/Raymond Lab/Kaiiiii/processed_data/ #429904_m1_stage2_day2_with_spouts_avg_single.tiff\"\n",
    "save_tiff(masked_full_roi_single, file_path)\n",
    "\n",
    "file_path = \"X:/Raymond Lab/Kaiiiii/processed_data/ #429904_m1_stage2_day2_with_spouts_avg_double.tiff\"\n",
    "save_tiff(masked_full_roi_double, file_path)\n",
    "\n",
    "print(f\"TIFF stack saved at: {file_path}\")"
   ]
  },
  {
   "cell_type": "markdown",
   "id": "0b390241-cd2e-478b-9e96-4a8f005bb465",
   "metadata": {},
   "source": [
    "## Step 8: txt files with timestamps of flash location"
   ]
  },
  {
   "cell_type": "code",
   "execution_count": null,
   "id": "289415ab-0ce9-40fe-b0cc-e93fe124e58d",
   "metadata": {},
   "outputs": [],
   "source": [
    "#txt_file_path = \"please insert file path to txt file\" #r\"X:\\Raymond Lab\\Kaiiiii\\pi_data\\2023_dec_two_lights\\413590_m7_stage2_two_lights_2023-12-20_21-04-53_data.txt\""
   ]
  },
  {
   "cell_type": "markdown",
   "id": "632d69c4-174b-4215-9d4f-0d3c805e9065",
   "metadata": {},
   "source": [
    "Extracting the indices where the flashes exist"
   ]
  },
  {
   "cell_type": "code",
   "execution_count": null,
   "id": "eb50c86d-b5ab-4303-93ea-eff72c4ed4d4",
   "metadata": {},
   "outputs": [],
   "source": [
    "#txt_data = load_txt(txt_file_path, 30, 4);\n",
    "#txt_flashes, txt_file, flash_type= txt_data[0], txt_data[1], txt_data[2]"
   ]
  },
  {
   "cell_type": "markdown",
   "id": "7ae57520-910e-423b-a933-e346f0928290",
   "metadata": {},
   "source": [
    "Creating separate arrays for single and double flashes, and checking consistency between artifacts and the txt file"
   ]
  },
  {
   "cell_type": "code",
   "execution_count": null,
   "id": "66775ffc-ceda-4dbc-9d80-977886ecbc43",
   "metadata": {},
   "outputs": [],
   "source": [
    "#allflashes =  extract_txt_flashes(txt_flashes, flash_type, 30, 0.5);\n",
    "#both_flashes, single_txt, double_txt = allflashes[0], allflashes[1], allflashes[2]\n",
    "\n",
    "#flash_check = artifact_indices-both_flashes\n",
    "\n",
    "#print(\"difference between txt file flash location and artifact location:\", flash_check)"
   ]
  },
  {
   "cell_type": "markdown",
   "id": "e048d441-bbbd-4e1c-a5e9-d0fd24d4a6a2",
   "metadata": {},
   "source": [
    "## beta testing Step 9: spatial filtering"
   ]
  },
  {
   "cell_type": "code",
   "execution_count": null,
   "id": "ffd9abcc-b627-4fea-a6ef-e71fcf84a61f",
   "metadata": {},
   "outputs": [],
   "source": [
    "masking = load_masks(dff_signal)\n",
    "mask, mask_outline = masking[0], masking[1]"
   ]
  },
  {
   "cell_type": "code",
   "execution_count": null,
   "id": "3a49d731-e9d3-4190-a9d6-43c0fc68ebda",
   "metadata": {},
   "outputs": [],
   "source": [
    "frame_num = 3000 #set this myself\n",
    "img = dff_signal[frame_num]  #frame I am using to compare\n",
    "plot_frame(frames, frame_num, cmap = 'grey', color_label = \"Intensity A.U\")  #plot raw signal"
   ]
  },
  {
   "cell_type": "markdown",
   "id": "84420afc-f41b-4a71-89fd-457dbed3df04",
   "metadata": {},
   "source": [
    "#### 1. regular gaussian smoothing"
   ]
  },
  {
   "cell_type": "code",
   "execution_count": null,
   "id": "e2a00f10-6874-4e06-95ad-a028a3d97c28",
   "metadata": {},
   "outputs": [],
   "source": [
    "#regular way of smoothing\n",
    "regular = smoothed_signal * mask"
   ]
  },
  {
   "cell_type": "code",
   "execution_count": null,
   "id": "41bba6cf-e92f-4096-afb9-ffc4056db111",
   "metadata": {},
   "outputs": [],
   "source": [
    "print(\"plotting regular\")\n",
    "r_im = plt.imshow(regular[frame_num])\n",
    "plt.colorbar(r_im)\n",
    "save_tiff(regular,  \"X:/Raymond Lab/Kaiiiii/processed_data/dff_regular.tiff\")"
   ]
  },
  {
   "cell_type": "markdown",
   "id": "d728c39e-23ea-42b4-a935-5ab5179cd710",
   "metadata": {},
   "source": [
    "#### 2. steve method: I take out the area of interest and only apply the spatial smoothing on that and them add it back to the image"
   ]
  },
  {
   "cell_type": "code",
   "execution_count": null,
   "id": "9d5ad1d8-4cde-4776-8f50-2f4b68e56c4a",
   "metadata": {},
   "outputs": [],
   "source": [
    "def steve_method(array3d, blur, mask_outline):\n",
    "    \n",
    "    invmask = np.logical_not(mask_outline)\n",
    "\n",
    "    masked = array3d * mask_outline\n",
    "    remaining = array3d * invmask\n",
    "\n",
    "    blurred = gaussian_filter(masked, sigma = blur) #the suggested smoothing, only difference is sigma and radius\n",
    "    \n",
    "    blurred = blurred+remaining\n",
    "    return blurred"
   ]
  },
  {
   "cell_type": "code",
   "execution_count": null,
   "id": "f29de4e7-9b57-4e17-bef5-b8bcf0636589",
   "metadata": {},
   "outputs": [],
   "source": [
    "steve = steve_method(dff_signal, 3, mask_outline)"
   ]
  },
  {
   "cell_type": "code",
   "execution_count": null,
   "id": "ab203ac7-c321-4e97-a280-f4c5bc943b7f",
   "metadata": {},
   "outputs": [],
   "source": [
    "print(\"plotting steve method\")\n",
    "steve *= mask\n",
    "s_im = plt.imshow(steve[frame_num])\n",
    "plt.colorbar(s_im)\n",
    "save_tiff(steve,  \"X:/Raymond Lab/Kaiiiii/processed_data/dff_steve.tiff\")"
   ]
  },
  {
   "cell_type": "markdown",
   "id": "d5e7ac61-f1e7-4538-9303-e811dafd551b",
   "metadata": {},
   "source": [
    "#### 3. dilate method: using grey_dilation from scipy"
   ]
  },
  {
   "cell_type": "code",
   "execution_count": 2,
   "id": "80524aa7-82c2-47fc-8711-88a758bde9bb",
   "metadata": {},
   "outputs": [],
   "source": [
    "def dilate_method(array3d, blur, mask_outline): #havent been able to get this to work on a 3d stack yet\n",
    "    invmask = np.logical_not(mask_outline).astype(int)    \n",
    "    masked = array3d * mask_outline\n",
    "    masked2 = scipy.ndimage.grey_dilation(masked,size=(5,5))\n",
    "    masked2 = masked2 *mask_outline\n",
    "    masked2 = masked + masked2\n",
    "    blurred2 = scipy.ndimage.gaussian_filter(masked2, sigma = blur)\n",
    "    return blurred2"
   ]
  },
  {
   "cell_type": "code",
   "execution_count": null,
   "id": "dc0ac934-bc2c-4ba7-9f54-df57a73a51fa",
   "metadata": {},
   "outputs": [],
   "source": [
    "dilate = dilate_method(img, 3, mask_outline)"
   ]
  },
  {
   "cell_type": "code",
   "execution_count": null,
   "id": "affe543f-0aec-4bb2-95e2-d7285385351c",
   "metadata": {},
   "outputs": [],
   "source": [
    "print(\"plotting dilate method\")\n",
    "dilate *= mask\n",
    "d_im = plt.imshow(dilate)\n",
    "plt.colorbar(d_im)"
   ]
  },
  {
   "cell_type": "markdown",
   "id": "cd13ec1a-6306-4106-8921-ae0d3afd2ee3",
   "metadata": {},
   "source": [
    "#### 4. normalized convoulution"
   ]
  },
  {
   "cell_type": "code",
   "execution_count": null,
   "id": "8a43d71e-231f-40ef-a856-e3cb97d41aeb",
   "metadata": {},
   "outputs": [],
   "source": [
    "def norm_conv(array3d, blur, mask_outline):\n",
    "    mask_float = mask_outline.astype(float)\n",
    "    norm_conv = []\n",
    "    for frame in tqdm(array3d):\n",
    "        filter = gaussian_filter(frame * mask_outline, sigma = blur)\n",
    "        weights = gaussian_filter(mask_outline, sigma = blur)\n",
    "        norm_conv.append(filter/weights)\n",
    "\n",
    "    return norm_conv"
   ]
  },
  {
   "cell_type": "code",
   "execution_count": null,
   "id": "a993746a-665f-4cd0-b3f1-f61b2cfa3f19",
   "metadata": {},
   "outputs": [],
   "source": [
    "norm_conv = norm_conv(dff_signal, 3, mask_outline)"
   ]
  },
  {
   "cell_type": "code",
   "execution_count": null,
   "id": "08dac7b7-5465-4685-a93b-997b76b923f0",
   "metadata": {},
   "outputs": [],
   "source": [
    "print(\"plotting normalized convoulation\")\n",
    "norm_conv *= mask\n",
    "n_im = plt.imshow(norm_conv[frame_num])\n",
    "plt.colorbar(n_im)\n",
    "save_tiff(filter,  \"X:/Raymond Lab/Kaiiiii/processed_data/dff_norm_conv.tiff\")"
   ]
  },
  {
   "cell_type": "markdown",
   "id": "5c8263aa-a131-4eec-a1ea-b905ebc8ea45",
   "metadata": {},
   "source": [
    "#### 5. bilateral filter based denoising"
   ]
  },
  {
   "cell_type": "code",
   "execution_count": null,
   "id": "fa43b274-a4ae-42fe-a293-ad3dc4e66654",
   "metadata": {},
   "outputs": [],
   "source": [
    "bilateral = []\n",
    "for img_frame in tqdm(dff_signal):\n",
    "    bilateral.append(cv2.bilateralFilter(img_frame, 9, 10, 10)) #first value is d, second and third are sigma\n",
    "bilateral_array = np.array(bilateral)"
   ]
  },
  {
   "cell_type": "code",
   "execution_count": null,
   "id": "80098f44-8635-4669-9445-6d10cf940855",
   "metadata": {},
   "outputs": [],
   "source": [
    "#print(\"plotting bilateral filtering\")\n",
    "bilateral_array *= mask\n",
    "b_im = plt.imshow(bilateral_array[frame_num])\n",
    "plt.colorbar(d_im)\n",
    "save_tiff(bilateral_array,  \"X:/Raymond Lab/Kaiiiii/processed_data/dff_bilateral.tiff\")"
   ]
  },
  {
   "cell_type": "code",
   "execution_count": null,
   "id": "c5e85fa9-edcf-4354-a959-61233dd26bfe",
   "metadata": {},
   "outputs": [],
   "source": []
  },
  {
   "cell_type": "code",
   "execution_count": null,
   "id": "af5628c3-2841-4215-bba1-db31c0027439",
   "metadata": {},
   "outputs": [],
   "source": []
  },
  {
   "cell_type": "code",
   "execution_count": null,
   "id": "7a5d2ef5-f8bf-497b-962e-cbc037b19bae",
   "metadata": {},
   "outputs": [],
   "source": []
  },
  {
   "cell_type": "code",
   "execution_count": null,
   "id": "62573477-5fe0-4935-85ea-d850e29aff92",
   "metadata": {},
   "outputs": [],
   "source": []
  }
 ],
 "metadata": {
  "kernelspec": {
   "display_name": "Python 3 (ipykernel)",
   "language": "python",
   "name": "python3"
  },
  "language_info": {
   "codemirror_mode": {
    "name": "ipython",
    "version": 3
   },
   "file_extension": ".py",
   "mimetype": "text/x-python",
   "name": "python",
   "nbconvert_exporter": "python",
   "pygments_lexer": "ipython3",
   "version": "3.12.1"
  }
 },
 "nbformat": 4,
 "nbformat_minor": 5
}
